{
 "cells": [
  {
   "cell_type": "markdown",
   "id": "b2db1a70",
   "metadata": {
    "id": "BVXO510txVmG",
    "papermill": {
     "duration": 0.00465,
     "end_time": "2025-06-16T15:08:59.420019",
     "exception": false,
     "start_time": "2025-06-16T15:08:59.415369",
     "status": "completed"
    },
    "tags": []
   },
   "source": [
    "## Imports and Initialization"
   ]
  },
  {
   "cell_type": "code",
   "execution_count": 1,
   "id": "409e201a",
   "metadata": {
    "execution": {
     "iopub.execute_input": "2025-06-16T15:08:59.428958Z",
     "iopub.status.busy": "2025-06-16T15:08:59.428656Z",
     "iopub.status.idle": "2025-06-16T15:08:59.432550Z",
     "shell.execute_reply": "2025-06-16T15:08:59.431864Z"
    },
    "papermill": {
     "duration": 0.009568,
     "end_time": "2025-06-16T15:08:59.433712",
     "exception": false,
     "start_time": "2025-06-16T15:08:59.424144",
     "status": "completed"
    },
    "tags": []
   },
   "outputs": [],
   "source": [
    "#!pip install sympy==1.12 --force-reinstall"
   ]
  },
  {
   "cell_type": "code",
   "execution_count": 2,
   "id": "e4c1467a",
   "metadata": {
    "execution": {
     "iopub.execute_input": "2025-06-16T15:08:59.441869Z",
     "iopub.status.busy": "2025-06-16T15:08:59.441647Z",
     "iopub.status.idle": "2025-06-16T15:08:59.444466Z",
     "shell.execute_reply": "2025-06-16T15:08:59.443888Z"
    },
    "papermill": {
     "duration": 0.008145,
     "end_time": "2025-06-16T15:08:59.445558",
     "exception": false,
     "start_time": "2025-06-16T15:08:59.437413",
     "status": "completed"
    },
    "tags": []
   },
   "outputs": [],
   "source": [
    "#import torchvision\n",
    "#print(torchvision.__version__)"
   ]
  },
  {
   "cell_type": "code",
   "execution_count": 3,
   "id": "a8ebfaea",
   "metadata": {
    "execution": {
     "iopub.execute_input": "2025-06-16T15:08:59.453277Z",
     "iopub.status.busy": "2025-06-16T15:08:59.453090Z",
     "iopub.status.idle": "2025-06-16T15:09:08.811123Z",
     "shell.execute_reply": "2025-06-16T15:09:08.810339Z"
    },
    "executionInfo": {
     "elapsed": 4,
     "status": "ok",
     "timestamp": 1749998343502,
     "user": {
      "displayName": "TOLGA ERMİŞ",
      "userId": "04127226952438363406"
     },
     "user_tz": -120
    },
    "id": "Jeu144qhWe0J",
    "papermill": {
     "duration": 9.363512,
     "end_time": "2025-06-16T15:09:08.812620",
     "exception": false,
     "start_time": "2025-06-16T15:08:59.449108",
     "status": "completed"
    },
    "tags": []
   },
   "outputs": [],
   "source": [
    "import torch\n",
    "import torch.nn as nn\n",
    "import torch.optim as optim\n",
    "from torch.utils.data import DataLoader\n",
    "from torch.utils.data import sampler\n",
    "\n",
    "from torchvision import datasets\n",
    "import torchvision.transforms as T\n",
    "import torch.nn.functional as F\n",
    "\n",
    "import matplotlib.pyplot as plt\n",
    "import numpy as np"
   ]
  },
  {
   "cell_type": "code",
   "execution_count": 4,
   "id": "41a7cbc1",
   "metadata": {
    "execution": {
     "iopub.execute_input": "2025-06-16T15:09:08.821867Z",
     "iopub.status.busy": "2025-06-16T15:09:08.821141Z",
     "iopub.status.idle": "2025-06-16T15:09:08.907126Z",
     "shell.execute_reply": "2025-06-16T15:09:08.906311Z"
    },
    "executionInfo": {
     "elapsed": 8,
     "status": "ok",
     "timestamp": 1749998343511,
     "user": {
      "displayName": "TOLGA ERMİŞ",
      "userId": "04127226952438363406"
     },
     "user_tz": -120
    },
    "id": "ohs2e87-wkT2",
    "papermill": {
     "duration": 0.091574,
     "end_time": "2025-06-16T15:09:08.908336",
     "exception": false,
     "start_time": "2025-06-16T15:09:08.816762",
     "status": "completed"
    },
    "tags": []
   },
   "outputs": [],
   "source": [
    "DEVICE = torch.device('cuda' if torch.cuda.is_available() else 'cpu')"
   ]
  },
  {
   "cell_type": "markdown",
   "id": "0d394232",
   "metadata": {
    "id": "scbr7x_ZxYPB",
    "papermill": {
     "duration": 0.00361,
     "end_time": "2025-06-16T15:09:08.915822",
     "exception": false,
     "start_time": "2025-06-16T15:09:08.912212",
     "status": "completed"
    },
    "tags": []
   },
   "source": [
    "## Dataset Prep"
   ]
  },
  {
   "cell_type": "code",
   "execution_count": 5,
   "id": "1e567972",
   "metadata": {
    "execution": {
     "iopub.execute_input": "2025-06-16T15:09:08.924610Z",
     "iopub.status.busy": "2025-06-16T15:09:08.923924Z",
     "iopub.status.idle": "2025-06-16T15:09:08.927444Z",
     "shell.execute_reply": "2025-06-16T15:09:08.926755Z"
    },
    "executionInfo": {
     "elapsed": 2,
     "status": "ok",
     "timestamp": 1749998343514,
     "user": {
      "displayName": "TOLGA ERMİŞ",
      "userId": "04127226952438363406"
     },
     "user_tz": -120
    },
    "id": "yCRhjVSrm5IS",
    "papermill": {
     "duration": 0.009458,
     "end_time": "2025-06-16T15:09:08.928893",
     "exception": false,
     "start_time": "2025-06-16T15:09:08.919435",
     "status": "completed"
    },
    "tags": []
   },
   "outputs": [],
   "source": [
    "data_prefix = './datasets'"
   ]
  },
  {
   "cell_type": "code",
   "execution_count": 6,
   "id": "93c961fc",
   "metadata": {
    "execution": {
     "iopub.execute_input": "2025-06-16T15:09:08.937636Z",
     "iopub.status.busy": "2025-06-16T15:09:08.937460Z",
     "iopub.status.idle": "2025-06-16T15:09:15.506831Z",
     "shell.execute_reply": "2025-06-16T15:09:15.506260Z"
    },
    "executionInfo": {
     "elapsed": 2878,
     "status": "ok",
     "timestamp": 1749998346393,
     "user": {
      "displayName": "TOLGA ERMİŞ",
      "userId": "04127226952438363406"
     },
     "user_tz": -120
    },
    "id": "t38j23-mZPIH",
    "papermill": {
     "duration": 6.574799,
     "end_time": "2025-06-16T15:09:15.508114",
     "exception": false,
     "start_time": "2025-06-16T15:09:08.933315",
     "status": "completed"
    },
    "tags": []
   },
   "outputs": [
    {
     "name": "stderr",
     "output_type": "stream",
     "text": [
      "100%|██████████| 169M/169M [00:02<00:00, 84.0MB/s]\n"
     ]
    }
   ],
   "source": [
    "NUM_TRAIN = 49000\n",
    "transform = T.Compose([T.ToTensor(), T.Normalize((0.5, 0.5, 0.5), (0.5, 0.5, 0.5))])\n",
    "\n",
    "cifar100_train = datasets.CIFAR100(data_prefix, train=True, download=True, transform=transform)\n",
    "loader_train = DataLoader(cifar100_train, batch_size=64, sampler=sampler.SubsetRandomSampler(range(NUM_TRAIN)))\n",
    "\n",
    "cifar100_val = datasets.CIFAR100(data_prefix, train=True, download=True, transform=transform)\n",
    "loader_val = DataLoader(cifar100_val, batch_size=64, sampler=sampler.SubsetRandomSampler(range(NUM_TRAIN, 50000)))\n",
    "\n",
    "cifar100_test = datasets.CIFAR100(data_prefix, train=False, download=True, transform=transform)\n",
    "loader_test = DataLoader(cifar100_test, batch_size=64)"
   ]
  },
  {
   "cell_type": "code",
   "execution_count": 7,
   "id": "b022e3e7",
   "metadata": {
    "execution": {
     "iopub.execute_input": "2025-06-16T15:09:15.518385Z",
     "iopub.status.busy": "2025-06-16T15:09:15.518195Z",
     "iopub.status.idle": "2025-06-16T15:09:15.534670Z",
     "shell.execute_reply": "2025-06-16T15:09:15.534043Z"
    },
    "executionInfo": {
     "elapsed": 17,
     "status": "ok",
     "timestamp": 1749998346411,
     "user": {
      "displayName": "TOLGA ERMİŞ",
      "userId": "04127226952438363406"
     },
     "user_tz": -120
    },
    "id": "x-DHA7Xi4DAq",
    "outputId": "e4d90cec-9324-4200-d1cb-1ce730b05a80",
    "papermill": {
     "duration": 0.022666,
     "end_time": "2025-06-16T15:09:15.535808",
     "exception": false,
     "start_time": "2025-06-16T15:09:15.513142",
     "status": "completed"
    },
    "tags": []
   },
   "outputs": [
    {
     "data": {
      "text/plain": [
       "torch.Size([3, 32, 32])"
      ]
     },
     "execution_count": 7,
     "metadata": {},
     "output_type": "execute_result"
    }
   ],
   "source": [
    "cifar100_train[0][0].shape"
   ]
  },
  {
   "cell_type": "markdown",
   "id": "a15ee1b4",
   "metadata": {
    "id": "U0Co_fPO7TOx",
    "papermill": {
     "duration": 0.004259,
     "end_time": "2025-06-16T15:09:15.544556",
     "exception": false,
     "start_time": "2025-06-16T15:09:15.540297",
     "status": "completed"
    },
    "tags": []
   },
   "source": [
    "## CNN Model"
   ]
  },
  {
   "cell_type": "code",
   "execution_count": 8,
   "id": "23002c2e",
   "metadata": {
    "execution": {
     "iopub.execute_input": "2025-06-16T15:09:15.554796Z",
     "iopub.status.busy": "2025-06-16T15:09:15.554237Z",
     "iopub.status.idle": "2025-06-16T15:09:15.557606Z",
     "shell.execute_reply": "2025-06-16T15:09:15.556964Z"
    },
    "executionInfo": {
     "elapsed": 15,
     "status": "ok",
     "timestamp": 1749998346427,
     "user": {
      "displayName": "TOLGA ERMİŞ",
      "userId": "04127226952438363406"
     },
     "user_tz": -120
    },
    "id": "-TYz3AAn9ith",
    "papermill": {
     "duration": 0.009471,
     "end_time": "2025-06-16T15:09:15.558692",
     "exception": false,
     "start_time": "2025-06-16T15:09:15.549221",
     "status": "completed"
    },
    "tags": []
   },
   "outputs": [],
   "source": [
    "# RegDeepCNN(channels_list, pool_list)\n",
    "# Flexible CNN with variable conv layers and optional 2x2 max pooling per layer.\n",
    "# Args:\n",
    "#  - channels_list (list of int): output channels per conv layer.\n",
    "#  - pool_list (list of bool): whether to apply max pooling after each conv.\n",
    "# Constraints:\n",
    "#  - Input: 32x32 RGB images.\n",
    "#  - Max pooling auto-disabled if it reduces spatial size below 4x4.\n",
    "#  - channels_list and pool_list must be same length.\n",
    "#  - Max 3 poolings allowed to keep spatial size ≥4x4.\n",
    "# Example:\n",
    "#  channels = [32,32,64,64]; pools = [False,True,False,True]\n",
    "#  model = RegDeepCNN(channels, pools)\n",
    "#  output = model(torch.randn(1,3,32,32))"
   ]
  },
  {
   "cell_type": "code",
   "execution_count": 9,
   "id": "24fd9ac2",
   "metadata": {
    "execution": {
     "iopub.execute_input": "2025-06-16T15:09:15.568436Z",
     "iopub.status.busy": "2025-06-16T15:09:15.568089Z",
     "iopub.status.idle": "2025-06-16T15:09:15.575385Z",
     "shell.execute_reply": "2025-06-16T15:09:15.574891Z"
    },
    "executionInfo": {
     "elapsed": 14,
     "status": "ok",
     "timestamp": 1749998346443,
     "user": {
      "displayName": "TOLGA ERMİŞ",
      "userId": "04127226952438363406"
     },
     "user_tz": -120
    },
    "id": "fz2xymHp7WOA",
    "papermill": {
     "duration": 0.013173,
     "end_time": "2025-06-16T15:09:15.576370",
     "exception": false,
     "start_time": "2025-06-16T15:09:15.563197",
     "status": "completed"
    },
    "tags": []
   },
   "outputs": [],
   "source": [
    "class RegDeepCNN(nn.Module):\n",
    "    def __init__(self, channels_list, pool_list):\n",
    "        super(RegDeepCNN, self).__init__()\n",
    "\n",
    "        assert len(channels_list) == len(pool_list), \"channels_list and pool_list must be the same length\"\n",
    "        assert sum(pool_list) <= 3, \"Too many poolings; spatial size < 4x4\"\n",
    "\n",
    "        self.convs = nn.ModuleList()\n",
    "        self.bns = nn.ModuleList()\n",
    "        self.pool_bools = pool_list\n",
    "        self.pool = nn.MaxPool2d(kernel_size=2, stride=2)\n",
    "\n",
    "        in_channels = 3  # input RGB images\n",
    "\n",
    "        for out_channels in channels_list:\n",
    "            self.convs.append(nn.Conv2d(in_channels, out_channels, kernel_size=3, stride=1, padding=1))\n",
    "            self.bns.append(nn.BatchNorm2d(out_channels))\n",
    "            in_channels = out_channels\n",
    "\n",
    "        # After conv layers, define a linear layer.\n",
    "        # To calculate the input size for linear layer, you need to know the spatial size after conv+pool layers.\n",
    "        # For example, assuming input 32x32 and each maxpool halves size:\n",
    "        num_pools = sum(pool_list)\n",
    "        final_spatial_size = 32 // (2 ** num_pools)\n",
    "        final_channels = channels_list[-1]\n",
    "        self.fc1 = nn.Linear(final_channels * final_spatial_size * final_spatial_size, 512)\n",
    "        self.fc2 = nn.Linear(512,100)\n",
    "\n",
    "    def forward(self, x):\n",
    "        for conv, bn, do_pool in zip(self.convs, self.bns, self.pool_bools):\n",
    "            x = conv(x)\n",
    "            x = bn(x)\n",
    "            x = F.relu(x)\n",
    "            if do_pool:\n",
    "                x = self.pool(x)\n",
    "\n",
    "        x = F.dropout(x, p=0.5)\n",
    "        x = x.view(x.size(0), -1)\n",
    "        x = self.fc1(x)\n",
    "        x = F.dropout(x, p=0.5)\n",
    "        x = self.fc2(x)\n",
    "        return x\n"
   ]
  },
  {
   "cell_type": "markdown",
   "id": "a35aebdb",
   "metadata": {
    "id": "7yLQDnVzx1hJ",
    "papermill": {
     "duration": 0.004322,
     "end_time": "2025-06-16T15:09:15.585643",
     "exception": false,
     "start_time": "2025-06-16T15:09:15.581321",
     "status": "completed"
    },
    "tags": []
   },
   "source": [
    "## Training"
   ]
  },
  {
   "cell_type": "code",
   "execution_count": 10,
   "id": "d6c12631",
   "metadata": {
    "execution": {
     "iopub.execute_input": "2025-06-16T15:09:15.595456Z",
     "iopub.status.busy": "2025-06-16T15:09:15.595060Z",
     "iopub.status.idle": "2025-06-16T15:09:15.597914Z",
     "shell.execute_reply": "2025-06-16T15:09:15.597385Z"
    },
    "executionInfo": {
     "elapsed": 1,
     "status": "ok",
     "timestamp": 1749998346445,
     "user": {
      "displayName": "TOLGA ERMİŞ",
      "userId": "04127226952438363406"
     },
     "user_tz": -120
    },
    "id": "CvmuDWJMxzsS",
    "papermill": {
     "duration": 0.008838,
     "end_time": "2025-06-16T15:09:15.598821",
     "exception": false,
     "start_time": "2025-06-16T15:09:15.589983",
     "status": "completed"
    },
    "tags": []
   },
   "outputs": [],
   "source": [
    "from tqdm import tqdm"
   ]
  },
  {
   "cell_type": "markdown",
   "id": "c736dd98",
   "metadata": {
    "id": "eflCsz6MyTHV",
    "papermill": {
     "duration": 0.004248,
     "end_time": "2025-06-16T15:09:15.607576",
     "exception": false,
     "start_time": "2025-06-16T15:09:15.603328",
     "status": "completed"
    },
    "tags": []
   },
   "source": [
    "### Accuracy and Loss Calculation Func"
   ]
  },
  {
   "cell_type": "code",
   "execution_count": 11,
   "id": "a1012562",
   "metadata": {
    "execution": {
     "iopub.execute_input": "2025-06-16T15:09:15.617299Z",
     "iopub.status.busy": "2025-06-16T15:09:15.616779Z",
     "iopub.status.idle": "2025-06-16T15:09:15.621237Z",
     "shell.execute_reply": "2025-06-16T15:09:15.620734Z"
    },
    "executionInfo": {
     "elapsed": 13,
     "status": "ok",
     "timestamp": 1749998346460,
     "user": {
      "displayName": "TOLGA ERMİŞ",
      "userId": "04127226952438363406"
     },
     "user_tz": -120
    },
    "id": "14PEsx1JyWqR",
    "papermill": {
     "duration": 0.010333,
     "end_time": "2025-06-16T15:09:15.622251",
     "exception": false,
     "start_time": "2025-06-16T15:09:15.611918",
     "status": "completed"
    },
    "tags": []
   },
   "outputs": [],
   "source": [
    "def check_accuracy_and_loss(loader, model, device):\n",
    "    acc = 0\n",
    "    total_loss = 0\n",
    "    model.eval()\n",
    "    num_correct = 0\n",
    "    num_samples = 0\n",
    "    total_loss = 0\n",
    "    criterion = nn.CrossEntropyLoss()\n",
    "    with torch.no_grad():\n",
    "        for x, y in loader:\n",
    "            x = x.to(device)\n",
    "            y = y.to(device)\n",
    "\n",
    "            scores = model(x)\n",
    "            loss = criterion(scores, y)\n",
    "            total_loss += loss\n",
    "            _, preds = scores.max(1)\n",
    "            num_correct += (preds == y).sum()\n",
    "            num_samples += preds.size(0)\n",
    "    acc = num_correct / num_samples\n",
    "    total_loss /= len(loader)\n",
    "    return acc, total_loss"
   ]
  },
  {
   "cell_type": "markdown",
   "id": "6b8618e9",
   "metadata": {
    "id": "GkHVkJIhyHzk",
    "papermill": {
     "duration": 0.004286,
     "end_time": "2025-06-16T15:09:15.631039",
     "exception": false,
     "start_time": "2025-06-16T15:09:15.626753",
     "status": "completed"
    },
    "tags": []
   },
   "source": [
    "### Training func"
   ]
  },
  {
   "cell_type": "code",
   "execution_count": 12,
   "id": "60b47077",
   "metadata": {
    "execution": {
     "iopub.execute_input": "2025-06-16T15:09:15.640503Z",
     "iopub.status.busy": "2025-06-16T15:09:15.640324Z",
     "iopub.status.idle": "2025-06-16T15:09:15.646484Z",
     "shell.execute_reply": "2025-06-16T15:09:15.646006Z"
    },
    "executionInfo": {
     "elapsed": 47,
     "status": "ok",
     "timestamp": 1749998537962,
     "user": {
      "displayName": "TOLGA ERMİŞ",
      "userId": "04127226952438363406"
     },
     "user_tz": -120
    },
    "id": "NuoNyZXiyEet",
    "papermill": {
     "duration": 0.012122,
     "end_time": "2025-06-16T15:09:15.647503",
     "exception": false,
     "start_time": "2025-06-16T15:09:15.635381",
     "status": "completed"
    },
    "tags": []
   },
   "outputs": [],
   "source": [
    "def train_model(model, loader_train, loader_val, optimizer, criterion, epochs, device):\n",
    "    best_val_loss = float('inf')\n",
    "    best_model_wts = None\n",
    "\n",
    "    model.to(device)\n",
    "\n",
    "    train_accs = []\n",
    "    val_accs = []\n",
    "    train_losses = []\n",
    "    val_losses = []\n",
    "\n",
    "    for epoch in range(epochs):\n",
    "        print(f\"Epoch {epoch + 1}/{epochs}\")\n",
    "        epoch_loss = 0  # Accumulate loss for display\n",
    "        epoch_steps = 0  # Count steps for loss averaging\n",
    "\n",
    "        # Progress bar for training batches\n",
    "        with tqdm(total=len(loader_train), desc=f\"Training Epoch {epoch + 1}\") as pbar:\n",
    "            for x, y in loader_train:\n",
    "                x = x.to(DEVICE)\n",
    "                y = y.to(DEVICE)\n",
    "\n",
    "                scores = model(x)\n",
    "                loss = criterion(scores, y)\n",
    "                optimizer.zero_grad()\n",
    "                loss.backward()\n",
    "                optimizer.step()\n",
    "\n",
    "                # Update progress\n",
    "                epoch_loss += loss.item()\n",
    "                epoch_steps += 1\n",
    "                pbar.set_postfix({\"Batch Loss\": loss.item()})\n",
    "                pbar.update(1)\n",
    "\n",
    "        train_acc, train_loss = check_accuracy_and_loss(loader_train, model, device=DEVICE)\n",
    "        val_acc, val_loss = check_accuracy_and_loss(loader_val, model, device=DEVICE)\n",
    "        train_accs.append(train_acc)\n",
    "        val_accs.append(val_acc)\n",
    "\n",
    "        train_losses.append(train_loss)\n",
    "        val_losses.append(val_loss)\n",
    "\n",
    "        if val_loss < best_val_loss:\n",
    "            best_val_loss = val_loss\n",
    "            best_model_wts = model.state_dict().copy()\n",
    "\n",
    "        print(f\"Epoch {epoch + 1} - Train Loss: {train_loss:.4f}, Train Acc: {train_acc:.2%}, \"\n",
    "              f\"Val Loss: {val_loss:.4f}, Val Acc: {val_acc:.2%}\")\n",
    "\n",
    "    # returning best and final model\n",
    "    final_model_wts = model.state_dict().copy()  # save final weights\n",
    "    model.load_state_dict(best_model_wts)       # load best weights\n",
    "    return best_model_wts, final_model_wts, train_accs, val_accs, train_losses, val_losses"
   ]
  },
  {
   "cell_type": "markdown",
   "id": "892e9fc2",
   "metadata": {
    "id": "5xTnZbTN-YIw",
    "papermill": {
     "duration": 0.004247,
     "end_time": "2025-06-16T15:09:15.656309",
     "exception": false,
     "start_time": "2025-06-16T15:09:15.652062",
     "status": "completed"
    },
    "tags": []
   },
   "source": [
    "### Testing different architecture and hyperparameter configs"
   ]
  },
  {
   "cell_type": "code",
   "execution_count": 13,
   "id": "56960a82",
   "metadata": {
    "execution": {
     "iopub.execute_input": "2025-06-16T15:09:15.665779Z",
     "iopub.status.busy": "2025-06-16T15:09:15.665610Z",
     "iopub.status.idle": "2025-06-16T15:46:08.336813Z",
     "shell.execute_reply": "2025-06-16T15:46:08.336049Z"
    },
    "id": "g5eNhMLe-bu9",
    "outputId": "ebe06d6a-2040-4d44-a3f9-5fb59dce11a4",
    "papermill": {
     "duration": 2214.103358,
     "end_time": "2025-06-16T15:46:09.764031",
     "exception": false,
     "start_time": "2025-06-16T15:09:15.660673",
     "status": "completed"
    },
    "tags": []
   },
   "outputs": [
    {
     "name": "stdout",
     "output_type": "stream",
     "text": [
      "\n",
      "Training model with channels=[64, 128, 128, 256, 256, 512, 1048], pools=[False, True, False, True, True, False, False]\n",
      "Epoch 1/20\n"
     ]
    },
    {
     "name": "stderr",
     "output_type": "stream",
     "text": [
      "Training Epoch 1: 100%|██████████| 766/766 [00:33<00:00, 22.77it/s, Batch Loss=3.94]\n"
     ]
    },
    {
     "name": "stdout",
     "output_type": "stream",
     "text": [
      "Epoch 1 - Train Loss: 3.7880, Train Acc: 10.64%, Val Loss: 3.8641, Val Acc: 9.20%\n",
      "Epoch 2/20\n"
     ]
    },
    {
     "name": "stderr",
     "output_type": "stream",
     "text": [
      "Training Epoch 2: 100%|██████████| 766/766 [00:32<00:00, 23.64it/s, Batch Loss=3.07]\n"
     ]
    },
    {
     "name": "stdout",
     "output_type": "stream",
     "text": [
      "Epoch 2 - Train Loss: 3.1621, Train Acc: 21.36%, Val Loss: 3.2122, Val Acc: 19.80%\n",
      "Epoch 3/20\n"
     ]
    },
    {
     "name": "stderr",
     "output_type": "stream",
     "text": [
      "Training Epoch 3: 100%|██████████| 766/766 [00:32<00:00, 23.37it/s, Batch Loss=2.94]\n"
     ]
    },
    {
     "name": "stdout",
     "output_type": "stream",
     "text": [
      "Epoch 3 - Train Loss: 2.6751, Train Acc: 31.30%, Val Loss: 2.7926, Val Acc: 27.00%\n",
      "Epoch 4/20\n"
     ]
    },
    {
     "name": "stderr",
     "output_type": "stream",
     "text": [
      "Training Epoch 4: 100%|██████████| 766/766 [00:32<00:00, 23.48it/s, Batch Loss=2.58]\n"
     ]
    },
    {
     "name": "stdout",
     "output_type": "stream",
     "text": [
      "Epoch 4 - Train Loss: 2.3716, Train Acc: 37.36%, Val Loss: 2.5841, Val Acc: 32.70%\n",
      "Epoch 5/20\n"
     ]
    },
    {
     "name": "stderr",
     "output_type": "stream",
     "text": [
      "Training Epoch 5: 100%|██████████| 766/766 [00:32<00:00, 23.57it/s, Batch Loss=2.24]\n"
     ]
    },
    {
     "name": "stdout",
     "output_type": "stream",
     "text": [
      "Epoch 5 - Train Loss: 2.0074, Train Acc: 45.53%, Val Loss: 2.3374, Val Acc: 38.00%\n",
      "Epoch 6/20\n"
     ]
    },
    {
     "name": "stderr",
     "output_type": "stream",
     "text": [
      "Training Epoch 6: 100%|██████████| 766/766 [00:32<00:00, 23.57it/s, Batch Loss=1.9]\n"
     ]
    },
    {
     "name": "stdout",
     "output_type": "stream",
     "text": [
      "Epoch 6 - Train Loss: 1.7034, Train Acc: 52.75%, Val Loss: 2.2854, Val Acc: 41.10%\n",
      "Epoch 7/20\n"
     ]
    },
    {
     "name": "stderr",
     "output_type": "stream",
     "text": [
      "Training Epoch 7: 100%|██████████| 766/766 [00:32<00:00, 23.45it/s, Batch Loss=1.55]\n"
     ]
    },
    {
     "name": "stdout",
     "output_type": "stream",
     "text": [
      "Epoch 7 - Train Loss: 1.4294, Train Acc: 59.31%, Val Loss: 2.2077, Val Acc: 42.60%\n",
      "Epoch 8/20\n"
     ]
    },
    {
     "name": "stderr",
     "output_type": "stream",
     "text": [
      "Training Epoch 8: 100%|██████████| 766/766 [00:32<00:00, 23.52it/s, Batch Loss=1.66]\n"
     ]
    },
    {
     "name": "stdout",
     "output_type": "stream",
     "text": [
      "Epoch 8 - Train Loss: 1.1817, Train Acc: 65.71%, Val Loss: 2.2333, Val Acc: 42.30%\n",
      "Epoch 9/20\n"
     ]
    },
    {
     "name": "stderr",
     "output_type": "stream",
     "text": [
      "Training Epoch 9: 100%|██████████| 766/766 [00:32<00:00, 23.46it/s, Batch Loss=1.22]\n"
     ]
    },
    {
     "name": "stdout",
     "output_type": "stream",
     "text": [
      "Epoch 9 - Train Loss: 0.9860, Train Acc: 70.60%, Val Loss: 2.3619, Val Acc: 45.50%\n",
      "Epoch 10/20\n"
     ]
    },
    {
     "name": "stderr",
     "output_type": "stream",
     "text": [
      "Training Epoch 10: 100%|██████████| 766/766 [00:32<00:00, 23.60it/s, Batch Loss=1.16]\n"
     ]
    },
    {
     "name": "stdout",
     "output_type": "stream",
     "text": [
      "Epoch 10 - Train Loss: 0.7736, Train Acc: 76.33%, Val Loss: 2.4152, Val Acc: 43.90%\n",
      "Epoch 11/20\n"
     ]
    },
    {
     "name": "stderr",
     "output_type": "stream",
     "text": [
      "Training Epoch 11: 100%|██████████| 766/766 [00:32<00:00, 23.48it/s, Batch Loss=0.561]\n"
     ]
    },
    {
     "name": "stdout",
     "output_type": "stream",
     "text": [
      "Epoch 11 - Train Loss: 0.6163, Train Acc: 80.90%, Val Loss: 2.5540, Val Acc: 44.20%\n",
      "Epoch 12/20\n"
     ]
    },
    {
     "name": "stderr",
     "output_type": "stream",
     "text": [
      "Training Epoch 12: 100%|██████████| 766/766 [00:32<00:00, 23.47it/s, Batch Loss=1.05]\n"
     ]
    },
    {
     "name": "stdout",
     "output_type": "stream",
     "text": [
      "Epoch 12 - Train Loss: 0.4960, Train Acc: 84.47%, Val Loss: 2.7973, Val Acc: 46.00%\n",
      "Epoch 13/20\n"
     ]
    },
    {
     "name": "stderr",
     "output_type": "stream",
     "text": [
      "Training Epoch 13: 100%|██████████| 766/766 [00:32<00:00, 23.61it/s, Batch Loss=0.702]\n"
     ]
    },
    {
     "name": "stdout",
     "output_type": "stream",
     "text": [
      "Epoch 13 - Train Loss: 0.4298, Train Acc: 86.56%, Val Loss: 2.8774, Val Acc: 43.40%\n",
      "Epoch 14/20\n"
     ]
    },
    {
     "name": "stderr",
     "output_type": "stream",
     "text": [
      "Training Epoch 14: 100%|██████████| 766/766 [00:32<00:00, 23.63it/s, Batch Loss=0.433]\n"
     ]
    },
    {
     "name": "stdout",
     "output_type": "stream",
     "text": [
      "Epoch 14 - Train Loss: 0.3922, Train Acc: 87.59%, Val Loss: 3.0597, Val Acc: 46.60%\n",
      "Epoch 15/20\n"
     ]
    },
    {
     "name": "stderr",
     "output_type": "stream",
     "text": [
      "Training Epoch 15: 100%|██████████| 766/766 [00:32<00:00, 23.64it/s, Batch Loss=0.621]\n"
     ]
    },
    {
     "name": "stdout",
     "output_type": "stream",
     "text": [
      "Epoch 15 - Train Loss: 0.3417, Train Acc: 89.31%, Val Loss: 3.2617, Val Acc: 45.70%\n",
      "Epoch 16/20\n"
     ]
    },
    {
     "name": "stderr",
     "output_type": "stream",
     "text": [
      "Training Epoch 16: 100%|██████████| 766/766 [00:32<00:00, 23.75it/s, Batch Loss=0.608]\n"
     ]
    },
    {
     "name": "stdout",
     "output_type": "stream",
     "text": [
      "Epoch 16 - Train Loss: 0.3234, Train Acc: 89.87%, Val Loss: 3.2086, Val Acc: 47.40%\n",
      "Epoch 17/20\n"
     ]
    },
    {
     "name": "stderr",
     "output_type": "stream",
     "text": [
      "Training Epoch 17: 100%|██████████| 766/766 [00:32<00:00, 23.67it/s, Batch Loss=0.345]\n"
     ]
    },
    {
     "name": "stdout",
     "output_type": "stream",
     "text": [
      "Epoch 17 - Train Loss: 0.2736, Train Acc: 91.35%, Val Loss: 3.3591, Val Acc: 43.30%\n",
      "Epoch 18/20\n"
     ]
    },
    {
     "name": "stderr",
     "output_type": "stream",
     "text": [
      "Training Epoch 18: 100%|██████████| 766/766 [00:32<00:00, 23.53it/s, Batch Loss=0.582]\n"
     ]
    },
    {
     "name": "stdout",
     "output_type": "stream",
     "text": [
      "Epoch 18 - Train Loss: 0.2669, Train Acc: 91.61%, Val Loss: 3.2595, Val Acc: 47.60%\n",
      "Epoch 19/20\n"
     ]
    },
    {
     "name": "stderr",
     "output_type": "stream",
     "text": [
      "Training Epoch 19: 100%|██████████| 766/766 [00:32<00:00, 23.64it/s, Batch Loss=0.186]\n"
     ]
    },
    {
     "name": "stdout",
     "output_type": "stream",
     "text": [
      "Epoch 19 - Train Loss: 0.2583, Train Acc: 91.91%, Val Loss: 3.5114, Val Acc: 44.90%\n",
      "Epoch 20/20\n"
     ]
    },
    {
     "name": "stderr",
     "output_type": "stream",
     "text": [
      "Training Epoch 20: 100%|██████████| 766/766 [00:32<00:00, 23.67it/s, Batch Loss=0.34]\n"
     ]
    },
    {
     "name": "stdout",
     "output_type": "stream",
     "text": [
      "Epoch 20 - Train Loss: 0.2606, Train Acc: 91.82%, Val Loss: 3.5578, Val Acc: 45.80%\n",
      "\n",
      "Training model with channels=[64, 64, 128, 128, 256, 256, 512, 1028, 2048], pools=[False, True, False, True, False, False, True, False, False]\n",
      "Epoch 1/20\n"
     ]
    },
    {
     "name": "stderr",
     "output_type": "stream",
     "text": [
      "Training Epoch 1: 100%|██████████| 766/766 [00:54<00:00, 13.95it/s, Batch Loss=3.85]\n"
     ]
    },
    {
     "name": "stdout",
     "output_type": "stream",
     "text": [
      "Epoch 1 - Train Loss: 4.1288, Train Acc: 5.80%, Val Loss: 4.1826, Val Acc: 5.60%\n",
      "Epoch 2/20\n"
     ]
    },
    {
     "name": "stderr",
     "output_type": "stream",
     "text": [
      "Training Epoch 2: 100%|██████████| 766/766 [00:54<00:00, 14.18it/s, Batch Loss=3.46]\n"
     ]
    },
    {
     "name": "stdout",
     "output_type": "stream",
     "text": [
      "Epoch 2 - Train Loss: 3.5892, Train Acc: 13.75%, Val Loss: 3.6417, Val Acc: 12.70%\n",
      "Epoch 3/20\n"
     ]
    },
    {
     "name": "stderr",
     "output_type": "stream",
     "text": [
      "Training Epoch 3: 100%|██████████| 766/766 [00:54<00:00, 14.19it/s, Batch Loss=3.12]\n"
     ]
    },
    {
     "name": "stdout",
     "output_type": "stream",
     "text": [
      "Epoch 3 - Train Loss: 3.2335, Train Acc: 20.44%, Val Loss: 3.2958, Val Acc: 19.30%\n",
      "Epoch 4/20\n"
     ]
    },
    {
     "name": "stderr",
     "output_type": "stream",
     "text": [
      "Training Epoch 4: 100%|██████████| 766/766 [00:53<00:00, 14.19it/s, Batch Loss=3.14]\n"
     ]
    },
    {
     "name": "stdout",
     "output_type": "stream",
     "text": [
      "Epoch 4 - Train Loss: 2.9712, Train Acc: 25.66%, Val Loss: 3.1047, Val Acc: 24.20%\n",
      "Epoch 5/20\n"
     ]
    },
    {
     "name": "stderr",
     "output_type": "stream",
     "text": [
      "Training Epoch 5: 100%|██████████| 766/766 [00:53<00:00, 14.23it/s, Batch Loss=2.6]\n"
     ]
    },
    {
     "name": "stdout",
     "output_type": "stream",
     "text": [
      "Epoch 5 - Train Loss: 2.5600, Train Acc: 34.12%, Val Loss: 2.7918, Val Acc: 28.70%\n",
      "Epoch 6/20\n"
     ]
    },
    {
     "name": "stderr",
     "output_type": "stream",
     "text": [
      "Training Epoch 6: 100%|██████████| 766/766 [00:53<00:00, 14.19it/s, Batch Loss=2.84]\n"
     ]
    },
    {
     "name": "stdout",
     "output_type": "stream",
     "text": [
      "Epoch 6 - Train Loss: 2.2464, Train Acc: 40.36%, Val Loss: 2.6067, Val Acc: 33.30%\n",
      "Epoch 7/20\n"
     ]
    },
    {
     "name": "stderr",
     "output_type": "stream",
     "text": [
      "Training Epoch 7: 100%|██████████| 766/766 [00:53<00:00, 14.23it/s, Batch Loss=2.02]\n"
     ]
    },
    {
     "name": "stdout",
     "output_type": "stream",
     "text": [
      "Epoch 7 - Train Loss: 1.9599, Train Acc: 46.88%, Val Loss: 2.4656, Val Acc: 37.40%\n",
      "Epoch 8/20\n"
     ]
    },
    {
     "name": "stderr",
     "output_type": "stream",
     "text": [
      "Training Epoch 8: 100%|██████████| 766/766 [00:53<00:00, 14.22it/s, Batch Loss=1.99]\n"
     ]
    },
    {
     "name": "stdout",
     "output_type": "stream",
     "text": [
      "Epoch 8 - Train Loss: 1.6985, Train Acc: 52.98%, Val Loss: 2.3440, Val Acc: 39.70%\n",
      "Epoch 9/20\n"
     ]
    },
    {
     "name": "stderr",
     "output_type": "stream",
     "text": [
      "Training Epoch 9: 100%|██████████| 766/766 [00:53<00:00, 14.23it/s, Batch Loss=1.77]\n"
     ]
    },
    {
     "name": "stdout",
     "output_type": "stream",
     "text": [
      "Epoch 9 - Train Loss: 1.4887, Train Acc: 57.93%, Val Loss: 2.4206, Val Acc: 41.10%\n",
      "Epoch 10/20\n"
     ]
    },
    {
     "name": "stderr",
     "output_type": "stream",
     "text": [
      "Training Epoch 10: 100%|██████████| 766/766 [00:53<00:00, 14.23it/s, Batch Loss=1.52]\n"
     ]
    },
    {
     "name": "stdout",
     "output_type": "stream",
     "text": [
      "Epoch 10 - Train Loss: 1.1391, Train Acc: 67.11%, Val Loss: 2.3914, Val Acc: 40.90%\n",
      "Epoch 11/20\n"
     ]
    },
    {
     "name": "stderr",
     "output_type": "stream",
     "text": [
      "Training Epoch 11: 100%|██████████| 766/766 [00:53<00:00, 14.23it/s, Batch Loss=1.31]\n"
     ]
    },
    {
     "name": "stdout",
     "output_type": "stream",
     "text": [
      "Epoch 11 - Train Loss: 0.9074, Train Acc: 73.18%, Val Loss: 2.5849, Val Acc: 40.50%\n",
      "Epoch 12/20\n"
     ]
    },
    {
     "name": "stderr",
     "output_type": "stream",
     "text": [
      "Training Epoch 12: 100%|██████████| 766/766 [00:53<00:00, 14.22it/s, Batch Loss=1.29]\n"
     ]
    },
    {
     "name": "stdout",
     "output_type": "stream",
     "text": [
      "Epoch 12 - Train Loss: 0.7353, Train Acc: 77.90%, Val Loss: 2.7290, Val Acc: 41.70%\n",
      "Epoch 13/20\n"
     ]
    },
    {
     "name": "stderr",
     "output_type": "stream",
     "text": [
      "Training Epoch 13: 100%|██████████| 766/766 [00:53<00:00, 14.24it/s, Batch Loss=1.26]\n"
     ]
    },
    {
     "name": "stdout",
     "output_type": "stream",
     "text": [
      "Epoch 13 - Train Loss: 0.6189, Train Acc: 81.12%, Val Loss: 2.9672, Val Acc: 41.00%\n",
      "Epoch 14/20\n"
     ]
    },
    {
     "name": "stderr",
     "output_type": "stream",
     "text": [
      "Training Epoch 14: 100%|██████████| 766/766 [00:53<00:00, 14.22it/s, Batch Loss=0.47]\n"
     ]
    },
    {
     "name": "stdout",
     "output_type": "stream",
     "text": [
      "Epoch 14 - Train Loss: 0.5019, Train Acc: 84.77%, Val Loss: 3.0733, Val Acc: 41.70%\n",
      "Epoch 15/20\n"
     ]
    },
    {
     "name": "stderr",
     "output_type": "stream",
     "text": [
      "Training Epoch 15: 100%|██████████| 766/766 [00:53<00:00, 14.24it/s, Batch Loss=0.565]\n"
     ]
    },
    {
     "name": "stdout",
     "output_type": "stream",
     "text": [
      "Epoch 15 - Train Loss: 0.3844, Train Acc: 88.13%, Val Loss: 3.1491, Val Acc: 42.00%\n",
      "Epoch 16/20\n"
     ]
    },
    {
     "name": "stderr",
     "output_type": "stream",
     "text": [
      "Training Epoch 16: 100%|██████████| 766/766 [00:53<00:00, 14.25it/s, Batch Loss=0.607]\n"
     ]
    },
    {
     "name": "stdout",
     "output_type": "stream",
     "text": [
      "Epoch 16 - Train Loss: 0.3307, Train Acc: 89.58%, Val Loss: 3.4821, Val Acc: 43.40%\n",
      "Epoch 17/20\n"
     ]
    },
    {
     "name": "stderr",
     "output_type": "stream",
     "text": [
      "Training Epoch 17: 100%|██████████| 766/766 [00:53<00:00, 14.25it/s, Batch Loss=0.832]\n"
     ]
    },
    {
     "name": "stdout",
     "output_type": "stream",
     "text": [
      "Epoch 17 - Train Loss: 0.3147, Train Acc: 90.18%, Val Loss: 3.5966, Val Acc: 41.00%\n",
      "Epoch 18/20\n"
     ]
    },
    {
     "name": "stderr",
     "output_type": "stream",
     "text": [
      "Training Epoch 18: 100%|██████████| 766/766 [00:53<00:00, 14.28it/s, Batch Loss=0.569]\n"
     ]
    },
    {
     "name": "stdout",
     "output_type": "stream",
     "text": [
      "Epoch 18 - Train Loss: 0.2759, Train Acc: 91.41%, Val Loss: 3.5301, Val Acc: 43.60%\n",
      "Epoch 19/20\n"
     ]
    },
    {
     "name": "stderr",
     "output_type": "stream",
     "text": [
      "Training Epoch 19: 100%|██████████| 766/766 [00:53<00:00, 14.26it/s, Batch Loss=0.195]\n"
     ]
    },
    {
     "name": "stdout",
     "output_type": "stream",
     "text": [
      "Epoch 19 - Train Loss: 0.2623, Train Acc: 91.84%, Val Loss: 3.8173, Val Acc: 41.90%\n",
      "Epoch 20/20\n"
     ]
    },
    {
     "name": "stderr",
     "output_type": "stream",
     "text": [
      "Training Epoch 20: 100%|██████████| 766/766 [00:53<00:00, 14.22it/s, Batch Loss=0.417]\n"
     ]
    },
    {
     "name": "stdout",
     "output_type": "stream",
     "text": [
      "Epoch 20 - Train Loss: 0.2651, Train Acc: 91.91%, Val Loss: 4.1022, Val Acc: 41.40%\n"
     ]
    }
   ],
   "source": [
    "import os\n",
    "output_dir = \"/kaggle/working\"\n",
    "\n",
    "lr = 1e-3\n",
    "epochs = 20\n",
    "\n",
    "configs = [\n",
    "    # deeper network, max allowed pooling\n",
    "    #{'name': 'model-1', 'channels': [64, 128, 256, 256], 'pools': [False, True, True, True]},\n",
    "    # deeper network, max allowed pooling\n",
    "    #{'name': 'model-2','channels': [64, 128, 256, 256], 'pools': [False, True, False, True]},\n",
    "    # deeper network, max allowed pooling\n",
    "    #{'name': 'model-3','channels': [64, 128, 128, 256], 'pools': [False, True, False, True]},\n",
    "    # deeper network, max allowed pooling\n",
    "    #{'name': 'model-4','channels': [64, 64, 128, 128, 256], 'pools': [False, True, False, True, False]}\n",
    "    \n",
    "    # deeper network, max allowed pooling\n",
    "    {'name': 'model-1','channels': [64, 128, 128, 256, 256, 512, 1048], 'pools': [False, True, False, True, True, False, False]},\n",
    "    # deeper network, max allowed pooling\n",
    "    {'name': 'model-2','channels': [64, 64, 128, 128, 256, 256, 512, 1028, 2048], 'pools': [False, True, False, True, False, False, True, False, False]}\n",
    "]\n",
    "\n",
    "results = []\n",
    "\n",
    "for mc in configs:\n",
    "    print(f\"\\nTraining model with channels={mc['channels']}, pools={mc['pools']}\")\n",
    "\n",
    "    model = RegDeepCNN(mc['channels'], mc['pools'])\n",
    "    optimizer = optim.Adam(model.parameters(), lr=lr)\n",
    "    criterion = torch.nn.CrossEntropyLoss()\n",
    "\n",
    "    # Adjust train_model to return best and final weights plus metrics\n",
    "    best_wts, final_wts, train_accs, val_accs, train_losses, val_losses = train_model(\n",
    "        model, loader_train, loader_val, optimizer, criterion, epochs=epochs, device=DEVICE)\n",
    "\n",
    "    best_path = os.path.join(output_dir, f\"model_{mc['name']}_best.pth\")\n",
    "    final_path = os.path.join(output_dir, f\"model_{mc['name']}_final.pth\")\n",
    "    \n",
    "    torch.save(best_wts, best_path)\n",
    "    torch.save(final_wts, final_path)\n",
    "\n",
    "    results.append({\n",
    "        'name': mc['name'],\n",
    "        'channels': mc['channels'],\n",
    "        'pools': mc['pools'],\n",
    "        'train_accs': train_accs,\n",
    "        'val_accs': val_accs,\n",
    "        'train_losses': train_losses,\n",
    "        'val_losses': val_losses,\n",
    "        'best_weights': best_wts,\n",
    "        'final_weights': final_wts,\n",
    "    })"
   ]
  },
  {
   "cell_type": "code",
   "execution_count": 14,
   "id": "4990ed3c",
   "metadata": {
    "execution": {
     "iopub.execute_input": "2025-06-16T15:46:13.487560Z",
     "iopub.status.busy": "2025-06-16T15:46:13.487292Z",
     "iopub.status.idle": "2025-06-16T15:46:13.494529Z",
     "shell.execute_reply": "2025-06-16T15:46:13.493979Z"
    },
    "id": "loTxaczVDl4A",
    "papermill": {
     "duration": 1.889198,
     "end_time": "2025-06-16T15:46:13.495557",
     "exception": false,
     "start_time": "2025-06-16T15:46:11.606359",
     "status": "completed"
    },
    "tags": []
   },
   "outputs": [],
   "source": [
    "def plot_results(results):\n",
    "    plt.figure(figsize=(10, 6))\n",
    "\n",
    "    for r in results:\n",
    "        label = f\"C: {r['name']}\"\n",
    "        train_losses = [l.item() if torch.is_tensor(l) else l for l in r['train_losses']]\n",
    "        val_losses = [l.item() if torch.is_tensor(l) else l for l in r['val_losses']]\n",
    "        plt.plot(train_losses, label=f\"{label} - Train\")\n",
    "        plt.plot(val_losses, linestyle='--', label=f\"{label} - Val\")\n",
    "    plt.title(\"Losses\")\n",
    "    plt.xlabel(\"Epoch\")\n",
    "    plt.ylabel(\"Loss\")\n",
    "    plt.legend(bbox_to_anchor=(1.05, 1), loc='upper left')\n",
    "    plt.show()\n",
    "\n",
    "    plt.figure(figsize=(10, 6))\n",
    "    for r in results:\n",
    "        label = f\"C: {r['name']}\"\n",
    "        train_accs = [a.item() if torch.is_tensor(a) else a for a in r['train_accs']]\n",
    "        val_accs = [a.item() if torch.is_tensor(a) else a for a in r['val_accs']]\n",
    "        plt.plot(train_accs, label=f\"{label} - Train\")\n",
    "        plt.plot(val_accs, linestyle='--', label=f\"{label} - Val\")\n",
    "    plt.title(\"Accuracies\")\n",
    "    plt.xlabel(\"Epoch\")\n",
    "    plt.ylabel(\"Accuracy\")\n",
    "    plt.legend(bbox_to_anchor=(1.05, 1), loc='upper left')\n",
    "    plt.show()\n"
   ]
  },
  {
   "cell_type": "code",
   "execution_count": 15,
   "id": "b08e83e8",
   "metadata": {
    "execution": {
     "iopub.execute_input": "2025-06-16T15:46:17.190660Z",
     "iopub.status.busy": "2025-06-16T15:46:17.189879Z",
     "iopub.status.idle": "2025-06-16T15:46:17.195928Z",
     "shell.execute_reply": "2025-06-16T15:46:17.195351Z"
    },
    "papermill": {
     "duration": 1.893851,
     "end_time": "2025-06-16T15:46:17.196949",
     "exception": false,
     "start_time": "2025-06-16T15:46:15.303098",
     "status": "completed"
    },
    "tags": []
   },
   "outputs": [],
   "source": [
    "def evaluate_best_models(results, loader_train, loader_val, loader_test, device):\n",
    "    print(\"=== Final Evaluation with Best Weights ===\")\n",
    "    for r in results:\n",
    "        model = RegDeepCNN(r['channels'], r['pools']).to(device)\n",
    "        model.load_state_dict(r['best_weights'])\n",
    "\n",
    "        train_acc, _ = check_accuracy_and_loss(loader_train, model, device)\n",
    "        val_acc, _ = check_accuracy_and_loss(loader_val, model, device)\n",
    "        test_acc, _ = check_accuracy_and_loss(loader_test, model, device)\n",
    "\n",
    "        print(f\"Channels: {r['channels']}, Pools: {r['pools']}\")\n",
    "        print(f\"  Train Acc: {train_acc:.2%}, Val Acc: {val_acc:.2%}, Test Acc: {test_acc:.2%}\\n\")\n"
   ]
  },
  {
   "cell_type": "code",
   "execution_count": 16,
   "id": "2f8fa249",
   "metadata": {
    "execution": {
     "iopub.execute_input": "2025-06-16T15:46:20.843292Z",
     "iopub.status.busy": "2025-06-16T15:46:20.842516Z",
     "iopub.status.idle": "2025-06-16T15:46:51.236814Z",
     "shell.execute_reply": "2025-06-16T15:46:51.236027Z"
    },
    "papermill": {
     "duration": 34.112809,
     "end_time": "2025-06-16T15:46:53.118739",
     "exception": false,
     "start_time": "2025-06-16T15:46:19.005930",
     "status": "completed"
    },
    "tags": []
   },
   "outputs": [
    {
     "data": {
      "image/png": "[encoded data removed]",
      "text/plain": [
       "<Figure size 1000x600 with 1 Axes>"
      ]
     },
     "metadata": {},
     "output_type": "display_data"
    },
    {
     "data": {
      "image/png": "[encoded data removed]",
      "text/plain": [
       "<Figure size 1000x600 with 1 Axes>"
      ]
     },
     "metadata": {},
     "output_type": "display_data"
    },
    {
     "name": "stdout",
     "output_type": "stream",
     "text": [
      "=== Final Evaluation with Best Weights ===\n",
      "Channels: [64, 128, 128, 256, 256, 512, 1048], Pools: [False, True, False, True, True, False, False]\n",
      "  Train Acc: 91.95%, Val Acc: 43.60%, Test Acc: 45.86%\n",
      "\n",
      "Channels: [64, 64, 128, 128, 256, 256, 512, 1028, 2048], Pools: [False, True, False, True, False, False, True, False, False]\n",
      "  Train Acc: 92.01%, Val Acc: 41.40%, Test Acc: 41.94%\n",
      "\n"
     ]
    }
   ],
   "source": [
    "plot_results(results)\n",
    "evaluate_best_models(results, loader_train, loader_val, loader_test, DEVICE)"
   ]
  },
  {
   "cell_type": "code",
   "execution_count": 17,
   "id": "07478b3b",
   "metadata": {
    "execution": {
     "iopub.execute_input": "2025-06-16T15:46:56.893003Z",
     "iopub.status.busy": "2025-06-16T15:46:56.892707Z",
     "iopub.status.idle": "2025-06-16T15:46:58.550309Z",
     "shell.execute_reply": "2025-06-16T15:46:58.549598Z"
    },
    "papermill": {
     "duration": 3.608205,
     "end_time": "2025-06-16T15:46:58.551436",
     "exception": false,
     "start_time": "2025-06-16T15:46:54.943231",
     "status": "completed"
    },
    "tags": []
   },
   "outputs": [
    {
     "name": "stdout",
     "output_type": "stream",
     "text": [
      "Model Name                                      Channels                                                        Pools\n",
      "   model-1           [64, 128, 128, 256, 256, 512, 1048]               [False, True, False, True, True, False, False]\n",
      "   model-2 [64, 64, 128, 128, 256, 256, 512, 1028, 2048] [False, True, False, True, False, False, True, False, False]\n"
     ]
    }
   ],
   "source": [
    "import pandas as pd\n",
    "\n",
    "# Create DataFrame with selected columns\n",
    "summary_df = pd.DataFrame([\n",
    "    {\n",
    "        'Model Name': r['name'],\n",
    "        'Channels': r['channels'],\n",
    "        'Pools': r['pools']\n",
    "    }\n",
    "    for r in results\n",
    "])\n",
    "\n",
    "# Display as a table\n",
    "print(summary_df.to_string(index=False))\n"
   ]
  }
 ],
 "metadata": {
  "accelerator": "GPU",
  "colab": {
   "authorship_tag": "ABX9TyP3r2bmBrpOJCjjode63FE8",
   "collapsed_sections": [
    "U0Co_fPO7TOx",
    "eflCsz6MyTHV"
   ],
   "gpuType": "T4",
   "provenance": []
  },
  "kaggle": {
   "accelerator": "nvidiaTeslaT4",
   "dataSources": [],
   "dockerImageVersionId": 31041,
   "isGpuEnabled": true,
   "isInternetEnabled": true,
   "language": "python",
   "sourceType": "notebook"
  },
  "kernelspec": {
   "display_name": "Python 3",
   "language": "python",
   "name": "python3"
  },
  "language_info": {
   "codemirror_mode": {
    "name": "ipython",
    "version": 3
   },
   "file_extension": ".py",
   "mimetype": "text/x-python",
   "name": "python",
   "nbconvert_exporter": "python",
   "pygments_lexer": "ipython3",
   "version": "3.11.11"
  },
  "papermill": {
   "default_parameters": {},
   "duration": 2288.664038,
   "end_time": "2025-06-16T15:47:03.721191",
   "environment_variables": {},
   "exception": null,
   "input_path": "__notebook__.ipynb",
   "output_path": "__notebook__.ipynb",
   "parameters": {},
   "start_time": "2025-06-16T15:08:55.057153",
   "version": "2.6.0"
  }
 },
 "nbformat": 4,
 "nbformat_minor": 5
}
