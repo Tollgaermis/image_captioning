{
 "cells": [
  {
   "cell_type": "markdown",
   "id": "9284fca7",
   "metadata": {
    "id": "BVXO510txVmG",
    "papermill": {
     "duration": 0.004463,
     "end_time": "2025-06-16T13:33:27.835425",
     "exception": false,
     "start_time": "2025-06-16T13:33:27.830962",
     "status": "completed"
    },
    "tags": []
   },
   "source": [
    "## Imports and Initialization"
   ]
  },
  {
   "cell_type": "code",
   "execution_count": 1,
   "id": "63b3be3f",
   "metadata": {
    "execution": {
     "iopub.execute_input": "2025-06-16T13:33:27.843491Z",
     "iopub.status.busy": "2025-06-16T13:33:27.843295Z",
     "iopub.status.idle": "2025-06-16T13:33:27.846905Z",
     "shell.execute_reply": "2025-06-16T13:33:27.846209Z"
    },
    "papermill": {
     "duration": 0.008692,
     "end_time": "2025-06-16T13:33:27.847897",
     "exception": false,
     "start_time": "2025-06-16T13:33:27.839205",
     "status": "completed"
    },
    "tags": []
   },
   "outputs": [],
   "source": [
    "#!pip install sympy==1.12 --force-reinstall"
   ]
  },
  {
   "cell_type": "code",
   "execution_count": 2,
   "id": "ad285fe5",
   "metadata": {
    "execution": {
     "iopub.execute_input": "2025-06-16T13:33:27.855752Z",
     "iopub.status.busy": "2025-06-16T13:33:27.855558Z",
     "iopub.status.idle": "2025-06-16T13:33:27.858421Z",
     "shell.execute_reply": "2025-06-16T13:33:27.857757Z"
    },
    "papermill": {
     "duration": 0.007993,
     "end_time": "2025-06-16T13:33:27.859512",
     "exception": false,
     "start_time": "2025-06-16T13:33:27.851519",
     "status": "completed"
    },
    "tags": []
   },
   "outputs": [],
   "source": [
    "#import torchvision\n",
    "#print(torchvision.__version__)"
   ]
  },
  {
   "cell_type": "code",
   "execution_count": 3,
   "id": "b5b1211b",
   "metadata": {
    "execution": {
     "iopub.execute_input": "2025-06-16T13:33:27.867576Z",
     "iopub.status.busy": "2025-06-16T13:33:27.867109Z",
     "iopub.status.idle": "2025-06-16T13:33:43.305418Z",
     "shell.execute_reply": "2025-06-16T13:33:43.304598Z"
    },
    "executionInfo": {
     "elapsed": 4,
     "status": "ok",
     "timestamp": 1749998343502,
     "user": {
      "displayName": "TOLGA ERMİŞ",
      "userId": "04127226952438363406"
     },
     "user_tz": -120
    },
    "id": "Jeu144qhWe0J",
    "papermill": {
     "duration": 15.443653,
     "end_time": "2025-06-16T13:33:43.306758",
     "exception": false,
     "start_time": "2025-06-16T13:33:27.863105",
     "status": "completed"
    },
    "tags": []
   },
   "outputs": [],
   "source": [
    "import torch\n",
    "import torch.nn as nn\n",
    "import torch.optim as optim\n",
    "from torch.utils.data import DataLoader\n",
    "from torch.utils.data import sampler\n",
    "\n",
    "from torchvision import datasets\n",
    "import torchvision.transforms as T\n",
    "import torch.nn.functional as F\n",
    "\n",
    "import matplotlib.pyplot as plt\n",
    "import numpy as np"
   ]
  },
  {
   "cell_type": "code",
   "execution_count": 4,
   "id": "91bbb4d0",
   "metadata": {
    "execution": {
     "iopub.execute_input": "2025-06-16T13:33:43.315696Z",
     "iopub.status.busy": "2025-06-16T13:33:43.315290Z",
     "iopub.status.idle": "2025-06-16T13:33:43.403661Z",
     "shell.execute_reply": "2025-06-16T13:33:43.402922Z"
    },
    "executionInfo": {
     "elapsed": 8,
     "status": "ok",
     "timestamp": 1749998343511,
     "user": {
      "displayName": "TOLGA ERMİŞ",
      "userId": "04127226952438363406"
     },
     "user_tz": -120
    },
    "id": "ohs2e87-wkT2",
    "papermill": {
     "duration": 0.094132,
     "end_time": "2025-06-16T13:33:43.404954",
     "exception": false,
     "start_time": "2025-06-16T13:33:43.310822",
     "status": "completed"
    },
    "tags": []
   },
   "outputs": [],
   "source": [
    "DEVICE = torch.device('cuda' if torch.cuda.is_available() else 'cpu')"
   ]
  },
  {
   "cell_type": "markdown",
   "id": "bc27cdec",
   "metadata": {
    "id": "scbr7x_ZxYPB",
    "papermill": {
     "duration": 0.003531,
     "end_time": "2025-06-16T13:33:43.412375",
     "exception": false,
     "start_time": "2025-06-16T13:33:43.408844",
     "status": "completed"
    },
    "tags": []
   },
   "source": [
    "## Dataset Prep"
   ]
  },
  {
   "cell_type": "code",
   "execution_count": 5,
   "id": "37c20e3a",
   "metadata": {
    "execution": {
     "iopub.execute_input": "2025-06-16T13:33:43.420575Z",
     "iopub.status.busy": "2025-06-16T13:33:43.420363Z",
     "iopub.status.idle": "2025-06-16T13:33:43.423415Z",
     "shell.execute_reply": "2025-06-16T13:33:43.422913Z"
    },
    "executionInfo": {
     "elapsed": 2,
     "status": "ok",
     "timestamp": 1749998343514,
     "user": {
      "displayName": "TOLGA ERMİŞ",
      "userId": "04127226952438363406"
     },
     "user_tz": -120
    },
    "id": "yCRhjVSrm5IS",
    "papermill": {
     "duration": 0.008271,
     "end_time": "2025-06-16T13:33:43.424410",
     "exception": false,
     "start_time": "2025-06-16T13:33:43.416139",
     "status": "completed"
    },
    "tags": []
   },
   "outputs": [],
   "source": [
    "data_prefix = './datasets'"
   ]
  },
  {
   "cell_type": "code",
   "execution_count": 6,
   "id": "5f6bf990",
   "metadata": {
    "execution": {
     "iopub.execute_input": "2025-06-16T13:33:43.432332Z",
     "iopub.status.busy": "2025-06-16T13:33:43.432135Z",
     "iopub.status.idle": "2025-06-16T13:33:51.134428Z",
     "shell.execute_reply": "2025-06-16T13:33:51.133848Z"
    },
    "executionInfo": {
     "elapsed": 2878,
     "status": "ok",
     "timestamp": 1749998346393,
     "user": {
      "displayName": "TOLGA ERMİŞ",
      "userId": "04127226952438363406"
     },
     "user_tz": -120
    },
    "id": "t38j23-mZPIH",
    "papermill": {
     "duration": 7.707681,
     "end_time": "2025-06-16T13:33:51.135734",
     "exception": false,
     "start_time": "2025-06-16T13:33:43.428053",
     "status": "completed"
    },
    "tags": []
   },
   "outputs": [
    {
     "name": "stderr",
     "output_type": "stream",
     "text": [
      "100%|██████████| 169M/169M [00:03<00:00, 55.2MB/s]\n"
     ]
    }
   ],
   "source": [
    "NUM_TRAIN = 49000\n",
    "transform = T.Compose([T.ToTensor(), T.Normalize((0.5, 0.5, 0.5), (0.5, 0.5, 0.5))])\n",
    "\n",
    "cifar100_train = datasets.CIFAR100(data_prefix, train=True, download=True, transform=transform)\n",
    "loader_train = DataLoader(cifar100_train, batch_size=64, sampler=sampler.SubsetRandomSampler(range(NUM_TRAIN)))\n",
    "\n",
    "cifar100_val = datasets.CIFAR100(data_prefix, train=True, download=True, transform=transform)\n",
    "loader_val = DataLoader(cifar100_val, batch_size=64, sampler=sampler.SubsetRandomSampler(range(NUM_TRAIN, 50000)))\n",
    "\n",
    "cifar100_test = datasets.CIFAR100(data_prefix, train=False, download=True, transform=transform)\n",
    "loader_test = DataLoader(cifar100_test, batch_size=64)"
   ]
  },
  {
   "cell_type": "code",
   "execution_count": 7,
   "id": "40e5558e",
   "metadata": {
    "execution": {
     "iopub.execute_input": "2025-06-16T13:33:51.146983Z",
     "iopub.status.busy": "2025-06-16T13:33:51.146741Z",
     "iopub.status.idle": "2025-06-16T13:33:51.171994Z",
     "shell.execute_reply": "2025-06-16T13:33:51.171319Z"
    },
    "executionInfo": {
     "elapsed": 17,
     "status": "ok",
     "timestamp": 1749998346411,
     "user": {
      "displayName": "TOLGA ERMİŞ",
      "userId": "04127226952438363406"
     },
     "user_tz": -120
    },
    "id": "x-DHA7Xi4DAq",
    "outputId": "e4d90cec-9324-4200-d1cb-1ce730b05a80",
    "papermill": {
     "duration": 0.031739,
     "end_time": "2025-06-16T13:33:51.173052",
     "exception": false,
     "start_time": "2025-06-16T13:33:51.141313",
     "status": "completed"
    },
    "tags": []
   },
   "outputs": [
    {
     "data": {
      "text/plain": [
       "torch.Size([3, 32, 32])"
      ]
     },
     "execution_count": 7,
     "metadata": {},
     "output_type": "execute_result"
    }
   ],
   "source": [
    "cifar100_train[0][0].shape"
   ]
  },
  {
   "cell_type": "markdown",
   "id": "cace32c7",
   "metadata": {
    "id": "U0Co_fPO7TOx",
    "papermill": {
     "duration": 0.004716,
     "end_time": "2025-06-16T13:33:51.182685",
     "exception": false,
     "start_time": "2025-06-16T13:33:51.177969",
     "status": "completed"
    },
    "tags": []
   },
   "source": [
    "## CNN Model"
   ]
  },
  {
   "cell_type": "code",
   "execution_count": 8,
   "id": "8f318954",
   "metadata": {
    "execution": {
     "iopub.execute_input": "2025-06-16T13:33:51.192958Z",
     "iopub.status.busy": "2025-06-16T13:33:51.192720Z",
     "iopub.status.idle": "2025-06-16T13:33:51.195937Z",
     "shell.execute_reply": "2025-06-16T13:33:51.195295Z"
    },
    "executionInfo": {
     "elapsed": 15,
     "status": "ok",
     "timestamp": 1749998346427,
     "user": {
      "displayName": "TOLGA ERMİŞ",
      "userId": "04127226952438363406"
     },
     "user_tz": -120
    },
    "id": "-TYz3AAn9ith",
    "papermill": {
     "duration": 0.009562,
     "end_time": "2025-06-16T13:33:51.197007",
     "exception": false,
     "start_time": "2025-06-16T13:33:51.187445",
     "status": "completed"
    },
    "tags": []
   },
   "outputs": [],
   "source": [
    "# RegDeepCNN(channels_list, pool_list)\n",
    "# Flexible CNN with variable conv layers and optional 2x2 max pooling per layer.\n",
    "# Args:\n",
    "#  - channels_list (list of int): output channels per conv layer.\n",
    "#  - pool_list (list of bool): whether to apply max pooling after each conv.\n",
    "# Constraints:\n",
    "#  - Input: 32x32 RGB images.\n",
    "#  - Max pooling auto-disabled if it reduces spatial size below 4x4.\n",
    "#  - channels_list and pool_list must be same length.\n",
    "#  - Max 3 poolings allowed to keep spatial size ≥4x4.\n",
    "# Example:\n",
    "#  channels = [32,32,64,64]; pools = [False,True,False,True]\n",
    "#  model = RegDeepCNN(channels, pools)\n",
    "#  output = model(torch.randn(1,3,32,32))"
   ]
  },
  {
   "cell_type": "code",
   "execution_count": 9,
   "id": "9284e0c6",
   "metadata": {
    "execution": {
     "iopub.execute_input": "2025-06-16T13:33:51.208390Z",
     "iopub.status.busy": "2025-06-16T13:33:51.208202Z",
     "iopub.status.idle": "2025-06-16T13:33:51.215447Z",
     "shell.execute_reply": "2025-06-16T13:33:51.214941Z"
    },
    "executionInfo": {
     "elapsed": 14,
     "status": "ok",
     "timestamp": 1749998346443,
     "user": {
      "displayName": "TOLGA ERMİŞ",
      "userId": "04127226952438363406"
     },
     "user_tz": -120
    },
    "id": "fz2xymHp7WOA",
    "papermill": {
     "duration": 0.013657,
     "end_time": "2025-06-16T13:33:51.216454",
     "exception": false,
     "start_time": "2025-06-16T13:33:51.202797",
     "status": "completed"
    },
    "tags": []
   },
   "outputs": [],
   "source": [
    "class RegDeepCNN(nn.Module):\n",
    "    def __init__(self, channels_list, pool_list):\n",
    "        super(RegDeepCNN, self).__init__()\n",
    "\n",
    "        assert len(channels_list) == len(pool_list), \"channels_list and pool_list must be the same length\"\n",
    "        assert sum(pool_list) <= 3, \"Too many poolings; spatial size < 4x4\"\n",
    "\n",
    "        self.convs = nn.ModuleList()\n",
    "        self.bns = nn.ModuleList()\n",
    "        self.pool_bools = pool_list\n",
    "        self.pool = nn.MaxPool2d(kernel_size=2, stride=2)\n",
    "\n",
    "        in_channels = 3  # input RGB images\n",
    "\n",
    "        for out_channels in channels_list:\n",
    "            self.convs.append(nn.Conv2d(in_channels, out_channels, kernel_size=3, stride=1, padding=1))\n",
    "            self.bns.append(nn.BatchNorm2d(out_channels))\n",
    "            in_channels = out_channels\n",
    "\n",
    "        # After conv layers, define a linear layer.\n",
    "        # To calculate the input size for linear layer, you need to know the spatial size after conv+pool layers.\n",
    "        # For example, assuming input 32x32 and each maxpool halves size:\n",
    "        num_pools = sum(pool_list)\n",
    "        final_spatial_size = 32 // (2 ** num_pools)\n",
    "        final_channels = channels_list[-1]\n",
    "        self.fc1 = nn.Linear(final_channels * final_spatial_size * final_spatial_size, 512)\n",
    "        self.fc2 = nn.Linear(512,100)\n",
    "\n",
    "    def forward(self, x):\n",
    "        for conv, bn, do_pool in zip(self.convs, self.bns, self.pool_bools):\n",
    "            x = conv(x)\n",
    "            x = bn(x)\n",
    "            x = F.relu(x)\n",
    "            if do_pool:\n",
    "                x = self.pool(x)\n",
    "\n",
    "        x = F.dropout(x, p=0.5)\n",
    "        x = x.view(x.size(0), -1)\n",
    "        x = self.fc1(x)\n",
    "        x = F.dropout(x, p=0.5)\n",
    "        x = self.fc2(x)\n",
    "        return x\n"
   ]
  },
  {
   "cell_type": "markdown",
   "id": "4052eff6",
   "metadata": {
    "id": "7yLQDnVzx1hJ",
    "papermill": {
     "duration": 0.004761,
     "end_time": "2025-06-16T13:33:51.226182",
     "exception": false,
     "start_time": "2025-06-16T13:33:51.221421",
     "status": "completed"
    },
    "tags": []
   },
   "source": [
    "## Training"
   ]
  },
  {
   "cell_type": "code",
   "execution_count": 10,
   "id": "62106887",
   "metadata": {
    "execution": {
     "iopub.execute_input": "2025-06-16T13:33:51.236485Z",
     "iopub.status.busy": "2025-06-16T13:33:51.236300Z",
     "iopub.status.idle": "2025-06-16T13:33:51.239075Z",
     "shell.execute_reply": "2025-06-16T13:33:51.238569Z"
    },
    "executionInfo": {
     "elapsed": 1,
     "status": "ok",
     "timestamp": 1749998346445,
     "user": {
      "displayName": "TOLGA ERMİŞ",
      "userId": "04127226952438363406"
     },
     "user_tz": -120
    },
    "id": "CvmuDWJMxzsS",
    "papermill": {
     "duration": 0.009062,
     "end_time": "2025-06-16T13:33:51.240108",
     "exception": false,
     "start_time": "2025-06-16T13:33:51.231046",
     "status": "completed"
    },
    "tags": []
   },
   "outputs": [],
   "source": [
    "from tqdm import tqdm"
   ]
  },
  {
   "cell_type": "markdown",
   "id": "5ba46fb3",
   "metadata": {
    "id": "eflCsz6MyTHV",
    "papermill": {
     "duration": 0.004654,
     "end_time": "2025-06-16T13:33:51.249715",
     "exception": false,
     "start_time": "2025-06-16T13:33:51.245061",
     "status": "completed"
    },
    "tags": []
   },
   "source": [
    "### Accuracy and Loss Calculation Func"
   ]
  },
  {
   "cell_type": "code",
   "execution_count": 11,
   "id": "6b74f205",
   "metadata": {
    "execution": {
     "iopub.execute_input": "2025-06-16T13:33:51.260404Z",
     "iopub.status.busy": "2025-06-16T13:33:51.259816Z",
     "iopub.status.idle": "2025-06-16T13:33:51.264327Z",
     "shell.execute_reply": "2025-06-16T13:33:51.263806Z"
    },
    "executionInfo": {
     "elapsed": 13,
     "status": "ok",
     "timestamp": 1749998346460,
     "user": {
      "displayName": "TOLGA ERMİŞ",
      "userId": "04127226952438363406"
     },
     "user_tz": -120
    },
    "id": "14PEsx1JyWqR",
    "papermill": {
     "duration": 0.010859,
     "end_time": "2025-06-16T13:33:51.265337",
     "exception": false,
     "start_time": "2025-06-16T13:33:51.254478",
     "status": "completed"
    },
    "tags": []
   },
   "outputs": [],
   "source": [
    "def check_accuracy_and_loss(loader, model, device):\n",
    "    acc = 0\n",
    "    total_loss = 0\n",
    "    model.eval()\n",
    "    num_correct = 0\n",
    "    num_samples = 0\n",
    "    total_loss = 0\n",
    "    criterion = nn.CrossEntropyLoss()\n",
    "    with torch.no_grad():\n",
    "        for x, y in loader:\n",
    "            x = x.to(device)\n",
    "            y = y.to(device)\n",
    "\n",
    "            scores = model(x)\n",
    "            loss = criterion(scores, y)\n",
    "            total_loss += loss\n",
    "            _, preds = scores.max(1)\n",
    "            num_correct += (preds == y).sum()\n",
    "            num_samples += preds.size(0)\n",
    "    acc = num_correct / num_samples\n",
    "    total_loss /= len(loader)\n",
    "    return acc, total_loss"
   ]
  },
  {
   "cell_type": "markdown",
   "id": "bec1ba47",
   "metadata": {
    "id": "GkHVkJIhyHzk",
    "papermill": {
     "duration": 0.004768,
     "end_time": "2025-06-16T13:33:51.274957",
     "exception": false,
     "start_time": "2025-06-16T13:33:51.270189",
     "status": "completed"
    },
    "tags": []
   },
   "source": [
    "### Training func"
   ]
  },
  {
   "cell_type": "code",
   "execution_count": 12,
   "id": "98e9a4c6",
   "metadata": {
    "execution": {
     "iopub.execute_input": "2025-06-16T13:33:51.285429Z",
     "iopub.status.busy": "2025-06-16T13:33:51.285246Z",
     "iopub.status.idle": "2025-06-16T13:33:51.291437Z",
     "shell.execute_reply": "2025-06-16T13:33:51.290899Z"
    },
    "executionInfo": {
     "elapsed": 47,
     "status": "ok",
     "timestamp": 1749998537962,
     "user": {
      "displayName": "TOLGA ERMİŞ",
      "userId": "04127226952438363406"
     },
     "user_tz": -120
    },
    "id": "NuoNyZXiyEet",
    "papermill": {
     "duration": 0.012673,
     "end_time": "2025-06-16T13:33:51.292418",
     "exception": false,
     "start_time": "2025-06-16T13:33:51.279745",
     "status": "completed"
    },
    "tags": []
   },
   "outputs": [],
   "source": [
    "def train_model(model, loader_train, loader_val, optimizer, criterion, epochs, device):\n",
    "    best_val_loss = float('inf')\n",
    "    best_model_wts = None\n",
    "\n",
    "    model.to(device)\n",
    "\n",
    "    train_accs = []\n",
    "    val_accs = []\n",
    "    train_losses = []\n",
    "    val_losses = []\n",
    "\n",
    "    for epoch in range(epochs):\n",
    "        print(f\"Epoch {epoch + 1}/{epochs}\")\n",
    "        epoch_loss = 0  # Accumulate loss for display\n",
    "        epoch_steps = 0  # Count steps for loss averaging\n",
    "\n",
    "        # Progress bar for training batches\n",
    "        with tqdm(total=len(loader_train), desc=f\"Training Epoch {epoch + 1}\") as pbar:\n",
    "            for x, y in loader_train:\n",
    "                x = x.to(DEVICE)\n",
    "                y = y.to(DEVICE)\n",
    "\n",
    "                scores = model(x)\n",
    "                loss = criterion(scores, y)\n",
    "                optimizer.zero_grad()\n",
    "                loss.backward()\n",
    "                optimizer.step()\n",
    "\n",
    "                # Update progress\n",
    "                epoch_loss += loss.item()\n",
    "                epoch_steps += 1\n",
    "                pbar.set_postfix({\"Batch Loss\": loss.item()})\n",
    "                pbar.update(1)\n",
    "\n",
    "        train_acc, train_loss = check_accuracy_and_loss(loader_train, model, device=DEVICE)\n",
    "        val_acc, val_loss = check_accuracy_and_loss(loader_val, model, device=DEVICE)\n",
    "        train_accs.append(train_acc)\n",
    "        val_accs.append(val_acc)\n",
    "\n",
    "        train_losses.append(train_loss)\n",
    "        val_losses.append(val_loss)\n",
    "\n",
    "        if val_loss < best_val_loss:\n",
    "            best_val_loss = val_loss\n",
    "            best_model_wts = model.state_dict().copy()\n",
    "\n",
    "        print(f\"Epoch {epoch + 1} - Train Loss: {train_loss:.4f}, Train Acc: {train_acc:.2%}, \"\n",
    "              f\"Val Loss: {val_loss:.4f}, Val Acc: {val_acc:.2%}\")\n",
    "\n",
    "    # returning best and final model\n",
    "    final_model_wts = model.state_dict().copy()  # save final weights\n",
    "    model.load_state_dict(best_model_wts)       # load best weights\n",
    "    return best_model_wts, final_model_wts, train_accs, val_accs, train_losses, val_losses"
   ]
  },
  {
   "cell_type": "markdown",
   "id": "b2076205",
   "metadata": {
    "id": "5xTnZbTN-YIw",
    "papermill": {
     "duration": 0.00482,
     "end_time": "2025-06-16T13:33:51.302015",
     "exception": false,
     "start_time": "2025-06-16T13:33:51.297195",
     "status": "completed"
    },
    "tags": []
   },
   "source": [
    "### Testing different architecture and hyperparameter configs"
   ]
  },
  {
   "cell_type": "code",
   "execution_count": 13,
   "id": "7d751621",
   "metadata": {
    "execution": {
     "iopub.execute_input": "2025-06-16T13:33:51.312169Z",
     "iopub.status.busy": "2025-06-16T13:33:51.312002Z",
     "iopub.status.idle": "2025-06-16T13:36:16.095045Z",
     "shell.execute_reply": "2025-06-16T13:36:16.094345Z"
    },
    "id": "g5eNhMLe-bu9",
    "outputId": "ebe06d6a-2040-4d44-a3f9-5fb59dce11a4",
    "papermill": {
     "duration": 144.943776,
     "end_time": "2025-06-16T13:36:16.250497",
     "exception": false,
     "start_time": "2025-06-16T13:33:51.306721",
     "status": "completed"
    },
    "tags": []
   },
   "outputs": [
    {
     "name": "stdout",
     "output_type": "stream",
     "text": [
      "\n",
      "Training model with channels=[64, 128, 256, 256], pools=[False, True, True, True]\n",
      "Epoch 1/1\n"
     ]
    },
    {
     "name": "stderr",
     "output_type": "stream",
     "text": [
      "Training Epoch 1: 100%|██████████| 766/766 [00:25<00:00, 30.33it/s, Batch Loss=3.05]\n"
     ]
    },
    {
     "name": "stdout",
     "output_type": "stream",
     "text": [
      "Epoch 1 - Train Loss: 3.1535, Train Acc: 22.64%, Val Loss: 3.2563, Val Acc: 20.80%\n",
      "\n",
      "Training model with channels=[64, 128, 256, 256], pools=[False, True, False, True]\n",
      "Epoch 1/1\n"
     ]
    },
    {
     "name": "stderr",
     "output_type": "stream",
     "text": [
      "Training Epoch 1: 100%|██████████| 766/766 [00:27<00:00, 27.47it/s, Batch Loss=3.91]\n"
     ]
    },
    {
     "name": "stdout",
     "output_type": "stream",
     "text": [
      "Epoch 1 - Train Loss: 3.3118, Train Acc: 20.17%, Val Loss: 3.3679, Val Acc: 18.50%\n",
      "\n",
      "Training model with channels=[64, 128, 128, 256], pools=[False, True, False, True]\n",
      "Epoch 1/1\n"
     ]
    },
    {
     "name": "stderr",
     "output_type": "stream",
     "text": [
      "Training Epoch 1: 100%|██████████| 766/766 [00:25<00:00, 30.11it/s, Batch Loss=3.19]\n"
     ]
    },
    {
     "name": "stdout",
     "output_type": "stream",
     "text": [
      "Epoch 1 - Train Loss: 3.3134, Train Acc: 19.46%, Val Loss: 3.3552, Val Acc: 19.40%\n",
      "\n",
      "Training model with channels=[64, 64, 128, 128, 256], pools=[False, True, False, True, False]\n",
      "Epoch 1/1\n"
     ]
    },
    {
     "name": "stderr",
     "output_type": "stream",
     "text": [
      "Training Epoch 1: 100%|██████████| 766/766 [00:22<00:00, 34.77it/s, Batch Loss=3.16]\n"
     ]
    },
    {
     "name": "stdout",
     "output_type": "stream",
     "text": [
      "Epoch 1 - Train Loss: 3.0772, Train Acc: 24.65%, Val Loss: 3.1951, Val Acc: 22.20%\n"
     ]
    }
   ],
   "source": [
    "import os\n",
    "output_dir = \"/kaggle/working\"\n",
    "\n",
    "lr = 1e-3\n",
    "epochs = 1\n",
    "\n",
    "configs = [\n",
    "    # deeper network, max allowed pooling\n",
    "    {'name': 'model-1', 'channels': [64, 128, 256, 256], 'pools': [False, True, True, True]},\n",
    "    # deeper network, max allowed pooling\n",
    "    {'name': 'model-2','channels': [64, 128, 256, 256], 'pools': [False, True, False, True]},\n",
    "    # deeper network, max allowed pooling\n",
    "    {'name': 'model-3','channels': [64, 128, 128, 256], 'pools': [False, True, False, True]},\n",
    "    # deeper network, max allowed pooling\n",
    "    {'name': 'model-4','channels': [64, 64, 128, 128, 256], 'pools': [False, True, False, True, False]}\n",
    "]\n",
    "\n",
    "results = []\n",
    "\n",
    "for mc in configs:\n",
    "    print(f\"\\nTraining model with channels={mc['channels']}, pools={mc['pools']}\")\n",
    "\n",
    "    model = RegDeepCNN(mc['channels'], mc['pools'])\n",
    "    optimizer = optim.Adam(model.parameters(), lr=lr)\n",
    "    criterion = torch.nn.CrossEntropyLoss()\n",
    "\n",
    "    # Adjust train_model to return best and final weights plus metrics\n",
    "    best_wts, final_wts, train_accs, val_accs, train_losses, val_losses = train_model(\n",
    "        model, loader_train, loader_val, optimizer, criterion, epochs=epochs, device=DEVICE)\n",
    "\n",
    "    best_path = os.path.join(output_dir, f\"model_{mc['name']}_best.pth\")\n",
    "    final_path = os.path.join(output_dir, f\"model_{mc['name']}_final.pth\")\n",
    "    \n",
    "    torch.save(best_wts, best_path)\n",
    "    torch.save(final_wts, final_path)\n",
    "\n",
    "    results.append({\n",
    "        'name': mc['name'],\n",
    "        'channels': mc['channels'],\n",
    "        'pools': mc['pools'],\n",
    "        'train_accs': train_accs,\n",
    "        'val_accs': val_accs,\n",
    "        'train_losses': train_losses,\n",
    "        'val_losses': val_losses,\n",
    "        'best_weights': best_wts,\n",
    "        'final_weights': final_wts,\n",
    "    })"
   ]
  },
  {
   "cell_type": "code",
   "execution_count": 14,
   "id": "c486f657",
   "metadata": {
    "execution": {
     "iopub.execute_input": "2025-06-16T13:36:16.554820Z",
     "iopub.status.busy": "2025-06-16T13:36:16.554564Z",
     "iopub.status.idle": "2025-06-16T13:36:16.561214Z",
     "shell.execute_reply": "2025-06-16T13:36:16.560689Z"
    },
    "id": "loTxaczVDl4A",
    "papermill": {
     "duration": 0.15828,
     "end_time": "2025-06-16T13:36:16.562303",
     "exception": false,
     "start_time": "2025-06-16T13:36:16.404023",
     "status": "completed"
    },
    "tags": []
   },
   "outputs": [],
   "source": [
    "def plot_results(results):\n",
    "    plt.figure(figsize=(10, 6))\n",
    "\n",
    "    for r in results:\n",
    "        label = f\"C: {r['name']}\"\n",
    "        train_losses = [l.item() if torch.is_tensor(l) else l for l in r['train_losses']]\n",
    "        val_losses = [l.item() if torch.is_tensor(l) else l for l in r['val_losses']]\n",
    "        plt.plot(train_losses, label=f\"{label} - Train\")\n",
    "        plt.plot(val_losses, linestyle='--', label=f\"{label} - Val\")\n",
    "    plt.title(\"Losses\")\n",
    "    plt.xlabel(\"Epoch\")\n",
    "    plt.ylabel(\"Loss\")\n",
    "    plt.legend(bbox_to_anchor=(1.05, 1), loc='upper left')\n",
    "    plt.show()\n",
    "\n",
    "    plt.figure(figsize=(10, 6))\n",
    "    for r in results:\n",
    "        label = f\"C: {r['name']}\"\n",
    "        train_accs = [a.item() if torch.is_tensor(a) else a for a in r['train_accs']]\n",
    "        val_accs = [a.item() if torch.is_tensor(a) else a for a in r['val_accs']]\n",
    "        plt.plot(train_accs, label=f\"{label} - Train\")\n",
    "        plt.plot(val_accs, linestyle='--', label=f\"{label} - Val\")\n",
    "    plt.title(\"Accuracies\")\n",
    "    plt.xlabel(\"Epoch\")\n",
    "    plt.ylabel(\"Accuracy\")\n",
    "    plt.legend(bbox_to_anchor=(1.05, 1), loc='upper left')\n",
    "    plt.show()\n"
   ]
  },
  {
   "cell_type": "code",
   "execution_count": 15,
   "id": "ecb53771",
   "metadata": {
    "execution": {
     "iopub.execute_input": "2025-06-16T13:36:16.863116Z",
     "iopub.status.busy": "2025-06-16T13:36:16.862838Z",
     "iopub.status.idle": "2025-06-16T13:36:16.867194Z",
     "shell.execute_reply": "2025-06-16T13:36:16.866697Z"
    },
    "papermill": {
     "duration": 0.156215,
     "end_time": "2025-06-16T13:36:16.868200",
     "exception": false,
     "start_time": "2025-06-16T13:36:16.711985",
     "status": "completed"
    },
    "tags": []
   },
   "outputs": [],
   "source": [
    "def evaluate_best_models(results, loader_train, loader_val, loader_test, device):\n",
    "    print(\"=== Final Evaluation with Best Weights ===\")\n",
    "    for r in results:\n",
    "        model = RegDeepCNN(r['channels'], r['pools']).to(device)\n",
    "        model.load_state_dict(r['best_weights'])\n",
    "\n",
    "        train_acc, _ = check_accuracy_and_loss(loader_train, model, device)\n",
    "        val_acc, _ = check_accuracy_and_loss(loader_val, model, device)\n",
    "        test_acc, _ = check_accuracy_and_loss(loader_test, model, device)\n",
    "\n",
    "        print(f\"Channels: {r['channels']}, Pools: {r['pools']}\")\n",
    "        print(f\"  Train Acc: {train_acc:.2%}, Val Acc: {val_acc:.2%}, Test Acc: {test_acc:.2%}\\n\")\n"
   ]
  },
  {
   "cell_type": "code",
   "execution_count": 16,
   "id": "c3441122",
   "metadata": {
    "execution": {
     "iopub.execute_input": "2025-06-16T13:36:17.218281Z",
     "iopub.status.busy": "2025-06-16T13:36:17.218005Z",
     "iopub.status.idle": "2025-06-16T13:37:09.931640Z",
     "shell.execute_reply": "2025-06-16T13:37:09.930849Z"
    },
    "papermill": {
     "duration": 52.868882,
     "end_time": "2025-06-16T13:37:09.932827",
     "exception": false,
     "start_time": "2025-06-16T13:36:17.063945",
     "status": "completed"
    },
    "tags": []
   },
   "outputs": [
    {
     "data": {
      "image/png": "[encoded data removed]",
      "text/plain": [
       "<Figure size 1000x600 with 1 Axes>"
      ]
     },
     "metadata": {},
     "output_type": "display_data"
    },
    {
     "data": {
      "image/png": "[encoded data removed]",
      "text/plain": [
       "<Figure size 1000x600 with 1 Axes>"
      ]
     },
     "metadata": {},
     "output_type": "display_data"
    },
    {
     "name": "stdout",
     "output_type": "stream",
     "text": [
      "=== Final Evaluation with Best Weights ===\n",
      "Channels: [64, 128, 256, 256], Pools: [False, True, True, True]\n",
      "  Train Acc: 22.70%, Val Acc: 21.10%, Test Acc: 22.16%\n",
      "\n",
      "Channels: [64, 128, 256, 256], Pools: [False, True, False, True]\n",
      "  Train Acc: 20.12%, Val Acc: 18.10%, Test Acc: 18.77%\n",
      "\n",
      "Channels: [64, 128, 128, 256], Pools: [False, True, False, True]\n",
      "  Train Acc: 19.12%, Val Acc: 19.20%, Test Acc: 19.12%\n",
      "\n",
      "Channels: [64, 64, 128, 128, 256], Pools: [False, True, False, True, False]\n",
      "  Train Acc: 24.61%, Val Acc: 23.00%, Test Acc: 22.98%\n",
      "\n"
     ]
    }
   ],
   "source": [
    "plot_results(results)\n",
    "evaluate_best_models(results, loader_train, loader_val, loader_test, DEVICE)"
   ]
  },
  {
   "cell_type": "code",
   "execution_count": 17,
   "id": "d22f2d09",
   "metadata": {
    "execution": {
     "iopub.execute_input": "2025-06-16T13:37:10.261186Z",
     "iopub.status.busy": "2025-06-16T13:37:10.260595Z",
     "iopub.status.idle": "2025-06-16T13:37:12.442970Z",
     "shell.execute_reply": "2025-06-16T13:37:12.442172Z"
    },
    "papermill": {
     "duration": 2.337595,
     "end_time": "2025-06-16T13:37:12.444196",
     "exception": false,
     "start_time": "2025-06-16T13:37:10.106601",
     "status": "completed"
    },
    "tags": []
   },
   "outputs": [
    {
     "name": "stdout",
     "output_type": "stream",
     "text": [
      "Model Name                Channels                             Pools\n",
      "   model-1     [64, 128, 256, 256]         [False, True, True, True]\n",
      "   model-2     [64, 128, 256, 256]        [False, True, False, True]\n",
      "   model-3     [64, 128, 128, 256]        [False, True, False, True]\n",
      "   model-4 [64, 64, 128, 128, 256] [False, True, False, True, False]\n"
     ]
    }
   ],
   "source": [
    "import pandas as pd\n",
    "\n",
    "# Create DataFrame with selected columns\n",
    "summary_df = pd.DataFrame([\n",
    "    {\n",
    "        'Model Name': r['name'],\n",
    "        'Channels': r['channels'],\n",
    "        'Pools': r['pools']\n",
    "    }\n",
    "    for r in results\n",
    "])\n",
    "\n",
    "# Display as a table\n",
    "print(summary_df.to_string(index=False))\n"
   ]
  }
 ],
 "metadata": {
  "accelerator": "GPU",
  "colab": {
   "authorship_tag": "ABX9TyP3r2bmBrpOJCjjode63FE8",
   "collapsed_sections": [
    "U0Co_fPO7TOx",
    "eflCsz6MyTHV"
   ],
   "gpuType": "T4",
   "provenance": []
  },
  "kaggle": {
   "accelerator": "nvidiaTeslaT4",
   "dataSources": [],
   "dockerImageVersionId": 31041,
   "isGpuEnabled": true,
   "isInternetEnabled": true,
   "language": "python",
   "sourceType": "notebook"
  },
  "kernelspec": {
   "display_name": "Python 3",
   "language": "python",
   "name": "python3"
  },
  "language_info": {
   "codemirror_mode": {
    "name": "ipython",
    "version": 3
   },
   "file_extension": ".py",
   "mimetype": "text/x-python",
   "name": "python",
   "nbconvert_exporter": "python",
   "pygments_lexer": "ipython3",
   "version": "3.11.11"
  },
  "papermill": {
   "default_parameters": {},
   "duration": 234.235038,
   "end_time": "2025-06-16T13:37:15.794158",
   "environment_variables": {},
   "exception": null,
   "input_path": "__notebook__.ipynb",
   "output_path": "__notebook__.ipynb",
   "parameters": {},
   "start_time": "2025-06-16T13:33:21.559120",
   "version": "2.6.0"
  }
 },
 "nbformat": 4,
 "nbformat_minor": 5
}
