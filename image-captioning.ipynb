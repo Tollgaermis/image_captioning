{
 "cells": [
  {
   "cell_type": "markdown",
   "id": "03718746",
   "metadata": {
    "id": "BVXO510txVmG",
    "papermill": {
     "duration": 0.004839,
     "end_time": "2025-06-16T13:42:08.676727",
     "exception": false,
     "start_time": "2025-06-16T13:42:08.671888",
     "status": "completed"
    },
    "tags": []
   },
   "source": [
    "## Imports and Initialization"
   ]
  },
  {
   "cell_type": "code",
   "execution_count": 1,
   "id": "38977c52",
   "metadata": {
    "execution": {
     "iopub.execute_input": "2025-06-16T13:42:08.685417Z",
     "iopub.status.busy": "2025-06-16T13:42:08.685200Z",
     "iopub.status.idle": "2025-06-16T13:42:08.688833Z",
     "shell.execute_reply": "2025-06-16T13:42:08.688290Z"
    },
    "papermill": {
     "duration": 0.009238,
     "end_time": "2025-06-16T13:42:08.689913",
     "exception": false,
     "start_time": "2025-06-16T13:42:08.680675",
     "status": "completed"
    },
    "tags": []
   },
   "outputs": [],
   "source": [
    "#!pip install sympy==1.12 --force-reinstall"
   ]
  },
  {
   "cell_type": "code",
   "execution_count": 2,
   "id": "3afb189b",
   "metadata": {
    "execution": {
     "iopub.execute_input": "2025-06-16T13:42:08.698220Z",
     "iopub.status.busy": "2025-06-16T13:42:08.698015Z",
     "iopub.status.idle": "2025-06-16T13:42:08.700983Z",
     "shell.execute_reply": "2025-06-16T13:42:08.700439Z"
    },
    "papermill": {
     "duration": 0.008298,
     "end_time": "2025-06-16T13:42:08.702060",
     "exception": false,
     "start_time": "2025-06-16T13:42:08.693762",
     "status": "completed"
    },
    "tags": []
   },
   "outputs": [],
   "source": [
    "#import torchvision\n",
    "#print(torchvision.__version__)"
   ]
  },
  {
   "cell_type": "code",
   "execution_count": 3,
   "id": "da888051",
   "metadata": {
    "execution": {
     "iopub.execute_input": "2025-06-16T13:42:08.710490Z",
     "iopub.status.busy": "2025-06-16T13:42:08.709947Z",
     "iopub.status.idle": "2025-06-16T13:42:17.737229Z",
     "shell.execute_reply": "2025-06-16T13:42:17.736595Z"
    },
    "executionInfo": {
     "elapsed": 4,
     "status": "ok",
     "timestamp": 1749998343502,
     "user": {
      "displayName": "TOLGA ERMİŞ",
      "userId": "04127226952438363406"
     },
     "user_tz": -120
    },
    "id": "Jeu144qhWe0J",
    "papermill": {
     "duration": 9.032765,
     "end_time": "2025-06-16T13:42:17.738448",
     "exception": false,
     "start_time": "2025-06-16T13:42:08.705683",
     "status": "completed"
    },
    "tags": []
   },
   "outputs": [],
   "source": [
    "import torch\n",
    "import torch.nn as nn\n",
    "import torch.optim as optim\n",
    "from torch.utils.data import DataLoader\n",
    "from torch.utils.data import sampler\n",
    "\n",
    "from torchvision import datasets\n",
    "import torchvision.transforms as T\n",
    "import torch.nn.functional as F\n",
    "\n",
    "import matplotlib.pyplot as plt\n",
    "import numpy as np"
   ]
  },
  {
   "cell_type": "code",
   "execution_count": 4,
   "id": "f96aacae",
   "metadata": {
    "execution": {
     "iopub.execute_input": "2025-06-16T13:42:17.747774Z",
     "iopub.status.busy": "2025-06-16T13:42:17.747061Z",
     "iopub.status.idle": "2025-06-16T13:42:17.856274Z",
     "shell.execute_reply": "2025-06-16T13:42:17.855658Z"
    },
    "executionInfo": {
     "elapsed": 8,
     "status": "ok",
     "timestamp": 1749998343511,
     "user": {
      "displayName": "TOLGA ERMİŞ",
      "userId": "04127226952438363406"
     },
     "user_tz": -120
    },
    "id": "ohs2e87-wkT2",
    "papermill": {
     "duration": 0.114742,
     "end_time": "2025-06-16T13:42:17.857421",
     "exception": false,
     "start_time": "2025-06-16T13:42:17.742679",
     "status": "completed"
    },
    "tags": []
   },
   "outputs": [],
   "source": [
    "DEVICE = torch.device('cuda' if torch.cuda.is_available() else 'cpu')"
   ]
  },
  {
   "cell_type": "markdown",
   "id": "fea226ab",
   "metadata": {
    "id": "scbr7x_ZxYPB",
    "papermill": {
     "duration": 0.003582,
     "end_time": "2025-06-16T13:42:17.864909",
     "exception": false,
     "start_time": "2025-06-16T13:42:17.861327",
     "status": "completed"
    },
    "tags": []
   },
   "source": [
    "## Dataset Prep"
   ]
  },
  {
   "cell_type": "code",
   "execution_count": 5,
   "id": "eaecdc53",
   "metadata": {
    "execution": {
     "iopub.execute_input": "2025-06-16T13:42:17.872947Z",
     "iopub.status.busy": "2025-06-16T13:42:17.872750Z",
     "iopub.status.idle": "2025-06-16T13:42:17.876130Z",
     "shell.execute_reply": "2025-06-16T13:42:17.875548Z"
    },
    "executionInfo": {
     "elapsed": 2,
     "status": "ok",
     "timestamp": 1749998343514,
     "user": {
      "displayName": "TOLGA ERMİŞ",
      "userId": "04127226952438363406"
     },
     "user_tz": -120
    },
    "id": "yCRhjVSrm5IS",
    "papermill": {
     "duration": 0.008554,
     "end_time": "2025-06-16T13:42:17.877107",
     "exception": false,
     "start_time": "2025-06-16T13:42:17.868553",
     "status": "completed"
    },
    "tags": []
   },
   "outputs": [],
   "source": [
    "data_prefix = './datasets'"
   ]
  },
  {
   "cell_type": "code",
   "execution_count": 6,
   "id": "ccfb4ace",
   "metadata": {
    "execution": {
     "iopub.execute_input": "2025-06-16T13:42:17.885205Z",
     "iopub.status.busy": "2025-06-16T13:42:17.884999Z",
     "iopub.status.idle": "2025-06-16T13:42:26.356249Z",
     "shell.execute_reply": "2025-06-16T13:42:26.355636Z"
    },
    "executionInfo": {
     "elapsed": 2878,
     "status": "ok",
     "timestamp": 1749998346393,
     "user": {
      "displayName": "TOLGA ERMİŞ",
      "userId": "04127226952438363406"
     },
     "user_tz": -120
    },
    "id": "t38j23-mZPIH",
    "papermill": {
     "duration": 8.476908,
     "end_time": "2025-06-16T13:42:26.357663",
     "exception": false,
     "start_time": "2025-06-16T13:42:17.880755",
     "status": "completed"
    },
    "tags": []
   },
   "outputs": [
    {
     "name": "stderr",
     "output_type": "stream",
     "text": [
      "100%|██████████| 169M/169M [00:03<00:00, 46.4MB/s]\n"
     ]
    }
   ],
   "source": [
    "NUM_TRAIN = 49000\n",
    "transform = T.Compose([T.ToTensor(), T.Normalize((0.5, 0.5, 0.5), (0.5, 0.5, 0.5))])\n",
    "\n",
    "cifar100_train = datasets.CIFAR100(data_prefix, train=True, download=True, transform=transform)\n",
    "loader_train = DataLoader(cifar100_train, batch_size=64, sampler=sampler.SubsetRandomSampler(range(NUM_TRAIN)))\n",
    "\n",
    "cifar100_val = datasets.CIFAR100(data_prefix, train=True, download=True, transform=transform)\n",
    "loader_val = DataLoader(cifar100_val, batch_size=64, sampler=sampler.SubsetRandomSampler(range(NUM_TRAIN, 50000)))\n",
    "\n",
    "cifar100_test = datasets.CIFAR100(data_prefix, train=False, download=True, transform=transform)\n",
    "loader_test = DataLoader(cifar100_test, batch_size=64)"
   ]
  },
  {
   "cell_type": "code",
   "execution_count": 7,
   "id": "fda74879",
   "metadata": {
    "execution": {
     "iopub.execute_input": "2025-06-16T13:42:26.369988Z",
     "iopub.status.busy": "2025-06-16T13:42:26.369748Z",
     "iopub.status.idle": "2025-06-16T13:42:26.384458Z",
     "shell.execute_reply": "2025-06-16T13:42:26.383910Z"
    },
    "executionInfo": {
     "elapsed": 17,
     "status": "ok",
     "timestamp": 1749998346411,
     "user": {
      "displayName": "TOLGA ERMİŞ",
      "userId": "04127226952438363406"
     },
     "user_tz": -120
    },
    "id": "x-DHA7Xi4DAq",
    "outputId": "e4d90cec-9324-4200-d1cb-1ce730b05a80",
    "papermill": {
     "duration": 0.021823,
     "end_time": "2025-06-16T13:42:26.385509",
     "exception": false,
     "start_time": "2025-06-16T13:42:26.363686",
     "status": "completed"
    },
    "tags": []
   },
   "outputs": [
    {
     "data": {
      "text/plain": [
       "torch.Size([3, 32, 32])"
      ]
     },
     "execution_count": 7,
     "metadata": {},
     "output_type": "execute_result"
    }
   ],
   "source": [
    "cifar100_train[0][0].shape"
   ]
  },
  {
   "cell_type": "markdown",
   "id": "ed2123e2",
   "metadata": {
    "id": "U0Co_fPO7TOx",
    "papermill": {
     "duration": 0.005395,
     "end_time": "2025-06-16T13:42:26.396165",
     "exception": false,
     "start_time": "2025-06-16T13:42:26.390770",
     "status": "completed"
    },
    "tags": []
   },
   "source": [
    "## CNN Model"
   ]
  },
  {
   "cell_type": "code",
   "execution_count": 8,
   "id": "07451674",
   "metadata": {
    "execution": {
     "iopub.execute_input": "2025-06-16T13:42:26.407556Z",
     "iopub.status.busy": "2025-06-16T13:42:26.407340Z",
     "iopub.status.idle": "2025-06-16T13:42:26.410624Z",
     "shell.execute_reply": "2025-06-16T13:42:26.410095Z"
    },
    "executionInfo": {
     "elapsed": 15,
     "status": "ok",
     "timestamp": 1749998346427,
     "user": {
      "displayName": "TOLGA ERMİŞ",
      "userId": "04127226952438363406"
     },
     "user_tz": -120
    },
    "id": "-TYz3AAn9ith",
    "papermill": {
     "duration": 0.010323,
     "end_time": "2025-06-16T13:42:26.411721",
     "exception": false,
     "start_time": "2025-06-16T13:42:26.401398",
     "status": "completed"
    },
    "tags": []
   },
   "outputs": [],
   "source": [
    "# RegDeepCNN(channels_list, pool_list)\n",
    "# Flexible CNN with variable conv layers and optional 2x2 max pooling per layer.\n",
    "# Args:\n",
    "#  - channels_list (list of int): output channels per conv layer.\n",
    "#  - pool_list (list of bool): whether to apply max pooling after each conv.\n",
    "# Constraints:\n",
    "#  - Input: 32x32 RGB images.\n",
    "#  - Max pooling auto-disabled if it reduces spatial size below 4x4.\n",
    "#  - channels_list and pool_list must be same length.\n",
    "#  - Max 3 poolings allowed to keep spatial size ≥4x4.\n",
    "# Example:\n",
    "#  channels = [32,32,64,64]; pools = [False,True,False,True]\n",
    "#  model = RegDeepCNN(channels, pools)\n",
    "#  output = model(torch.randn(1,3,32,32))"
   ]
  },
  {
   "cell_type": "code",
   "execution_count": 9,
   "id": "9d2f145a",
   "metadata": {
    "execution": {
     "iopub.execute_input": "2025-06-16T13:42:26.424206Z",
     "iopub.status.busy": "2025-06-16T13:42:26.424004Z",
     "iopub.status.idle": "2025-06-16T13:42:26.431869Z",
     "shell.execute_reply": "2025-06-16T13:42:26.431301Z"
    },
    "executionInfo": {
     "elapsed": 14,
     "status": "ok",
     "timestamp": 1749998346443,
     "user": {
      "displayName": "TOLGA ERMİŞ",
      "userId": "04127226952438363406"
     },
     "user_tz": -120
    },
    "id": "fz2xymHp7WOA",
    "papermill": {
     "duration": 0.015294,
     "end_time": "2025-06-16T13:42:26.432962",
     "exception": false,
     "start_time": "2025-06-16T13:42:26.417668",
     "status": "completed"
    },
    "tags": []
   },
   "outputs": [],
   "source": [
    "class RegDeepCNN(nn.Module):\n",
    "    def __init__(self, channels_list, pool_list):\n",
    "        super(RegDeepCNN, self).__init__()\n",
    "\n",
    "        assert len(channels_list) == len(pool_list), \"channels_list and pool_list must be the same length\"\n",
    "        assert sum(pool_list) <= 3, \"Too many poolings; spatial size < 4x4\"\n",
    "\n",
    "        self.convs = nn.ModuleList()\n",
    "        self.bns = nn.ModuleList()\n",
    "        self.pool_bools = pool_list\n",
    "        self.pool = nn.MaxPool2d(kernel_size=2, stride=2)\n",
    "\n",
    "        in_channels = 3  # input RGB images\n",
    "\n",
    "        for out_channels in channels_list:\n",
    "            self.convs.append(nn.Conv2d(in_channels, out_channels, kernel_size=3, stride=1, padding=1))\n",
    "            self.bns.append(nn.BatchNorm2d(out_channels))\n",
    "            in_channels = out_channels\n",
    "\n",
    "        # After conv layers, define a linear layer.\n",
    "        # To calculate the input size for linear layer, you need to know the spatial size after conv+pool layers.\n",
    "        # For example, assuming input 32x32 and each maxpool halves size:\n",
    "        num_pools = sum(pool_list)\n",
    "        final_spatial_size = 32 // (2 ** num_pools)\n",
    "        final_channels = channels_list[-1]\n",
    "        self.fc1 = nn.Linear(final_channels * final_spatial_size * final_spatial_size, 512)\n",
    "        self.fc2 = nn.Linear(512,100)\n",
    "\n",
    "    def forward(self, x):\n",
    "        for conv, bn, do_pool in zip(self.convs, self.bns, self.pool_bools):\n",
    "            x = conv(x)\n",
    "            x = bn(x)\n",
    "            x = F.relu(x)\n",
    "            if do_pool:\n",
    "                x = self.pool(x)\n",
    "\n",
    "        x = F.dropout(x, p=0.5)\n",
    "        x = x.view(x.size(0), -1)\n",
    "        x = self.fc1(x)\n",
    "        x = F.dropout(x, p=0.5)\n",
    "        x = self.fc2(x)\n",
    "        return x\n"
   ]
  },
  {
   "cell_type": "markdown",
   "id": "11ca5485",
   "metadata": {
    "id": "7yLQDnVzx1hJ",
    "papermill": {
     "duration": 0.00542,
     "end_time": "2025-06-16T13:42:26.443748",
     "exception": false,
     "start_time": "2025-06-16T13:42:26.438328",
     "status": "completed"
    },
    "tags": []
   },
   "source": [
    "## Training"
   ]
  },
  {
   "cell_type": "code",
   "execution_count": 10,
   "id": "b09392f1",
   "metadata": {
    "execution": {
     "iopub.execute_input": "2025-06-16T13:42:26.455315Z",
     "iopub.status.busy": "2025-06-16T13:42:26.455111Z",
     "iopub.status.idle": "2025-06-16T13:42:26.458089Z",
     "shell.execute_reply": "2025-06-16T13:42:26.457512Z"
    },
    "executionInfo": {
     "elapsed": 1,
     "status": "ok",
     "timestamp": 1749998346445,
     "user": {
      "displayName": "TOLGA ERMİŞ",
      "userId": "04127226952438363406"
     },
     "user_tz": -120
    },
    "id": "CvmuDWJMxzsS",
    "papermill": {
     "duration": 0.010086,
     "end_time": "2025-06-16T13:42:26.459193",
     "exception": false,
     "start_time": "2025-06-16T13:42:26.449107",
     "status": "completed"
    },
    "tags": []
   },
   "outputs": [],
   "source": [
    "from tqdm import tqdm"
   ]
  },
  {
   "cell_type": "markdown",
   "id": "c71435c6",
   "metadata": {
    "id": "eflCsz6MyTHV",
    "papermill": {
     "duration": 0.006118,
     "end_time": "2025-06-16T13:42:26.471564",
     "exception": false,
     "start_time": "2025-06-16T13:42:26.465446",
     "status": "completed"
    },
    "tags": []
   },
   "source": [
    "### Accuracy and Loss Calculation Func"
   ]
  },
  {
   "cell_type": "code",
   "execution_count": 11,
   "id": "4c549f4f",
   "metadata": {
    "execution": {
     "iopub.execute_input": "2025-06-16T13:42:26.483829Z",
     "iopub.status.busy": "2025-06-16T13:42:26.483580Z",
     "iopub.status.idle": "2025-06-16T13:42:26.488472Z",
     "shell.execute_reply": "2025-06-16T13:42:26.487780Z"
    },
    "executionInfo": {
     "elapsed": 13,
     "status": "ok",
     "timestamp": 1749998346460,
     "user": {
      "displayName": "TOLGA ERMİŞ",
      "userId": "04127226952438363406"
     },
     "user_tz": -120
    },
    "id": "14PEsx1JyWqR",
    "papermill": {
     "duration": 0.012256,
     "end_time": "2025-06-16T13:42:26.489594",
     "exception": false,
     "start_time": "2025-06-16T13:42:26.477338",
     "status": "completed"
    },
    "tags": []
   },
   "outputs": [],
   "source": [
    "def check_accuracy_and_loss(loader, model, device):\n",
    "    acc = 0\n",
    "    total_loss = 0\n",
    "    model.eval()\n",
    "    num_correct = 0\n",
    "    num_samples = 0\n",
    "    total_loss = 0\n",
    "    criterion = nn.CrossEntropyLoss()\n",
    "    with torch.no_grad():\n",
    "        for x, y in loader:\n",
    "            x = x.to(device)\n",
    "            y = y.to(device)\n",
    "\n",
    "            scores = model(x)\n",
    "            loss = criterion(scores, y)\n",
    "            total_loss += loss\n",
    "            _, preds = scores.max(1)\n",
    "            num_correct += (preds == y).sum()\n",
    "            num_samples += preds.size(0)\n",
    "    acc = num_correct / num_samples\n",
    "    total_loss /= len(loader)\n",
    "    return acc, total_loss"
   ]
  },
  {
   "cell_type": "markdown",
   "id": "b7ded829",
   "metadata": {
    "id": "GkHVkJIhyHzk",
    "papermill": {
     "duration": 0.005096,
     "end_time": "2025-06-16T13:42:26.500022",
     "exception": false,
     "start_time": "2025-06-16T13:42:26.494926",
     "status": "completed"
    },
    "tags": []
   },
   "source": [
    "### Training func"
   ]
  },
  {
   "cell_type": "code",
   "execution_count": 12,
   "id": "12bd5333",
   "metadata": {
    "execution": {
     "iopub.execute_input": "2025-06-16T13:42:26.511828Z",
     "iopub.status.busy": "2025-06-16T13:42:26.511203Z",
     "iopub.status.idle": "2025-06-16T13:42:26.518782Z",
     "shell.execute_reply": "2025-06-16T13:42:26.518073Z"
    },
    "executionInfo": {
     "elapsed": 47,
     "status": "ok",
     "timestamp": 1749998537962,
     "user": {
      "displayName": "TOLGA ERMİŞ",
      "userId": "04127226952438363406"
     },
     "user_tz": -120
    },
    "id": "NuoNyZXiyEet",
    "papermill": {
     "duration": 0.014546,
     "end_time": "2025-06-16T13:42:26.519920",
     "exception": false,
     "start_time": "2025-06-16T13:42:26.505374",
     "status": "completed"
    },
    "tags": []
   },
   "outputs": [],
   "source": [
    "def train_model(model, loader_train, loader_val, optimizer, criterion, epochs, device):\n",
    "    best_val_loss = float('inf')\n",
    "    best_model_wts = None\n",
    "\n",
    "    model.to(device)\n",
    "\n",
    "    train_accs = []\n",
    "    val_accs = []\n",
    "    train_losses = []\n",
    "    val_losses = []\n",
    "\n",
    "    for epoch in range(epochs):\n",
    "        print(f\"Epoch {epoch + 1}/{epochs}\")\n",
    "        epoch_loss = 0  # Accumulate loss for display\n",
    "        epoch_steps = 0  # Count steps for loss averaging\n",
    "\n",
    "        # Progress bar for training batches\n",
    "        with tqdm(total=len(loader_train), desc=f\"Training Epoch {epoch + 1}\") as pbar:\n",
    "            for x, y in loader_train:\n",
    "                x = x.to(DEVICE)\n",
    "                y = y.to(DEVICE)\n",
    "\n",
    "                scores = model(x)\n",
    "                loss = criterion(scores, y)\n",
    "                optimizer.zero_grad()\n",
    "                loss.backward()\n",
    "                optimizer.step()\n",
    "\n",
    "                # Update progress\n",
    "                epoch_loss += loss.item()\n",
    "                epoch_steps += 1\n",
    "                pbar.set_postfix({\"Batch Loss\": loss.item()})\n",
    "                pbar.update(1)\n",
    "\n",
    "        train_acc, train_loss = check_accuracy_and_loss(loader_train, model, device=DEVICE)\n",
    "        val_acc, val_loss = check_accuracy_and_loss(loader_val, model, device=DEVICE)\n",
    "        train_accs.append(train_acc)\n",
    "        val_accs.append(val_acc)\n",
    "\n",
    "        train_losses.append(train_loss)\n",
    "        val_losses.append(val_loss)\n",
    "\n",
    "        if val_loss < best_val_loss:\n",
    "            best_val_loss = val_loss\n",
    "            best_model_wts = model.state_dict().copy()\n",
    "\n",
    "        print(f\"Epoch {epoch + 1} - Train Loss: {train_loss:.4f}, Train Acc: {train_acc:.2%}, \"\n",
    "              f\"Val Loss: {val_loss:.4f}, Val Acc: {val_acc:.2%}\")\n",
    "\n",
    "    # returning best and final model\n",
    "    final_model_wts = model.state_dict().copy()  # save final weights\n",
    "    model.load_state_dict(best_model_wts)       # load best weights\n",
    "    return best_model_wts, final_model_wts, train_accs, val_accs, train_losses, val_losses"
   ]
  },
  {
   "cell_type": "markdown",
   "id": "60383ec9",
   "metadata": {
    "id": "5xTnZbTN-YIw",
    "papermill": {
     "duration": 0.005212,
     "end_time": "2025-06-16T13:42:26.530629",
     "exception": false,
     "start_time": "2025-06-16T13:42:26.525417",
     "status": "completed"
    },
    "tags": []
   },
   "source": [
    "### Testing different architecture and hyperparameter configs"
   ]
  },
  {
   "cell_type": "code",
   "execution_count": 13,
   "id": "41917d88",
   "metadata": {
    "execution": {
     "iopub.execute_input": "2025-06-16T13:42:26.542403Z",
     "iopub.status.busy": "2025-06-16T13:42:26.541880Z",
     "iopub.status.idle": "2025-06-16T14:31:27.967721Z",
     "shell.execute_reply": "2025-06-16T14:31:27.966824Z"
    },
    "id": "g5eNhMLe-bu9",
    "outputId": "ebe06d6a-2040-4d44-a3f9-5fb59dce11a4",
    "papermill": {
     "duration": 2944.882327,
     "end_time": "2025-06-16T14:31:31.418289",
     "exception": false,
     "start_time": "2025-06-16T13:42:26.535962",
     "status": "completed"
    },
    "tags": []
   },
   "outputs": [
    {
     "name": "stdout",
     "output_type": "stream",
     "text": [
      "\n",
      "Training model with channels=[64, 128, 256, 256], pools=[False, True, True, True]\n",
      "Epoch 1/20\n"
     ]
    },
    {
     "name": "stderr",
     "output_type": "stream",
     "text": [
      "Training Epoch 1: 100%|██████████| 766/766 [00:24<00:00, 30.73it/s, Batch Loss=3.31]\n"
     ]
    },
    {
     "name": "stdout",
     "output_type": "stream",
     "text": [
      "Epoch 1 - Train Loss: 3.1981, Train Acc: 21.59%, Val Loss: 3.2749, Val Acc: 20.50%\n",
      "Epoch 2/20\n"
     ]
    },
    {
     "name": "stderr",
     "output_type": "stream",
     "text": [
      "Training Epoch 2: 100%|██████████| 766/766 [00:23<00:00, 32.74it/s, Batch Loss=2.59]\n"
     ]
    },
    {
     "name": "stdout",
     "output_type": "stream",
     "text": [
      "Epoch 2 - Train Loss: 2.5037, Train Acc: 35.29%, Val Loss: 2.6814, Val Acc: 33.30%\n",
      "Epoch 3/20\n"
     ]
    },
    {
     "name": "stderr",
     "output_type": "stream",
     "text": [
      "Training Epoch 3: 100%|██████████| 766/766 [00:23<00:00, 32.56it/s, Batch Loss=2.48]\n"
     ]
    },
    {
     "name": "stdout",
     "output_type": "stream",
     "text": [
      "Epoch 3 - Train Loss: 2.1913, Train Acc: 42.13%, Val Loss: 2.4416, Val Acc: 35.50%\n",
      "Epoch 4/20\n"
     ]
    },
    {
     "name": "stderr",
     "output_type": "stream",
     "text": [
      "Training Epoch 4: 100%|██████████| 766/766 [00:23<00:00, 32.43it/s, Batch Loss=2.16]\n"
     ]
    },
    {
     "name": "stdout",
     "output_type": "stream",
     "text": [
      "Epoch 4 - Train Loss: 1.9238, Train Acc: 48.26%, Val Loss: 2.2596, Val Acc: 40.50%\n",
      "Epoch 5/20\n"
     ]
    },
    {
     "name": "stderr",
     "output_type": "stream",
     "text": [
      "Training Epoch 5: 100%|██████████| 766/766 [00:23<00:00, 32.46it/s, Batch Loss=2.42]\n"
     ]
    },
    {
     "name": "stdout",
     "output_type": "stream",
     "text": [
      "Epoch 5 - Train Loss: 1.7230, Train Acc: 52.12%, Val Loss: 2.1884, Val Acc: 42.70%\n",
      "Epoch 6/20\n"
     ]
    },
    {
     "name": "stderr",
     "output_type": "stream",
     "text": [
      "Training Epoch 6: 100%|██████████| 766/766 [00:23<00:00, 32.49it/s, Batch Loss=2.34]\n"
     ]
    },
    {
     "name": "stdout",
     "output_type": "stream",
     "text": [
      "Epoch 6 - Train Loss: 1.5251, Train Acc: 57.00%, Val Loss: 2.1375, Val Acc: 45.80%\n",
      "Epoch 7/20\n"
     ]
    },
    {
     "name": "stderr",
     "output_type": "stream",
     "text": [
      "Training Epoch 7: 100%|██████████| 766/766 [00:23<00:00, 32.42it/s, Batch Loss=1.79]\n"
     ]
    },
    {
     "name": "stdout",
     "output_type": "stream",
     "text": [
      "Epoch 7 - Train Loss: 1.3745, Train Acc: 60.77%, Val Loss: 2.0633, Val Acc: 45.60%\n",
      "Epoch 8/20\n"
     ]
    },
    {
     "name": "stderr",
     "output_type": "stream",
     "text": [
      "Training Epoch 8: 100%|██████████| 766/766 [00:23<00:00, 32.28it/s, Batch Loss=1.24]\n"
     ]
    },
    {
     "name": "stdout",
     "output_type": "stream",
     "text": [
      "Epoch 8 - Train Loss: 1.2267, Train Acc: 64.42%, Val Loss: 2.0935, Val Acc: 45.80%\n",
      "Epoch 9/20\n"
     ]
    },
    {
     "name": "stderr",
     "output_type": "stream",
     "text": [
      "Training Epoch 9: 100%|██████████| 766/766 [00:23<00:00, 32.24it/s, Batch Loss=1.55]\n"
     ]
    },
    {
     "name": "stdout",
     "output_type": "stream",
     "text": [
      "Epoch 9 - Train Loss: 1.1294, Train Acc: 67.51%, Val Loss: 2.2700, Val Acc: 44.60%\n",
      "Epoch 10/20\n"
     ]
    },
    {
     "name": "stderr",
     "output_type": "stream",
     "text": [
      "Training Epoch 10: 100%|██████████| 766/766 [00:23<00:00, 32.20it/s, Batch Loss=0.89]\n"
     ]
    },
    {
     "name": "stdout",
     "output_type": "stream",
     "text": [
      "Epoch 10 - Train Loss: 1.0367, Train Acc: 69.44%, Val Loss: 2.2157, Val Acc: 44.20%\n",
      "Epoch 11/20\n"
     ]
    },
    {
     "name": "stderr",
     "output_type": "stream",
     "text": [
      "Training Epoch 11: 100%|██████████| 766/766 [00:23<00:00, 32.41it/s, Batch Loss=1.11]\n"
     ]
    },
    {
     "name": "stdout",
     "output_type": "stream",
     "text": [
      "Epoch 11 - Train Loss: 0.9491, Train Acc: 71.61%, Val Loss: 2.3183, Val Acc: 45.60%\n",
      "Epoch 12/20\n"
     ]
    },
    {
     "name": "stderr",
     "output_type": "stream",
     "text": [
      "Training Epoch 12: 100%|██████████| 766/766 [00:23<00:00, 32.53it/s, Batch Loss=1.08]\n"
     ]
    },
    {
     "name": "stdout",
     "output_type": "stream",
     "text": [
      "Epoch 12 - Train Loss: 0.9062, Train Acc: 72.64%, Val Loss: 2.2482, Val Acc: 45.30%\n",
      "Epoch 13/20\n"
     ]
    },
    {
     "name": "stderr",
     "output_type": "stream",
     "text": [
      "Training Epoch 13: 100%|██████████| 766/766 [00:23<00:00, 32.40it/s, Batch Loss=0.983]\n"
     ]
    },
    {
     "name": "stdout",
     "output_type": "stream",
     "text": [
      "Epoch 13 - Train Loss: 0.8478, Train Acc: 74.11%, Val Loss: 2.2912, Val Acc: 45.20%\n",
      "Epoch 14/20\n"
     ]
    },
    {
     "name": "stderr",
     "output_type": "stream",
     "text": [
      "Training Epoch 14: 100%|██████████| 766/766 [00:23<00:00, 32.53it/s, Batch Loss=1.14]\n"
     ]
    },
    {
     "name": "stdout",
     "output_type": "stream",
     "text": [
      "Epoch 14 - Train Loss: 0.8058, Train Acc: 75.29%, Val Loss: 2.5089, Val Acc: 44.70%\n",
      "Epoch 15/20\n"
     ]
    },
    {
     "name": "stderr",
     "output_type": "stream",
     "text": [
      "Training Epoch 15: 100%|██████████| 766/766 [00:23<00:00, 32.54it/s, Batch Loss=1.03]\n"
     ]
    },
    {
     "name": "stdout",
     "output_type": "stream",
     "text": [
      "Epoch 15 - Train Loss: 0.7307, Train Acc: 77.31%, Val Loss: 2.5658, Val Acc: 45.10%\n",
      "Epoch 16/20\n"
     ]
    },
    {
     "name": "stderr",
     "output_type": "stream",
     "text": [
      "Training Epoch 16: 100%|██████████| 766/766 [00:23<00:00, 32.38it/s, Batch Loss=1.07]\n"
     ]
    },
    {
     "name": "stdout",
     "output_type": "stream",
     "text": [
      "Epoch 16 - Train Loss: 0.6628, Train Acc: 79.30%, Val Loss: 2.7160, Val Acc: 43.40%\n",
      "Epoch 17/20\n"
     ]
    },
    {
     "name": "stderr",
     "output_type": "stream",
     "text": [
      "Training Epoch 17: 100%|██████████| 766/766 [00:23<00:00, 32.44it/s, Batch Loss=0.866]\n"
     ]
    },
    {
     "name": "stdout",
     "output_type": "stream",
     "text": [
      "Epoch 17 - Train Loss: 0.6366, Train Acc: 80.16%, Val Loss: 2.7024, Val Acc: 44.20%\n",
      "Epoch 18/20\n"
     ]
    },
    {
     "name": "stderr",
     "output_type": "stream",
     "text": [
      "Training Epoch 18: 100%|██████████| 766/766 [00:23<00:00, 32.34it/s, Batch Loss=0.538]\n"
     ]
    },
    {
     "name": "stdout",
     "output_type": "stream",
     "text": [
      "Epoch 18 - Train Loss: 0.6189, Train Acc: 80.71%, Val Loss: 2.6771, Val Acc: 44.70%\n",
      "Epoch 19/20\n"
     ]
    },
    {
     "name": "stderr",
     "output_type": "stream",
     "text": [
      "Training Epoch 19: 100%|██████████| 766/766 [00:23<00:00, 32.43it/s, Batch Loss=0.541]\n"
     ]
    },
    {
     "name": "stdout",
     "output_type": "stream",
     "text": [
      "Epoch 19 - Train Loss: 0.5650, Train Acc: 82.27%, Val Loss: 2.6767, Val Acc: 43.80%\n",
      "Epoch 20/20\n"
     ]
    },
    {
     "name": "stderr",
     "output_type": "stream",
     "text": [
      "Training Epoch 20: 100%|██████████| 766/766 [00:23<00:00, 32.41it/s, Batch Loss=0.503]\n"
     ]
    },
    {
     "name": "stdout",
     "output_type": "stream",
     "text": [
      "Epoch 20 - Train Loss: 0.5424, Train Acc: 82.91%, Val Loss: 2.8716, Val Acc: 43.80%\n",
      "\n",
      "Training model with channels=[64, 128, 256, 256], pools=[False, True, False, True]\n",
      "Epoch 1/20\n"
     ]
    },
    {
     "name": "stderr",
     "output_type": "stream",
     "text": [
      "Training Epoch 1: 100%|██████████| 766/766 [00:29<00:00, 26.05it/s, Batch Loss=3.21]\n"
     ]
    },
    {
     "name": "stdout",
     "output_type": "stream",
     "text": [
      "Epoch 1 - Train Loss: 3.3148, Train Acc: 19.87%, Val Loss: 3.4021, Val Acc: 19.50%\n",
      "Epoch 2/20\n"
     ]
    },
    {
     "name": "stderr",
     "output_type": "stream",
     "text": [
      "Training Epoch 2: 100%|██████████| 766/766 [00:28<00:00, 26.74it/s, Batch Loss=2.65]\n"
     ]
    },
    {
     "name": "stdout",
     "output_type": "stream",
     "text": [
      "Epoch 2 - Train Loss: 2.6030, Train Acc: 33.72%, Val Loss: 2.7577, Val Acc: 29.00%\n",
      "Epoch 3/20\n"
     ]
    },
    {
     "name": "stderr",
     "output_type": "stream",
     "text": [
      "Training Epoch 3: 100%|██████████| 766/766 [00:28<00:00, 26.87it/s, Batch Loss=2.32]\n"
     ]
    },
    {
     "name": "stdout",
     "output_type": "stream",
     "text": [
      "Epoch 3 - Train Loss: 2.1200, Train Acc: 44.33%, Val Loss: 2.4090, Val Acc: 37.80%\n",
      "Epoch 4/20\n"
     ]
    },
    {
     "name": "stderr",
     "output_type": "stream",
     "text": [
      "Training Epoch 4: 100%|██████████| 766/766 [00:28<00:00, 27.01it/s, Batch Loss=1.92]\n"
     ]
    },
    {
     "name": "stdout",
     "output_type": "stream",
     "text": [
      "Epoch 4 - Train Loss: 1.7878, Train Acc: 51.92%, Val Loss: 2.2743, Val Acc: 41.60%\n",
      "Epoch 5/20\n"
     ]
    },
    {
     "name": "stderr",
     "output_type": "stream",
     "text": [
      "Training Epoch 5: 100%|██████████| 766/766 [00:28<00:00, 26.99it/s, Batch Loss=1.83]\n"
     ]
    },
    {
     "name": "stdout",
     "output_type": "stream",
     "text": [
      "Epoch 5 - Train Loss: 1.5868, Train Acc: 56.39%, Val Loss: 2.2797, Val Acc: 42.20%\n",
      "Epoch 6/20\n"
     ]
    },
    {
     "name": "stderr",
     "output_type": "stream",
     "text": [
      "Training Epoch 6: 100%|██████████| 766/766 [00:28<00:00, 26.97it/s, Batch Loss=1.6]\n"
     ]
    },
    {
     "name": "stdout",
     "output_type": "stream",
     "text": [
      "Epoch 6 - Train Loss: 1.3138, Train Acc: 63.20%, Val Loss: 2.3376, Val Acc: 40.80%\n",
      "Epoch 7/20\n"
     ]
    },
    {
     "name": "stderr",
     "output_type": "stream",
     "text": [
      "Training Epoch 7: 100%|██████████| 766/766 [00:28<00:00, 26.85it/s, Batch Loss=1.18]\n"
     ]
    },
    {
     "name": "stdout",
     "output_type": "stream",
     "text": [
      "Epoch 7 - Train Loss: 1.0957, Train Acc: 68.45%, Val Loss: 2.3715, Val Acc: 42.90%\n",
      "Epoch 8/20\n"
     ]
    },
    {
     "name": "stderr",
     "output_type": "stream",
     "text": [
      "Training Epoch 8: 100%|██████████| 766/766 [00:28<00:00, 26.79it/s, Batch Loss=1.36]\n"
     ]
    },
    {
     "name": "stdout",
     "output_type": "stream",
     "text": [
      "Epoch 8 - Train Loss: 0.9203, Train Acc: 73.11%, Val Loss: 2.3715, Val Acc: 43.70%\n",
      "Epoch 9/20\n"
     ]
    },
    {
     "name": "stderr",
     "output_type": "stream",
     "text": [
      "Training Epoch 9: 100%|██████████| 766/766 [00:28<00:00, 26.96it/s, Batch Loss=1.12]\n"
     ]
    },
    {
     "name": "stdout",
     "output_type": "stream",
     "text": [
      "Epoch 9 - Train Loss: 0.8153, Train Acc: 75.59%, Val Loss: 2.5349, Val Acc: 43.20%\n",
      "Epoch 10/20\n"
     ]
    },
    {
     "name": "stderr",
     "output_type": "stream",
     "text": [
      "Training Epoch 10: 100%|██████████| 766/766 [00:28<00:00, 26.93it/s, Batch Loss=0.683]\n"
     ]
    },
    {
     "name": "stdout",
     "output_type": "stream",
     "text": [
      "Epoch 10 - Train Loss: 0.6845, Train Acc: 79.10%, Val Loss: 2.6202, Val Acc: 42.70%\n",
      "Epoch 11/20\n"
     ]
    },
    {
     "name": "stderr",
     "output_type": "stream",
     "text": [
      "Training Epoch 11: 100%|██████████| 766/766 [00:28<00:00, 27.10it/s, Batch Loss=0.857]\n"
     ]
    },
    {
     "name": "stdout",
     "output_type": "stream",
     "text": [
      "Epoch 11 - Train Loss: 0.6173, Train Acc: 81.36%, Val Loss: 2.8185, Val Acc: 41.30%\n",
      "Epoch 12/20\n"
     ]
    },
    {
     "name": "stderr",
     "output_type": "stream",
     "text": [
      "Training Epoch 12: 100%|██████████| 766/766 [00:28<00:00, 26.91it/s, Batch Loss=0.678]\n"
     ]
    },
    {
     "name": "stdout",
     "output_type": "stream",
     "text": [
      "Epoch 12 - Train Loss: 0.5243, Train Acc: 83.72%, Val Loss: 2.8285, Val Acc: 42.10%\n",
      "Epoch 13/20\n"
     ]
    },
    {
     "name": "stderr",
     "output_type": "stream",
     "text": [
      "Training Epoch 13: 100%|██████████| 766/766 [00:28<00:00, 27.03it/s, Batch Loss=0.789]\n"
     ]
    },
    {
     "name": "stdout",
     "output_type": "stream",
     "text": [
      "Epoch 13 - Train Loss: 0.4893, Train Acc: 84.51%, Val Loss: 2.9018, Val Acc: 43.90%\n",
      "Epoch 14/20\n"
     ]
    },
    {
     "name": "stderr",
     "output_type": "stream",
     "text": [
      "Training Epoch 14: 100%|██████████| 766/766 [00:28<00:00, 27.06it/s, Batch Loss=1.01]\n"
     ]
    },
    {
     "name": "stdout",
     "output_type": "stream",
     "text": [
      "Epoch 14 - Train Loss: 0.5053, Train Acc: 84.10%, Val Loss: 3.0707, Val Acc: 41.50%\n",
      "Epoch 15/20\n"
     ]
    },
    {
     "name": "stderr",
     "output_type": "stream",
     "text": [
      "Training Epoch 15: 100%|██████████| 766/766 [00:28<00:00, 27.06it/s, Batch Loss=0.686]\n"
     ]
    },
    {
     "name": "stdout",
     "output_type": "stream",
     "text": [
      "Epoch 15 - Train Loss: 0.4667, Train Acc: 85.45%, Val Loss: 3.0140, Val Acc: 43.00%\n",
      "Epoch 16/20\n"
     ]
    },
    {
     "name": "stderr",
     "output_type": "stream",
     "text": [
      "Training Epoch 16: 100%|██████████| 766/766 [00:28<00:00, 27.01it/s, Batch Loss=0.274]\n"
     ]
    },
    {
     "name": "stdout",
     "output_type": "stream",
     "text": [
      "Epoch 16 - Train Loss: 0.4378, Train Acc: 86.26%, Val Loss: 3.2527, Val Acc: 41.30%\n",
      "Epoch 17/20\n"
     ]
    },
    {
     "name": "stderr",
     "output_type": "stream",
     "text": [
      "Training Epoch 17: 100%|██████████| 766/766 [00:28<00:00, 26.95it/s, Batch Loss=1.03]\n"
     ]
    },
    {
     "name": "stdout",
     "output_type": "stream",
     "text": [
      "Epoch 17 - Train Loss: 0.4186, Train Acc: 86.82%, Val Loss: 3.5168, Val Acc: 41.00%\n",
      "Epoch 18/20\n"
     ]
    },
    {
     "name": "stderr",
     "output_type": "stream",
     "text": [
      "Training Epoch 18: 100%|██████████| 766/766 [00:28<00:00, 26.84it/s, Batch Loss=0.491]\n"
     ]
    },
    {
     "name": "stdout",
     "output_type": "stream",
     "text": [
      "Epoch 18 - Train Loss: 0.3962, Train Acc: 87.72%, Val Loss: 3.3638, Val Acc: 42.20%\n",
      "Epoch 19/20\n"
     ]
    },
    {
     "name": "stderr",
     "output_type": "stream",
     "text": [
      "Training Epoch 19: 100%|██████████| 766/766 [00:28<00:00, 26.87it/s, Batch Loss=0.557]\n"
     ]
    },
    {
     "name": "stdout",
     "output_type": "stream",
     "text": [
      "Epoch 19 - Train Loss: 0.3813, Train Acc: 88.09%, Val Loss: 3.4799, Val Acc: 41.60%\n",
      "Epoch 20/20\n"
     ]
    },
    {
     "name": "stderr",
     "output_type": "stream",
     "text": [
      "Training Epoch 20: 100%|██████████| 766/766 [00:28<00:00, 26.84it/s, Batch Loss=0.572]\n"
     ]
    },
    {
     "name": "stdout",
     "output_type": "stream",
     "text": [
      "Epoch 20 - Train Loss: 0.3505, Train Acc: 88.97%, Val Loss: 3.4232, Val Acc: 40.50%\n",
      "\n",
      "Training model with channels=[64, 128, 128, 256], pools=[False, True, False, True]\n",
      "Epoch 1/20\n"
     ]
    },
    {
     "name": "stderr",
     "output_type": "stream",
     "text": [
      "Training Epoch 1: 100%|██████████| 766/766 [00:26<00:00, 28.99it/s, Batch Loss=3.43]\n"
     ]
    },
    {
     "name": "stdout",
     "output_type": "stream",
     "text": [
      "Epoch 1 - Train Loss: 3.4513, Train Acc: 18.10%, Val Loss: 3.4562, Val Acc: 16.40%\n",
      "Epoch 2/20\n"
     ]
    },
    {
     "name": "stderr",
     "output_type": "stream",
     "text": [
      "Training Epoch 2: 100%|██████████| 766/766 [00:25<00:00, 29.80it/s, Batch Loss=2.47]\n"
     ]
    },
    {
     "name": "stdout",
     "output_type": "stream",
     "text": [
      "Epoch 2 - Train Loss: 2.6219, Train Acc: 33.36%, Val Loss: 2.8034, Val Acc: 28.80%\n",
      "Epoch 3/20\n"
     ]
    },
    {
     "name": "stderr",
     "output_type": "stream",
     "text": [
      "Training Epoch 3: 100%|██████████| 766/766 [00:25<00:00, 29.68it/s, Batch Loss=2.05]\n"
     ]
    },
    {
     "name": "stdout",
     "output_type": "stream",
     "text": [
      "Epoch 3 - Train Loss: 2.1680, Train Acc: 43.57%, Val Loss: 2.4035, Val Acc: 37.40%\n",
      "Epoch 4/20\n"
     ]
    },
    {
     "name": "stderr",
     "output_type": "stream",
     "text": [
      "Training Epoch 4: 100%|██████████| 766/766 [00:26<00:00, 29.39it/s, Batch Loss=1.84]\n"
     ]
    },
    {
     "name": "stdout",
     "output_type": "stream",
     "text": [
      "Epoch 4 - Train Loss: 1.8340, Train Acc: 50.17%, Val Loss: 2.2721, Val Acc: 39.60%\n",
      "Epoch 5/20\n"
     ]
    },
    {
     "name": "stderr",
     "output_type": "stream",
     "text": [
      "Training Epoch 5: 100%|██████████| 766/766 [00:25<00:00, 29.65it/s, Batch Loss=2]\n"
     ]
    },
    {
     "name": "stdout",
     "output_type": "stream",
     "text": [
      "Epoch 5 - Train Loss: 1.5957, Train Acc: 56.93%, Val Loss: 2.2560, Val Acc: 41.00%\n",
      "Epoch 6/20\n"
     ]
    },
    {
     "name": "stderr",
     "output_type": "stream",
     "text": [
      "Training Epoch 6: 100%|██████████| 766/766 [00:25<00:00, 29.75it/s, Batch Loss=1.69]\n"
     ]
    },
    {
     "name": "stdout",
     "output_type": "stream",
     "text": [
      "Epoch 6 - Train Loss: 1.3218, Train Acc: 62.52%, Val Loss: 2.3556, Val Acc: 40.30%\n",
      "Epoch 7/20\n"
     ]
    },
    {
     "name": "stderr",
     "output_type": "stream",
     "text": [
      "Training Epoch 7: 100%|██████████| 766/766 [00:25<00:00, 29.89it/s, Batch Loss=1.55]\n"
     ]
    },
    {
     "name": "stdout",
     "output_type": "stream",
     "text": [
      "Epoch 7 - Train Loss: 1.0732, Train Acc: 69.09%, Val Loss: 2.2282, Val Acc: 44.00%\n",
      "Epoch 8/20\n"
     ]
    },
    {
     "name": "stderr",
     "output_type": "stream",
     "text": [
      "Training Epoch 8: 100%|██████████| 766/766 [00:25<00:00, 29.85it/s, Batch Loss=1.41]\n"
     ]
    },
    {
     "name": "stdout",
     "output_type": "stream",
     "text": [
      "Epoch 8 - Train Loss: 0.9348, Train Acc: 72.76%, Val Loss: 2.2945, Val Acc: 42.50%\n",
      "Epoch 9/20\n"
     ]
    },
    {
     "name": "stderr",
     "output_type": "stream",
     "text": [
      "Training Epoch 9: 100%|██████████| 766/766 [00:25<00:00, 29.84it/s, Batch Loss=0.914]\n"
     ]
    },
    {
     "name": "stdout",
     "output_type": "stream",
     "text": [
      "Epoch 9 - Train Loss: 0.8148, Train Acc: 75.51%, Val Loss: 2.5366, Val Acc: 41.00%\n",
      "Epoch 10/20\n"
     ]
    },
    {
     "name": "stderr",
     "output_type": "stream",
     "text": [
      "Training Epoch 10: 100%|██████████| 766/766 [00:25<00:00, 30.08it/s, Batch Loss=1.35]\n"
     ]
    },
    {
     "name": "stdout",
     "output_type": "stream",
     "text": [
      "Epoch 10 - Train Loss: 0.7265, Train Acc: 77.89%, Val Loss: 2.6647, Val Acc: 41.80%\n",
      "Epoch 11/20\n"
     ]
    },
    {
     "name": "stderr",
     "output_type": "stream",
     "text": [
      "Training Epoch 11: 100%|██████████| 766/766 [00:25<00:00, 29.87it/s, Batch Loss=0.664]\n"
     ]
    },
    {
     "name": "stdout",
     "output_type": "stream",
     "text": [
      "Epoch 11 - Train Loss: 0.6641, Train Acc: 79.78%, Val Loss: 2.9033, Val Acc: 42.20%\n",
      "Epoch 12/20\n"
     ]
    },
    {
     "name": "stderr",
     "output_type": "stream",
     "text": [
      "Training Epoch 12: 100%|██████████| 766/766 [00:25<00:00, 29.72it/s, Batch Loss=0.711]\n"
     ]
    },
    {
     "name": "stdout",
     "output_type": "stream",
     "text": [
      "Epoch 12 - Train Loss: 0.6045, Train Acc: 81.50%, Val Loss: 2.8636, Val Acc: 43.80%\n",
      "Epoch 13/20\n"
     ]
    },
    {
     "name": "stderr",
     "output_type": "stream",
     "text": [
      "Training Epoch 13: 100%|██████████| 766/766 [00:25<00:00, 29.88it/s, Batch Loss=0.912]\n"
     ]
    },
    {
     "name": "stdout",
     "output_type": "stream",
     "text": [
      "Epoch 13 - Train Loss: 0.5517, Train Acc: 82.78%, Val Loss: 2.7875, Val Acc: 42.70%\n",
      "Epoch 14/20\n"
     ]
    },
    {
     "name": "stderr",
     "output_type": "stream",
     "text": [
      "Training Epoch 14: 100%|██████████| 766/766 [00:25<00:00, 29.67it/s, Batch Loss=0.835]\n"
     ]
    },
    {
     "name": "stdout",
     "output_type": "stream",
     "text": [
      "Epoch 14 - Train Loss: 0.4939, Train Acc: 84.46%, Val Loss: 3.1004, Val Acc: 41.70%\n",
      "Epoch 15/20\n"
     ]
    },
    {
     "name": "stderr",
     "output_type": "stream",
     "text": [
      "Training Epoch 15: 100%|██████████| 766/766 [00:25<00:00, 30.03it/s, Batch Loss=0.752]\n"
     ]
    },
    {
     "name": "stdout",
     "output_type": "stream",
     "text": [
      "Epoch 15 - Train Loss: 0.4763, Train Acc: 85.10%, Val Loss: 3.2223, Val Acc: 42.00%\n",
      "Epoch 16/20\n"
     ]
    },
    {
     "name": "stderr",
     "output_type": "stream",
     "text": [
      "Training Epoch 16: 100%|██████████| 766/766 [00:25<00:00, 29.63it/s, Batch Loss=0.483]\n"
     ]
    },
    {
     "name": "stdout",
     "output_type": "stream",
     "text": [
      "Epoch 16 - Train Loss: 0.4575, Train Acc: 85.50%, Val Loss: 3.2611, Val Acc: 40.70%\n",
      "Epoch 17/20\n"
     ]
    },
    {
     "name": "stderr",
     "output_type": "stream",
     "text": [
      "Training Epoch 17: 100%|██████████| 766/766 [00:25<00:00, 29.68it/s, Batch Loss=0.519]\n"
     ]
    },
    {
     "name": "stdout",
     "output_type": "stream",
     "text": [
      "Epoch 17 - Train Loss: 0.4489, Train Acc: 85.89%, Val Loss: 3.2436, Val Acc: 42.20%\n",
      "Epoch 18/20\n"
     ]
    },
    {
     "name": "stderr",
     "output_type": "stream",
     "text": [
      "Training Epoch 18: 100%|██████████| 766/766 [00:25<00:00, 29.78it/s, Batch Loss=0.614]\n"
     ]
    },
    {
     "name": "stdout",
     "output_type": "stream",
     "text": [
      "Epoch 18 - Train Loss: 0.4182, Train Acc: 86.70%, Val Loss: 3.2981, Val Acc: 42.20%\n",
      "Epoch 19/20\n"
     ]
    },
    {
     "name": "stderr",
     "output_type": "stream",
     "text": [
      "Training Epoch 19: 100%|██████████| 766/766 [00:25<00:00, 29.71it/s, Batch Loss=0.302]\n"
     ]
    },
    {
     "name": "stdout",
     "output_type": "stream",
     "text": [
      "Epoch 19 - Train Loss: 0.3864, Train Acc: 87.60%, Val Loss: 3.3524, Val Acc: 41.30%\n",
      "Epoch 20/20\n"
     ]
    },
    {
     "name": "stderr",
     "output_type": "stream",
     "text": [
      "Training Epoch 20: 100%|██████████| 766/766 [00:26<00:00, 29.46it/s, Batch Loss=0.579]\n"
     ]
    },
    {
     "name": "stdout",
     "output_type": "stream",
     "text": [
      "Epoch 20 - Train Loss: 0.3925, Train Acc: 87.60%, Val Loss: 3.5087, Val Acc: 41.70%\n",
      "\n",
      "Training model with channels=[64, 64, 128, 128, 256], pools=[False, True, False, True, False]\n",
      "Epoch 1/20\n"
     ]
    },
    {
     "name": "stderr",
     "output_type": "stream",
     "text": [
      "Training Epoch 1: 100%|██████████| 766/766 [00:22<00:00, 33.63it/s, Batch Loss=3.02]\n"
     ]
    },
    {
     "name": "stdout",
     "output_type": "stream",
     "text": [
      "Epoch 1 - Train Loss: 3.0657, Train Acc: 24.80%, Val Loss: 3.1734, Val Acc: 21.00%\n",
      "Epoch 2/20\n"
     ]
    },
    {
     "name": "stderr",
     "output_type": "stream",
     "text": [
      "Training Epoch 2: 100%|██████████| 766/766 [00:22<00:00, 33.97it/s, Batch Loss=2.3]\n"
     ]
    },
    {
     "name": "stdout",
     "output_type": "stream",
     "text": [
      "Epoch 2 - Train Loss: 2.3899, Train Acc: 38.70%, Val Loss: 2.6045, Val Acc: 35.20%\n",
      "Epoch 3/20\n"
     ]
    },
    {
     "name": "stderr",
     "output_type": "stream",
     "text": [
      "Training Epoch 3: 100%|██████████| 766/766 [00:22<00:00, 34.04it/s, Batch Loss=2.09]\n"
     ]
    },
    {
     "name": "stdout",
     "output_type": "stream",
     "text": [
      "Epoch 3 - Train Loss: 2.0265, Train Acc: 45.87%, Val Loss: 2.3924, Val Acc: 37.00%\n",
      "Epoch 4/20\n"
     ]
    },
    {
     "name": "stderr",
     "output_type": "stream",
     "text": [
      "Training Epoch 4: 100%|██████████| 766/766 [00:22<00:00, 34.14it/s, Batch Loss=1.9]\n"
     ]
    },
    {
     "name": "stdout",
     "output_type": "stream",
     "text": [
      "Epoch 4 - Train Loss: 1.6883, Train Acc: 53.61%, Val Loss: 2.2538, Val Acc: 42.10%\n",
      "Epoch 5/20\n"
     ]
    },
    {
     "name": "stderr",
     "output_type": "stream",
     "text": [
      "Training Epoch 5: 100%|██████████| 766/766 [00:22<00:00, 34.30it/s, Batch Loss=1.54]\n"
     ]
    },
    {
     "name": "stdout",
     "output_type": "stream",
     "text": [
      "Epoch 5 - Train Loss: 1.4268, Train Acc: 60.51%, Val Loss: 2.1586, Val Acc: 44.90%\n",
      "Epoch 6/20\n"
     ]
    },
    {
     "name": "stderr",
     "output_type": "stream",
     "text": [
      "Training Epoch 6: 100%|██████████| 766/766 [00:22<00:00, 34.04it/s, Batch Loss=1.56]\n"
     ]
    },
    {
     "name": "stdout",
     "output_type": "stream",
     "text": [
      "Epoch 6 - Train Loss: 1.1981, Train Acc: 65.88%, Val Loss: 2.1775, Val Acc: 44.30%\n",
      "Epoch 7/20\n"
     ]
    },
    {
     "name": "stderr",
     "output_type": "stream",
     "text": [
      "Training Epoch 7: 100%|██████████| 766/766 [00:22<00:00, 33.92it/s, Batch Loss=1.43]\n"
     ]
    },
    {
     "name": "stdout",
     "output_type": "stream",
     "text": [
      "Epoch 7 - Train Loss: 1.0511, Train Acc: 69.82%, Val Loss: 2.2541, Val Acc: 44.50%\n",
      "Epoch 8/20\n"
     ]
    },
    {
     "name": "stderr",
     "output_type": "stream",
     "text": [
      "Training Epoch 8: 100%|██████████| 766/766 [00:22<00:00, 34.17it/s, Batch Loss=1.12]\n"
     ]
    },
    {
     "name": "stdout",
     "output_type": "stream",
     "text": [
      "Epoch 8 - Train Loss: 0.8353, Train Acc: 75.24%, Val Loss: 2.3696, Val Acc: 45.80%\n",
      "Epoch 9/20\n"
     ]
    },
    {
     "name": "stderr",
     "output_type": "stream",
     "text": [
      "Training Epoch 9: 100%|██████████| 766/766 [00:22<00:00, 34.14it/s, Batch Loss=1.07]\n"
     ]
    },
    {
     "name": "stdout",
     "output_type": "stream",
     "text": [
      "Epoch 9 - Train Loss: 0.7124, Train Acc: 78.25%, Val Loss: 2.6241, Val Acc: 43.40%\n",
      "Epoch 10/20\n"
     ]
    },
    {
     "name": "stderr",
     "output_type": "stream",
     "text": [
      "Training Epoch 10: 100%|██████████| 766/766 [00:22<00:00, 33.63it/s, Batch Loss=1.02]\n"
     ]
    },
    {
     "name": "stdout",
     "output_type": "stream",
     "text": [
      "Epoch 10 - Train Loss: 0.6501, Train Acc: 80.13%, Val Loss: 2.6759, Val Acc: 42.70%\n",
      "Epoch 11/20\n"
     ]
    },
    {
     "name": "stderr",
     "output_type": "stream",
     "text": [
      "Training Epoch 11: 100%|██████████| 766/766 [00:22<00:00, 34.23it/s, Batch Loss=1.29]\n"
     ]
    },
    {
     "name": "stdout",
     "output_type": "stream",
     "text": [
      "Epoch 11 - Train Loss: 0.6437, Train Acc: 80.13%, Val Loss: 2.8384, Val Acc: 42.60%\n",
      "Epoch 12/20\n"
     ]
    },
    {
     "name": "stderr",
     "output_type": "stream",
     "text": [
      "Training Epoch 12: 100%|██████████| 766/766 [00:22<00:00, 33.94it/s, Batch Loss=1]\n"
     ]
    },
    {
     "name": "stdout",
     "output_type": "stream",
     "text": [
      "Epoch 12 - Train Loss: 0.5522, Train Acc: 82.76%, Val Loss: 2.8492, Val Acc: 43.40%\n",
      "Epoch 13/20\n"
     ]
    },
    {
     "name": "stderr",
     "output_type": "stream",
     "text": [
      "Training Epoch 13: 100%|██████████| 766/766 [00:22<00:00, 34.21it/s, Batch Loss=0.741]\n"
     ]
    },
    {
     "name": "stdout",
     "output_type": "stream",
     "text": [
      "Epoch 13 - Train Loss: 0.5099, Train Acc: 84.39%, Val Loss: 2.9035, Val Acc: 43.00%\n",
      "Epoch 14/20\n"
     ]
    },
    {
     "name": "stderr",
     "output_type": "stream",
     "text": [
      "Training Epoch 14: 100%|██████████| 766/766 [00:22<00:00, 33.83it/s, Batch Loss=0.72]\n"
     ]
    },
    {
     "name": "stdout",
     "output_type": "stream",
     "text": [
      "Epoch 14 - Train Loss: 0.4625, Train Acc: 85.42%, Val Loss: 3.1235, Val Acc: 43.60%\n",
      "Epoch 15/20\n"
     ]
    },
    {
     "name": "stderr",
     "output_type": "stream",
     "text": [
      "Training Epoch 15: 100%|██████████| 766/766 [00:22<00:00, 33.87it/s, Batch Loss=0.532]\n"
     ]
    },
    {
     "name": "stdout",
     "output_type": "stream",
     "text": [
      "Epoch 15 - Train Loss: 0.4553, Train Acc: 85.76%, Val Loss: 3.1215, Val Acc: 41.90%\n",
      "Epoch 16/20\n"
     ]
    },
    {
     "name": "stderr",
     "output_type": "stream",
     "text": [
      "Training Epoch 16: 100%|██████████| 766/766 [00:22<00:00, 33.96it/s, Batch Loss=0.668]\n"
     ]
    },
    {
     "name": "stdout",
     "output_type": "stream",
     "text": [
      "Epoch 16 - Train Loss: 0.4324, Train Acc: 86.38%, Val Loss: 3.2418, Val Acc: 43.30%\n",
      "Epoch 17/20\n"
     ]
    },
    {
     "name": "stderr",
     "output_type": "stream",
     "text": [
      "Training Epoch 17: 100%|██████████| 766/766 [00:22<00:00, 34.09it/s, Batch Loss=0.734]\n"
     ]
    },
    {
     "name": "stdout",
     "output_type": "stream",
     "text": [
      "Epoch 17 - Train Loss: 0.4119, Train Acc: 86.85%, Val Loss: 3.1584, Val Acc: 42.70%\n",
      "Epoch 18/20\n"
     ]
    },
    {
     "name": "stderr",
     "output_type": "stream",
     "text": [
      "Training Epoch 18: 100%|██████████| 766/766 [00:22<00:00, 33.83it/s, Batch Loss=0.428]\n"
     ]
    },
    {
     "name": "stdout",
     "output_type": "stream",
     "text": [
      "Epoch 18 - Train Loss: 0.3863, Train Acc: 87.93%, Val Loss: 3.3139, Val Acc: 43.60%\n",
      "Epoch 19/20\n"
     ]
    },
    {
     "name": "stderr",
     "output_type": "stream",
     "text": [
      "Training Epoch 19: 100%|██████████| 766/766 [00:22<00:00, 33.82it/s, Batch Loss=0.499]\n"
     ]
    },
    {
     "name": "stdout",
     "output_type": "stream",
     "text": [
      "Epoch 19 - Train Loss: 0.3649, Train Acc: 88.56%, Val Loss: 3.4036, Val Acc: 43.00%\n",
      "Epoch 20/20\n"
     ]
    },
    {
     "name": "stderr",
     "output_type": "stream",
     "text": [
      "Training Epoch 20: 100%|██████████| 766/766 [00:22<00:00, 33.88it/s, Batch Loss=0.424]\n"
     ]
    },
    {
     "name": "stdout",
     "output_type": "stream",
     "text": [
      "Epoch 20 - Train Loss: 0.3738, Train Acc: 88.18%, Val Loss: 3.3929, Val Acc: 42.90%\n"
     ]
    }
   ],
   "source": [
    "import os\n",
    "output_dir = \"/kaggle/working\"\n",
    "\n",
    "lr = 1e-3\n",
    "epochs = 20\n",
    "\n",
    "configs = [\n",
    "    # deeper network, max allowed pooling\n",
    "    {'name': 'model-1', 'channels': [64, 128, 256, 256], 'pools': [False, True, True, True]},\n",
    "    # deeper network, max allowed pooling\n",
    "    {'name': 'model-2','channels': [64, 128, 256, 256], 'pools': [False, True, False, True]},\n",
    "    # deeper network, max allowed pooling\n",
    "    {'name': 'model-3','channels': [64, 128, 128, 256], 'pools': [False, True, False, True]},\n",
    "    # deeper network, max allowed pooling\n",
    "    {'name': 'model-4','channels': [64, 64, 128, 128, 256], 'pools': [False, True, False, True, False]}\n",
    "]\n",
    "\n",
    "results = []\n",
    "\n",
    "for mc in configs:\n",
    "    print(f\"\\nTraining model with channels={mc['channels']}, pools={mc['pools']}\")\n",
    "\n",
    "    model = RegDeepCNN(mc['channels'], mc['pools'])\n",
    "    optimizer = optim.Adam(model.parameters(), lr=lr)\n",
    "    criterion = torch.nn.CrossEntropyLoss()\n",
    "\n",
    "    # Adjust train_model to return best and final weights plus metrics\n",
    "    best_wts, final_wts, train_accs, val_accs, train_losses, val_losses = train_model(\n",
    "        model, loader_train, loader_val, optimizer, criterion, epochs=epochs, device=DEVICE)\n",
    "\n",
    "    best_path = os.path.join(output_dir, f\"model_{mc['name']}_best.pth\")\n",
    "    final_path = os.path.join(output_dir, f\"model_{mc['name']}_final.pth\")\n",
    "    \n",
    "    torch.save(best_wts, best_path)\n",
    "    torch.save(final_wts, final_path)\n",
    "\n",
    "    results.append({\n",
    "        'name': mc['name'],\n",
    "        'channels': mc['channels'],\n",
    "        'pools': mc['pools'],\n",
    "        'train_accs': train_accs,\n",
    "        'val_accs': val_accs,\n",
    "        'train_losses': train_losses,\n",
    "        'val_losses': val_losses,\n",
    "        'best_weights': best_wts,\n",
    "        'final_weights': final_wts,\n",
    "    })"
   ]
  },
  {
   "cell_type": "code",
   "execution_count": 14,
   "id": "f3b73cfe",
   "metadata": {
    "execution": {
     "iopub.execute_input": "2025-06-16T14:31:38.227905Z",
     "iopub.status.busy": "2025-06-16T14:31:38.227105Z",
     "iopub.status.idle": "2025-06-16T14:31:38.234397Z",
     "shell.execute_reply": "2025-06-16T14:31:38.233819Z"
    },
    "id": "loTxaczVDl4A",
    "papermill": {
     "duration": 3.426698,
     "end_time": "2025-06-16T14:31:38.235563",
     "exception": false,
     "start_time": "2025-06-16T14:31:34.808865",
     "status": "completed"
    },
    "tags": []
   },
   "outputs": [],
   "source": [
    "def plot_results(results):\n",
    "    plt.figure(figsize=(10, 6))\n",
    "\n",
    "    for r in results:\n",
    "        label = f\"C: {r['name']}\"\n",
    "        train_losses = [l.item() if torch.is_tensor(l) else l for l in r['train_losses']]\n",
    "        val_losses = [l.item() if torch.is_tensor(l) else l for l in r['val_losses']]\n",
    "        plt.plot(train_losses, label=f\"{label} - Train\")\n",
    "        plt.plot(val_losses, linestyle='--', label=f\"{label} - Val\")\n",
    "    plt.title(\"Losses\")\n",
    "    plt.xlabel(\"Epoch\")\n",
    "    plt.ylabel(\"Loss\")\n",
    "    plt.legend(bbox_to_anchor=(1.05, 1), loc='upper left')\n",
    "    plt.show()\n",
    "\n",
    "    plt.figure(figsize=(10, 6))\n",
    "    for r in results:\n",
    "        label = f\"C: {r['name']}\"\n",
    "        train_accs = [a.item() if torch.is_tensor(a) else a for a in r['train_accs']]\n",
    "        val_accs = [a.item() if torch.is_tensor(a) else a for a in r['val_accs']]\n",
    "        plt.plot(train_accs, label=f\"{label} - Train\")\n",
    "        plt.plot(val_accs, linestyle='--', label=f\"{label} - Val\")\n",
    "    plt.title(\"Accuracies\")\n",
    "    plt.xlabel(\"Epoch\")\n",
    "    plt.ylabel(\"Accuracy\")\n",
    "    plt.legend(bbox_to_anchor=(1.05, 1), loc='upper left')\n",
    "    plt.show()\n"
   ]
  },
  {
   "cell_type": "code",
   "execution_count": 15,
   "id": "fd9e378c",
   "metadata": {
    "execution": {
     "iopub.execute_input": "2025-06-16T14:31:45.064870Z",
     "iopub.status.busy": "2025-06-16T14:31:45.063938Z",
     "iopub.status.idle": "2025-06-16T14:31:45.069502Z",
     "shell.execute_reply": "2025-06-16T14:31:45.068946Z"
    },
    "papermill": {
     "duration": 3.400573,
     "end_time": "2025-06-16T14:31:45.070694",
     "exception": false,
     "start_time": "2025-06-16T14:31:41.670121",
     "status": "completed"
    },
    "tags": []
   },
   "outputs": [],
   "source": [
    "def evaluate_best_models(results, loader_train, loader_val, loader_test, device):\n",
    "    print(\"=== Final Evaluation with Best Weights ===\")\n",
    "    for r in results:\n",
    "        model = RegDeepCNN(r['channels'], r['pools']).to(device)\n",
    "        model.load_state_dict(r['best_weights'])\n",
    "\n",
    "        train_acc, _ = check_accuracy_and_loss(loader_train, model, device)\n",
    "        val_acc, _ = check_accuracy_and_loss(loader_val, model, device)\n",
    "        test_acc, _ = check_accuracy_and_loss(loader_test, model, device)\n",
    "\n",
    "        print(f\"Channels: {r['channels']}, Pools: {r['pools']}\")\n",
    "        print(f\"  Train Acc: {train_acc:.2%}, Val Acc: {val_acc:.2%}, Test Acc: {test_acc:.2%}\\n\")\n"
   ]
  },
  {
   "cell_type": "code",
   "execution_count": 16,
   "id": "23e3ec58",
   "metadata": {
    "execution": {
     "iopub.execute_input": "2025-06-16T14:31:51.769428Z",
     "iopub.status.busy": "2025-06-16T14:31:51.769167Z",
     "iopub.status.idle": "2025-06-16T14:32:48.469423Z",
     "shell.execute_reply": "2025-06-16T14:32:48.468546Z"
    },
    "papermill": {
     "duration": 59.988102,
     "end_time": "2025-06-16T14:32:48.470584",
     "exception": false,
     "start_time": "2025-06-16T14:31:48.482482",
     "status": "completed"
    },
    "tags": []
   },
   "outputs": [
    {
     "data": {
      "image/png": "[encoded data removed]",
      "text/plain": [
       "<Figure size 1000x600 with 1 Axes>"
      ]
     },
     "metadata": {},
     "output_type": "display_data"
    },
    {
     "data": {
      "image/png": "[encoded data removed]",
      "text/plain": [
       "<Figure size 1000x600 with 1 Axes>"
      ]
     },
     "metadata": {},
     "output_type": "display_data"
    },
    {
     "name": "stdout",
     "output_type": "stream",
     "text": [
      "=== Final Evaluation with Best Weights ===\n",
      "Channels: [64, 128, 256, 256], Pools: [False, True, True, True]\n",
      "  Train Acc: 82.74%, Val Acc: 45.10%, Test Acc: 45.53%\n",
      "\n",
      "Channels: [64, 128, 256, 256], Pools: [False, True, False, True]\n",
      "  Train Acc: 88.80%, Val Acc: 43.40%, Test Acc: 42.88%\n",
      "\n",
      "Channels: [64, 128, 128, 256], Pools: [False, True, False, True]\n",
      "  Train Acc: 87.64%, Val Acc: 43.20%, Test Acc: 42.45%\n",
      "\n",
      "Channels: [64, 64, 128, 128, 256], Pools: [False, True, False, True, False]\n",
      "  Train Acc: 88.20%, Val Acc: 43.90%, Test Acc: 42.98%\n",
      "\n"
     ]
    }
   ],
   "source": [
    "plot_results(results)\n",
    "evaluate_best_models(results, loader_train, loader_val, loader_test, DEVICE)"
   ]
  },
  {
   "cell_type": "code",
   "execution_count": 17,
   "id": "f782bf4b",
   "metadata": {
    "execution": {
     "iopub.execute_input": "2025-06-16T14:32:55.046433Z",
     "iopub.status.busy": "2025-06-16T14:32:55.046168Z",
     "iopub.status.idle": "2025-06-16T14:32:56.591918Z",
     "shell.execute_reply": "2025-06-16T14:32:56.590981Z"
    },
    "papermill": {
     "duration": 4.869915,
     "end_time": "2025-06-16T14:32:56.593375",
     "exception": false,
     "start_time": "2025-06-16T14:32:51.723460",
     "status": "completed"
    },
    "tags": []
   },
   "outputs": [
    {
     "name": "stdout",
     "output_type": "stream",
     "text": [
      "Model Name                Channels                             Pools\n",
      "   model-1     [64, 128, 256, 256]         [False, True, True, True]\n",
      "   model-2     [64, 128, 256, 256]        [False, True, False, True]\n",
      "   model-3     [64, 128, 128, 256]        [False, True, False, True]\n",
      "   model-4 [64, 64, 128, 128, 256] [False, True, False, True, False]\n"
     ]
    }
   ],
   "source": [
    "import pandas as pd\n",
    "\n",
    "# Create DataFrame with selected columns\n",
    "summary_df = pd.DataFrame([\n",
    "    {\n",
    "        'Model Name': r['name'],\n",
    "        'Channels': r['channels'],\n",
    "        'Pools': r['pools']\n",
    "    }\n",
    "    for r in results\n",
    "])\n",
    "\n",
    "# Display as a table\n",
    "print(summary_df.to_string(index=False))\n"
   ]
  }
 ],
 "metadata": {
  "accelerator": "GPU",
  "colab": {
   "authorship_tag": "ABX9TyP3r2bmBrpOJCjjode63FE8",
   "collapsed_sections": [
    "U0Co_fPO7TOx",
    "eflCsz6MyTHV"
   ],
   "gpuType": "T4",
   "provenance": []
  },
  "kaggle": {
   "accelerator": "nvidiaTeslaT4",
   "dataSources": [],
   "dockerImageVersionId": 31041,
   "isGpuEnabled": true,
   "isInternetEnabled": true,
   "language": "python",
   "sourceType": "notebook"
  },
  "kernelspec": {
   "display_name": "Python 3",
   "language": "python",
   "name": "python3"
  },
  "language_info": {
   "codemirror_mode": {
    "name": "ipython",
    "version": 3
   },
   "file_extension": ".py",
   "mimetype": "text/x-python",
   "name": "python",
   "nbconvert_exporter": "python",
   "pygments_lexer": "ipython3",
   "version": "3.11.11"
  },
  "papermill": {
   "default_parameters": {},
   "duration": 3058.594641,
   "end_time": "2025-06-16T14:33:03.045543",
   "environment_variables": {},
   "exception": null,
   "input_path": "__notebook__.ipynb",
   "output_path": "__notebook__.ipynb",
   "parameters": {},
   "start_time": "2025-06-16T13:42:04.450902",
   "version": "2.6.0"
  }
 },
 "nbformat": 4,
 "nbformat_minor": 5
}
