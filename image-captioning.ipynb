{
 "cells": [
  {
   "cell_type": "markdown",
   "id": "7d0c0d7a",
   "metadata": {
    "id": "BVXO510txVmG",
    "papermill": {
     "duration": 0.005504,
     "end_time": "2025-06-16T11:42:49.904563",
     "exception": false,
     "start_time": "2025-06-16T11:42:49.899059",
     "status": "completed"
    },
    "tags": []
   },
   "source": [
    "## Imports and Initialization"
   ]
  },
  {
   "cell_type": "code",
   "execution_count": 1,
   "id": "f2033dc7",
   "metadata": {
    "execution": {
     "iopub.execute_input": "2025-06-16T11:42:49.914599Z",
     "iopub.status.busy": "2025-06-16T11:42:49.914286Z",
     "iopub.status.idle": "2025-06-16T11:42:49.918493Z",
     "shell.execute_reply": "2025-06-16T11:42:49.917880Z"
    },
    "papermill": {
     "duration": 0.010731,
     "end_time": "2025-06-16T11:42:49.919783",
     "exception": false,
     "start_time": "2025-06-16T11:42:49.909052",
     "status": "completed"
    },
    "tags": []
   },
   "outputs": [],
   "source": [
    "#!pip install sympy==1.12 --force-reinstall"
   ]
  },
  {
   "cell_type": "code",
   "execution_count": 2,
   "id": "968853a6",
   "metadata": {
    "execution": {
     "iopub.execute_input": "2025-06-16T11:42:49.929146Z",
     "iopub.status.busy": "2025-06-16T11:42:49.928915Z",
     "iopub.status.idle": "2025-06-16T11:42:49.932299Z",
     "shell.execute_reply": "2025-06-16T11:42:49.931546Z"
    },
    "papermill": {
     "duration": 0.009498,
     "end_time": "2025-06-16T11:42:49.933636",
     "exception": false,
     "start_time": "2025-06-16T11:42:49.924138",
     "status": "completed"
    },
    "tags": []
   },
   "outputs": [],
   "source": [
    "#import torchvision\n",
    "#print(torchvision.__version__)"
   ]
  },
  {
   "cell_type": "code",
   "execution_count": 3,
   "id": "1b273561",
   "metadata": {
    "execution": {
     "iopub.execute_input": "2025-06-16T11:42:49.945540Z",
     "iopub.status.busy": "2025-06-16T11:42:49.944476Z",
     "iopub.status.idle": "2025-06-16T11:43:00.237497Z",
     "shell.execute_reply": "2025-06-16T11:43:00.236892Z"
    },
    "executionInfo": {
     "elapsed": 4,
     "status": "ok",
     "timestamp": 1749998343502,
     "user": {
      "displayName": "TOLGA ERMİŞ",
      "userId": "04127226952438363406"
     },
     "user_tz": -120
    },
    "id": "Jeu144qhWe0J",
    "papermill": {
     "duration": 10.301165,
     "end_time": "2025-06-16T11:43:00.238880",
     "exception": false,
     "start_time": "2025-06-16T11:42:49.937715",
     "status": "completed"
    },
    "tags": []
   },
   "outputs": [],
   "source": [
    "import torch\n",
    "import torch.nn as nn\n",
    "import torch.optim as optim\n",
    "from torch.utils.data import DataLoader\n",
    "from torch.utils.data import sampler\n",
    "\n",
    "from torchvision import datasets\n",
    "import torchvision.transforms as T\n",
    "import torch.nn.functional as F\n",
    "\n",
    "import matplotlib.pyplot as plt\n",
    "import numpy as np"
   ]
  },
  {
   "cell_type": "code",
   "execution_count": 4,
   "id": "bbc49401",
   "metadata": {
    "execution": {
     "iopub.execute_input": "2025-06-16T11:43:00.248902Z",
     "iopub.status.busy": "2025-06-16T11:43:00.248310Z",
     "iopub.status.idle": "2025-06-16T11:43:00.338588Z",
     "shell.execute_reply": "2025-06-16T11:43:00.337855Z"
    },
    "executionInfo": {
     "elapsed": 8,
     "status": "ok",
     "timestamp": 1749998343511,
     "user": {
      "displayName": "TOLGA ERMİŞ",
      "userId": "04127226952438363406"
     },
     "user_tz": -120
    },
    "id": "ohs2e87-wkT2",
    "papermill": {
     "duration": 0.096495,
     "end_time": "2025-06-16T11:43:00.339935",
     "exception": false,
     "start_time": "2025-06-16T11:43:00.243440",
     "status": "completed"
    },
    "tags": []
   },
   "outputs": [],
   "source": [
    "DEVICE = torch.device('cuda' if torch.cuda.is_available() else 'cpu')"
   ]
  },
  {
   "cell_type": "markdown",
   "id": "910a6002",
   "metadata": {
    "id": "scbr7x_ZxYPB",
    "papermill": {
     "duration": 0.003787,
     "end_time": "2025-06-16T11:43:00.348164",
     "exception": false,
     "start_time": "2025-06-16T11:43:00.344377",
     "status": "completed"
    },
    "tags": []
   },
   "source": [
    "## Dataset Prep"
   ]
  },
  {
   "cell_type": "code",
   "execution_count": 5,
   "id": "733e0a71",
   "metadata": {
    "execution": {
     "iopub.execute_input": "2025-06-16T11:43:00.357130Z",
     "iopub.status.busy": "2025-06-16T11:43:00.356648Z",
     "iopub.status.idle": "2025-06-16T11:43:00.359753Z",
     "shell.execute_reply": "2025-06-16T11:43:00.359248Z"
    },
    "executionInfo": {
     "elapsed": 2,
     "status": "ok",
     "timestamp": 1749998343514,
     "user": {
      "displayName": "TOLGA ERMİŞ",
      "userId": "04127226952438363406"
     },
     "user_tz": -120
    },
    "id": "yCRhjVSrm5IS",
    "papermill": {
     "duration": 0.008674,
     "end_time": "2025-06-16T11:43:00.360819",
     "exception": false,
     "start_time": "2025-06-16T11:43:00.352145",
     "status": "completed"
    },
    "tags": []
   },
   "outputs": [],
   "source": [
    "data_prefix = './datasets'"
   ]
  },
  {
   "cell_type": "code",
   "execution_count": 6,
   "id": "15aafe48",
   "metadata": {
    "execution": {
     "iopub.execute_input": "2025-06-16T11:43:00.369499Z",
     "iopub.status.busy": "2025-06-16T11:43:00.369279Z",
     "iopub.status.idle": "2025-06-16T11:43:08.398587Z",
     "shell.execute_reply": "2025-06-16T11:43:08.397449Z"
    },
    "executionInfo": {
     "elapsed": 2878,
     "status": "ok",
     "timestamp": 1749998346393,
     "user": {
      "displayName": "TOLGA ERMİŞ",
      "userId": "04127226952438363406"
     },
     "user_tz": -120
    },
    "id": "t38j23-mZPIH",
    "papermill": {
     "duration": 8.035695,
     "end_time": "2025-06-16T11:43:08.400669",
     "exception": false,
     "start_time": "2025-06-16T11:43:00.364974",
     "status": "completed"
    },
    "tags": []
   },
   "outputs": [
    {
     "name": "stderr",
     "output_type": "stream",
     "text": [
      "100%|██████████| 169M/169M [00:02<00:00, 57.1MB/s]\n"
     ]
    }
   ],
   "source": [
    "NUM_TRAIN = 49000\n",
    "transform = T.Compose([T.ToTensor(), T.Normalize((0.5, 0.5, 0.5), (0.5, 0.5, 0.5))])\n",
    "\n",
    "cifar100_train = datasets.CIFAR100(data_prefix, train=True, download=True, transform=transform)\n",
    "loader_train = DataLoader(cifar100_train, batch_size=64, sampler=sampler.SubsetRandomSampler(range(NUM_TRAIN)))\n",
    "\n",
    "cifar100_val = datasets.CIFAR100(data_prefix, train=True, download=True, transform=transform)\n",
    "loader_val = DataLoader(cifar100_val, batch_size=64, sampler=sampler.SubsetRandomSampler(range(NUM_TRAIN, 50000)))\n",
    "\n",
    "cifar100_test = datasets.CIFAR100(data_prefix, train=False, download=True, transform=transform)\n",
    "loader_test = DataLoader(cifar100_test, batch_size=64)"
   ]
  },
  {
   "cell_type": "code",
   "execution_count": 7,
   "id": "372502ea",
   "metadata": {
    "execution": {
     "iopub.execute_input": "2025-06-16T11:43:08.413816Z",
     "iopub.status.busy": "2025-06-16T11:43:08.413116Z",
     "iopub.status.idle": "2025-06-16T11:43:08.430829Z",
     "shell.execute_reply": "2025-06-16T11:43:08.430033Z"
    },
    "executionInfo": {
     "elapsed": 17,
     "status": "ok",
     "timestamp": 1749998346411,
     "user": {
      "displayName": "TOLGA ERMİŞ",
      "userId": "04127226952438363406"
     },
     "user_tz": -120
    },
    "id": "x-DHA7Xi4DAq",
    "outputId": "e4d90cec-9324-4200-d1cb-1ce730b05a80",
    "papermill": {
     "duration": 0.025239,
     "end_time": "2025-06-16T11:43:08.432157",
     "exception": false,
     "start_time": "2025-06-16T11:43:08.406918",
     "status": "completed"
    },
    "tags": []
   },
   "outputs": [
    {
     "data": {
      "text/plain": [
       "torch.Size([3, 32, 32])"
      ]
     },
     "execution_count": 7,
     "metadata": {},
     "output_type": "execute_result"
    }
   ],
   "source": [
    "cifar100_train[0][0].shape"
   ]
  },
  {
   "cell_type": "markdown",
   "id": "09f98910",
   "metadata": {
    "id": "U0Co_fPO7TOx",
    "papermill": {
     "duration": 0.005624,
     "end_time": "2025-06-16T11:43:08.443518",
     "exception": false,
     "start_time": "2025-06-16T11:43:08.437894",
     "status": "completed"
    },
    "tags": []
   },
   "source": [
    "## CNN Model"
   ]
  },
  {
   "cell_type": "code",
   "execution_count": 8,
   "id": "69382920",
   "metadata": {
    "execution": {
     "iopub.execute_input": "2025-06-16T11:43:08.455319Z",
     "iopub.status.busy": "2025-06-16T11:43:08.455036Z",
     "iopub.status.idle": "2025-06-16T11:43:08.458714Z",
     "shell.execute_reply": "2025-06-16T11:43:08.457940Z"
    },
    "executionInfo": {
     "elapsed": 15,
     "status": "ok",
     "timestamp": 1749998346427,
     "user": {
      "displayName": "TOLGA ERMİŞ",
      "userId": "04127226952438363406"
     },
     "user_tz": -120
    },
    "id": "-TYz3AAn9ith",
    "papermill": {
     "duration": 0.011228,
     "end_time": "2025-06-16T11:43:08.459964",
     "exception": false,
     "start_time": "2025-06-16T11:43:08.448736",
     "status": "completed"
    },
    "tags": []
   },
   "outputs": [],
   "source": [
    "# RegDeepCNN(channels_list, pool_list)\n",
    "# Flexible CNN with variable conv layers and optional 2x2 max pooling per layer.\n",
    "# Args:\n",
    "#  - channels_list (list of int): output channels per conv layer.\n",
    "#  - pool_list (list of bool): whether to apply max pooling after each conv.\n",
    "# Constraints:\n",
    "#  - Input: 32x32 RGB images.\n",
    "#  - Max pooling auto-disabled if it reduces spatial size below 4x4.\n",
    "#  - channels_list and pool_list must be same length.\n",
    "#  - Max 3 poolings allowed to keep spatial size ≥4x4.\n",
    "# Example:\n",
    "#  channels = [32,32,64,64]; pools = [False,True,False,True]\n",
    "#  model = RegDeepCNN(channels, pools)\n",
    "#  output = model(torch.randn(1,3,32,32))"
   ]
  },
  {
   "cell_type": "code",
   "execution_count": 9,
   "id": "67703408",
   "metadata": {
    "execution": {
     "iopub.execute_input": "2025-06-16T11:43:08.472563Z",
     "iopub.status.busy": "2025-06-16T11:43:08.472075Z",
     "iopub.status.idle": "2025-06-16T11:43:08.479848Z",
     "shell.execute_reply": "2025-06-16T11:43:08.479086Z"
    },
    "executionInfo": {
     "elapsed": 14,
     "status": "ok",
     "timestamp": 1749998346443,
     "user": {
      "displayName": "TOLGA ERMİŞ",
      "userId": "04127226952438363406"
     },
     "user_tz": -120
    },
    "id": "fz2xymHp7WOA",
    "papermill": {
     "duration": 0.015002,
     "end_time": "2025-06-16T11:43:08.480940",
     "exception": false,
     "start_time": "2025-06-16T11:43:08.465938",
     "status": "completed"
    },
    "tags": []
   },
   "outputs": [],
   "source": [
    "class RegDeepCNN(nn.Module):\n",
    "    def __init__(self, channels_list, pool_list):\n",
    "        super(RegDeepCNN, self).__init__()\n",
    "\n",
    "        assert len(channels_list) == len(pool_list), \"channels_list and pool_list must be the same length\"\n",
    "        assert sum(pool_list) <= 3, \"Too many poolings; spatial size < 4x4\"\n",
    "\n",
    "        self.convs = nn.ModuleList()\n",
    "        self.bns = nn.ModuleList()\n",
    "        self.pool_bools = pool_list\n",
    "        self.pool = nn.MaxPool2d(kernel_size=2, stride=2)\n",
    "\n",
    "        in_channels = 3  # input RGB images\n",
    "\n",
    "        for out_channels in channels_list:\n",
    "            self.convs.append(nn.Conv2d(in_channels, out_channels, kernel_size=3, stride=1, padding=1))\n",
    "            self.bns.append(nn.BatchNorm2d(out_channels))\n",
    "            in_channels = out_channels\n",
    "\n",
    "        # After conv layers, define a linear layer.\n",
    "        # To calculate the input size for linear layer, you need to know the spatial size after conv+pool layers.\n",
    "        # For example, assuming input 32x32 and each maxpool halves size:\n",
    "        num_pools = sum(pool_list)\n",
    "        final_spatial_size = 32 // (2 ** num_pools)\n",
    "        final_channels = channels_list[-1]\n",
    "        self.linear = nn.Linear(final_channels * final_spatial_size * final_spatial_size, 100)\n",
    "\n",
    "    def forward(self, x):\n",
    "        for conv, bn, do_pool in zip(self.convs, self.bns, self.pool_bools):\n",
    "            x = conv(x)\n",
    "            x = bn(x)\n",
    "            x = F.relu(x)\n",
    "            if do_pool:\n",
    "                x = self.pool(x)\n",
    "\n",
    "        x = F.dropout(x, p=0.5)\n",
    "        x = x.view(x.size(0), -1)\n",
    "        x = self.linear(x)\n",
    "        return x\n"
   ]
  },
  {
   "cell_type": "markdown",
   "id": "529e0a0d",
   "metadata": {
    "id": "7yLQDnVzx1hJ",
    "papermill": {
     "duration": 0.005426,
     "end_time": "2025-06-16T11:43:08.491718",
     "exception": false,
     "start_time": "2025-06-16T11:43:08.486292",
     "status": "completed"
    },
    "tags": []
   },
   "source": [
    "## Training"
   ]
  },
  {
   "cell_type": "code",
   "execution_count": 10,
   "id": "e4b3c0b0",
   "metadata": {
    "execution": {
     "iopub.execute_input": "2025-06-16T11:43:08.502928Z",
     "iopub.status.busy": "2025-06-16T11:43:08.502717Z",
     "iopub.status.idle": "2025-06-16T11:43:08.505852Z",
     "shell.execute_reply": "2025-06-16T11:43:08.505344Z"
    },
    "executionInfo": {
     "elapsed": 1,
     "status": "ok",
     "timestamp": 1749998346445,
     "user": {
      "displayName": "TOLGA ERMİŞ",
      "userId": "04127226952438363406"
     },
     "user_tz": -120
    },
    "id": "CvmuDWJMxzsS",
    "papermill": {
     "duration": 0.009938,
     "end_time": "2025-06-16T11:43:08.506864",
     "exception": false,
     "start_time": "2025-06-16T11:43:08.496926",
     "status": "completed"
    },
    "tags": []
   },
   "outputs": [],
   "source": [
    "from tqdm import tqdm"
   ]
  },
  {
   "cell_type": "markdown",
   "id": "dc4e1607",
   "metadata": {
    "id": "eflCsz6MyTHV",
    "papermill": {
     "duration": 0.005504,
     "end_time": "2025-06-16T11:43:08.517615",
     "exception": false,
     "start_time": "2025-06-16T11:43:08.512111",
     "status": "completed"
    },
    "tags": []
   },
   "source": [
    "### Accuracy and Loss Calculation Func"
   ]
  },
  {
   "cell_type": "code",
   "execution_count": 11,
   "id": "3d839c2c",
   "metadata": {
    "execution": {
     "iopub.execute_input": "2025-06-16T11:43:08.529641Z",
     "iopub.status.busy": "2025-06-16T11:43:08.529104Z",
     "iopub.status.idle": "2025-06-16T11:43:08.534002Z",
     "shell.execute_reply": "2025-06-16T11:43:08.533462Z"
    },
    "executionInfo": {
     "elapsed": 13,
     "status": "ok",
     "timestamp": 1749998346460,
     "user": {
      "displayName": "TOLGA ERMİŞ",
      "userId": "04127226952438363406"
     },
     "user_tz": -120
    },
    "id": "14PEsx1JyWqR",
    "papermill": {
     "duration": 0.011904,
     "end_time": "2025-06-16T11:43:08.535055",
     "exception": false,
     "start_time": "2025-06-16T11:43:08.523151",
     "status": "completed"
    },
    "tags": []
   },
   "outputs": [],
   "source": [
    "def check_accuracy_and_loss(loader, model, device):\n",
    "    acc = 0\n",
    "    total_loss = 0\n",
    "    model.eval()\n",
    "    num_correct = 0\n",
    "    num_samples = 0\n",
    "    total_loss = 0\n",
    "    criterion = nn.CrossEntropyLoss()\n",
    "    with torch.no_grad():\n",
    "        for x, y in loader:\n",
    "            x = x.to(device)\n",
    "            y = y.to(device)\n",
    "\n",
    "            scores = model(x)\n",
    "            loss = criterion(scores, y)\n",
    "            total_loss += loss\n",
    "            _, preds = scores.max(1)\n",
    "            num_correct += (preds == y).sum()\n",
    "            num_samples += preds.size(0)\n",
    "    acc = num_correct / num_samples\n",
    "    total_loss /= len(loader)\n",
    "    return acc, total_loss"
   ]
  },
  {
   "cell_type": "markdown",
   "id": "15a76d43",
   "metadata": {
    "id": "GkHVkJIhyHzk",
    "papermill": {
     "duration": 0.005012,
     "end_time": "2025-06-16T11:43:08.545326",
     "exception": false,
     "start_time": "2025-06-16T11:43:08.540314",
     "status": "completed"
    },
    "tags": []
   },
   "source": [
    "### Training func"
   ]
  },
  {
   "cell_type": "code",
   "execution_count": 12,
   "id": "3b28a95a",
   "metadata": {
    "execution": {
     "iopub.execute_input": "2025-06-16T11:43:08.556158Z",
     "iopub.status.busy": "2025-06-16T11:43:08.555967Z",
     "iopub.status.idle": "2025-06-16T11:43:08.562845Z",
     "shell.execute_reply": "2025-06-16T11:43:08.562265Z"
    },
    "executionInfo": {
     "elapsed": 47,
     "status": "ok",
     "timestamp": 1749998537962,
     "user": {
      "displayName": "TOLGA ERMİŞ",
      "userId": "04127226952438363406"
     },
     "user_tz": -120
    },
    "id": "NuoNyZXiyEet",
    "papermill": {
     "duration": 0.01361,
     "end_time": "2025-06-16T11:43:08.563869",
     "exception": false,
     "start_time": "2025-06-16T11:43:08.550259",
     "status": "completed"
    },
    "tags": []
   },
   "outputs": [],
   "source": [
    "def train_model(model, loader_train, loader_val, optimizer, criterion, epochs, device):\n",
    "    best_val_loss = float('inf')\n",
    "    best_model_wts = None\n",
    "\n",
    "    model.to(device)\n",
    "\n",
    "    train_accs = []\n",
    "    val_accs = []\n",
    "    train_losses = []\n",
    "    val_losses = []\n",
    "\n",
    "    for epoch in range(epochs):\n",
    "        print(f\"Epoch {epoch + 1}/{epochs}\")\n",
    "        epoch_loss = 0  # Accumulate loss for display\n",
    "        epoch_steps = 0  # Count steps for loss averaging\n",
    "\n",
    "        # Progress bar for training batches\n",
    "        with tqdm(total=len(loader_train), desc=f\"Training Epoch {epoch + 1}\") as pbar:\n",
    "            for x, y in loader_train:\n",
    "                x = x.to(DEVICE)\n",
    "                y = y.to(DEVICE)\n",
    "\n",
    "                scores = model(x)\n",
    "                loss = criterion(scores, y)\n",
    "                optimizer.zero_grad()\n",
    "                loss.backward()\n",
    "                optimizer.step()\n",
    "\n",
    "                # Update progress\n",
    "                epoch_loss += loss.item()\n",
    "                epoch_steps += 1\n",
    "                pbar.set_postfix({\"Batch Loss\": loss.item()})\n",
    "                pbar.update(1)\n",
    "\n",
    "        train_acc, train_loss = check_accuracy_and_loss(loader_train, model, device=DEVICE)\n",
    "        val_acc, val_loss = check_accuracy_and_loss(loader_val, model, device=DEVICE)\n",
    "        train_accs.append(train_acc)\n",
    "        val_accs.append(val_acc)\n",
    "\n",
    "        train_losses.append(train_loss)\n",
    "        val_losses.append(val_loss)\n",
    "\n",
    "        if val_loss < best_val_loss:\n",
    "            best_val_loss = val_loss\n",
    "            best_model_wts = model.state_dict().copy()\n",
    "\n",
    "        print(f\"Epoch {epoch + 1} - Train Loss: {train_loss:.4f}, Train Acc: {train_acc:.2%}, \"\n",
    "              f\"Val Loss: {val_loss:.4f}, Val Acc: {val_acc:.2%}\")\n",
    "\n",
    "    # returning best and final model\n",
    "    final_model_wts = model.state_dict().copy()  # save final weights\n",
    "    model.load_state_dict(best_model_wts)       # load best weights\n",
    "    return best_model_wts, final_model_wts, train_accs, val_accs, train_losses, val_losses"
   ]
  },
  {
   "cell_type": "markdown",
   "id": "21dc64ae",
   "metadata": {
    "id": "5xTnZbTN-YIw",
    "papermill": {
     "duration": 0.005424,
     "end_time": "2025-06-16T11:43:08.574530",
     "exception": false,
     "start_time": "2025-06-16T11:43:08.569106",
     "status": "completed"
    },
    "tags": []
   },
   "source": [
    "### Testing different architecture and hyperparameter configs"
   ]
  },
  {
   "cell_type": "code",
   "execution_count": 13,
   "id": "2c86ef2f",
   "metadata": {
    "execution": {
     "iopub.execute_input": "2025-06-16T11:43:08.585897Z",
     "iopub.status.busy": "2025-06-16T11:43:08.585680Z",
     "iopub.status.idle": "2025-06-16T12:21:06.894726Z",
     "shell.execute_reply": "2025-06-16T12:21:06.893971Z"
    },
    "id": "g5eNhMLe-bu9",
    "outputId": "ebe06d6a-2040-4d44-a3f9-5fb59dce11a4",
    "papermill": {
     "duration": 2281.026077,
     "end_time": "2025-06-16T12:21:09.605705",
     "exception": false,
     "start_time": "2025-06-16T11:43:08.579628",
     "status": "completed"
    },
    "tags": []
   },
   "outputs": [
    {
     "name": "stdout",
     "output_type": "stream",
     "text": [
      "\n",
      "Training model with channels=[64, 128, 256, 256], pools=[False, True, True, True]\n",
      "Epoch 1/15\n"
     ]
    },
    {
     "name": "stderr",
     "output_type": "stream",
     "text": [
      "Training Epoch 1: 100%|██████████| 766/766 [00:25<00:00, 29.59it/s, Batch Loss=3.22]\n"
     ]
    },
    {
     "name": "stdout",
     "output_type": "stream",
     "text": [
      "Epoch 1 - Train Loss: 2.8997, Train Acc: 28.12%, Val Loss: 3.0506, Val Acc: 26.40%\n",
      "Epoch 2/15\n"
     ]
    },
    {
     "name": "stderr",
     "output_type": "stream",
     "text": [
      "Training Epoch 2: 100%|██████████| 766/766 [00:23<00:00, 32.46it/s, Batch Loss=2.61]\n"
     ]
    },
    {
     "name": "stdout",
     "output_type": "stream",
     "text": [
      "Epoch 2 - Train Loss: 2.1502, Train Acc: 43.66%, Val Loss: 2.4160, Val Acc: 37.70%\n",
      "Epoch 3/15\n"
     ]
    },
    {
     "name": "stderr",
     "output_type": "stream",
     "text": [
      "Training Epoch 3: 100%|██████████| 766/766 [00:24<00:00, 31.07it/s, Batch Loss=2.01]\n"
     ]
    },
    {
     "name": "stdout",
     "output_type": "stream",
     "text": [
      "Epoch 3 - Train Loss: 1.7792, Train Acc: 52.39%, Val Loss: 2.1490, Val Acc: 45.70%\n",
      "Epoch 4/15\n"
     ]
    },
    {
     "name": "stderr",
     "output_type": "stream",
     "text": [
      "Training Epoch 4: 100%|██████████| 766/766 [00:24<00:00, 30.87it/s, Batch Loss=1.85]\n"
     ]
    },
    {
     "name": "stdout",
     "output_type": "stream",
     "text": [
      "Epoch 4 - Train Loss: 1.5086, Train Acc: 59.01%, Val Loss: 2.0604, Val Acc: 45.20%\n",
      "Epoch 5/15\n"
     ]
    },
    {
     "name": "stderr",
     "output_type": "stream",
     "text": [
      "Training Epoch 5: 100%|██████████| 766/766 [00:24<00:00, 31.01it/s, Batch Loss=1.84]\n"
     ]
    },
    {
     "name": "stdout",
     "output_type": "stream",
     "text": [
      "Epoch 5 - Train Loss: 1.2597, Train Acc: 65.28%, Val Loss: 2.0299, Val Acc: 46.50%\n",
      "Epoch 6/15\n"
     ]
    },
    {
     "name": "stderr",
     "output_type": "stream",
     "text": [
      "Training Epoch 6: 100%|██████████| 766/766 [00:24<00:00, 30.76it/s, Batch Loss=1.38]\n"
     ]
    },
    {
     "name": "stdout",
     "output_type": "stream",
     "text": [
      "Epoch 6 - Train Loss: 1.0830, Train Acc: 69.60%, Val Loss: 2.0520, Val Acc: 46.70%\n",
      "Epoch 7/15\n"
     ]
    },
    {
     "name": "stderr",
     "output_type": "stream",
     "text": [
      "Training Epoch 7: 100%|██████████| 766/766 [00:24<00:00, 31.58it/s, Batch Loss=1.18]\n"
     ]
    },
    {
     "name": "stdout",
     "output_type": "stream",
     "text": [
      "Epoch 7 - Train Loss: 0.8516, Train Acc: 75.21%, Val Loss: 2.0331, Val Acc: 49.20%\n",
      "Epoch 8/15\n"
     ]
    },
    {
     "name": "stderr",
     "output_type": "stream",
     "text": [
      "Training Epoch 8: 100%|██████████| 766/766 [00:24<00:00, 31.29it/s, Batch Loss=1.04]\n"
     ]
    },
    {
     "name": "stdout",
     "output_type": "stream",
     "text": [
      "Epoch 8 - Train Loss: 0.7617, Train Acc: 77.21%, Val Loss: 2.1408, Val Acc: 47.40%\n",
      "Epoch 9/15\n"
     ]
    },
    {
     "name": "stderr",
     "output_type": "stream",
     "text": [
      "Training Epoch 9: 100%|██████████| 766/766 [00:24<00:00, 31.01it/s, Batch Loss=0.808]\n"
     ]
    },
    {
     "name": "stdout",
     "output_type": "stream",
     "text": [
      "Epoch 9 - Train Loss: 0.6351, Train Acc: 81.04%, Val Loss: 2.2221, Val Acc: 48.70%\n",
      "Epoch 10/15\n"
     ]
    },
    {
     "name": "stderr",
     "output_type": "stream",
     "text": [
      "Training Epoch 10: 100%|██████████| 766/766 [00:24<00:00, 31.11it/s, Batch Loss=0.702]\n"
     ]
    },
    {
     "name": "stdout",
     "output_type": "stream",
     "text": [
      "Epoch 10 - Train Loss: 0.5546, Train Acc: 83.03%, Val Loss: 2.4105, Val Acc: 49.30%\n",
      "Epoch 11/15\n"
     ]
    },
    {
     "name": "stderr",
     "output_type": "stream",
     "text": [
      "Training Epoch 11: 100%|██████████| 766/766 [00:24<00:00, 31.17it/s, Batch Loss=1]\n"
     ]
    },
    {
     "name": "stdout",
     "output_type": "stream",
     "text": [
      "Epoch 11 - Train Loss: 0.4901, Train Acc: 84.76%, Val Loss: 2.5196, Val Acc: 48.70%\n",
      "Epoch 12/15\n"
     ]
    },
    {
     "name": "stderr",
     "output_type": "stream",
     "text": [
      "Training Epoch 12: 100%|██████████| 766/766 [00:24<00:00, 30.82it/s, Batch Loss=0.82]\n"
     ]
    },
    {
     "name": "stdout",
     "output_type": "stream",
     "text": [
      "Epoch 12 - Train Loss: 0.4613, Train Acc: 85.42%, Val Loss: 2.6709, Val Acc: 46.60%\n",
      "Epoch 13/15\n"
     ]
    },
    {
     "name": "stderr",
     "output_type": "stream",
     "text": [
      "Training Epoch 13: 100%|██████████| 766/766 [00:24<00:00, 31.16it/s, Batch Loss=0.662]\n"
     ]
    },
    {
     "name": "stdout",
     "output_type": "stream",
     "text": [
      "Epoch 13 - Train Loss: 0.4064, Train Acc: 87.05%, Val Loss: 2.6415, Val Acc: 47.30%\n",
      "Epoch 14/15\n"
     ]
    },
    {
     "name": "stderr",
     "output_type": "stream",
     "text": [
      "Training Epoch 14: 100%|██████████| 766/766 [00:24<00:00, 31.03it/s, Batch Loss=0.782]\n"
     ]
    },
    {
     "name": "stdout",
     "output_type": "stream",
     "text": [
      "Epoch 14 - Train Loss: 0.3898, Train Acc: 87.43%, Val Loss: 2.6319, Val Acc: 48.40%\n",
      "Epoch 15/15\n"
     ]
    },
    {
     "name": "stderr",
     "output_type": "stream",
     "text": [
      "Training Epoch 15: 100%|██████████| 766/766 [00:24<00:00, 31.05it/s, Batch Loss=0.389]\n"
     ]
    },
    {
     "name": "stdout",
     "output_type": "stream",
     "text": [
      "Epoch 15 - Train Loss: 0.3382, Train Acc: 89.07%, Val Loss: 2.9821, Val Acc: 47.20%\n",
      "\n",
      "Training model with channels=[64, 128, 256, 256], pools=[False, True, False, True]\n",
      "Epoch 1/15\n"
     ]
    },
    {
     "name": "stderr",
     "output_type": "stream",
     "text": [
      "Training Epoch 1: 100%|██████████| 766/766 [00:29<00:00, 26.38it/s, Batch Loss=2.14]\n"
     ]
    },
    {
     "name": "stdout",
     "output_type": "stream",
     "text": [
      "Epoch 1 - Train Loss: 2.8273, Train Acc: 30.40%, Val Loss: 2.9018, Val Acc: 27.90%\n",
      "Epoch 2/15\n"
     ]
    },
    {
     "name": "stderr",
     "output_type": "stream",
     "text": [
      "Training Epoch 2: 100%|██████████| 766/766 [00:27<00:00, 27.56it/s, Batch Loss=2.13]\n"
     ]
    },
    {
     "name": "stdout",
     "output_type": "stream",
     "text": [
      "Epoch 2 - Train Loss: 2.0624, Train Acc: 46.43%, Val Loss: 2.4201, Val Acc: 38.90%\n",
      "Epoch 3/15\n"
     ]
    },
    {
     "name": "stderr",
     "output_type": "stream",
     "text": [
      "Training Epoch 3: 100%|██████████| 766/766 [00:27<00:00, 27.43it/s, Batch Loss=1.88]\n"
     ]
    },
    {
     "name": "stdout",
     "output_type": "stream",
     "text": [
      "Epoch 3 - Train Loss: 1.5942, Train Acc: 58.19%, Val Loss: 2.1956, Val Acc: 44.20%\n",
      "Epoch 4/15\n"
     ]
    },
    {
     "name": "stderr",
     "output_type": "stream",
     "text": [
      "Training Epoch 4: 100%|██████████| 766/766 [00:27<00:00, 27.53it/s, Batch Loss=1.8]\n"
     ]
    },
    {
     "name": "stdout",
     "output_type": "stream",
     "text": [
      "Epoch 4 - Train Loss: 1.1625, Train Acc: 68.20%, Val Loss: 2.1489, Val Acc: 46.20%\n",
      "Epoch 5/15\n"
     ]
    },
    {
     "name": "stderr",
     "output_type": "stream",
     "text": [
      "Training Epoch 5: 100%|██████████| 766/766 [00:27<00:00, 27.61it/s, Batch Loss=1.06]\n"
     ]
    },
    {
     "name": "stdout",
     "output_type": "stream",
     "text": [
      "Epoch 5 - Train Loss: 0.8332, Train Acc: 76.68%, Val Loss: 2.1387, Val Acc: 48.00%\n",
      "Epoch 6/15\n"
     ]
    },
    {
     "name": "stderr",
     "output_type": "stream",
     "text": [
      "Training Epoch 6: 100%|██████████| 766/766 [00:27<00:00, 27.40it/s, Batch Loss=1.08]\n"
     ]
    },
    {
     "name": "stdout",
     "output_type": "stream",
     "text": [
      "Epoch 6 - Train Loss: 0.6229, Train Acc: 82.07%, Val Loss: 2.3503, Val Acc: 45.20%\n",
      "Epoch 7/15\n"
     ]
    },
    {
     "name": "stderr",
     "output_type": "stream",
     "text": [
      "Training Epoch 7: 100%|██████████| 766/766 [00:27<00:00, 27.71it/s, Batch Loss=0.961]\n"
     ]
    },
    {
     "name": "stdout",
     "output_type": "stream",
     "text": [
      "Epoch 7 - Train Loss: 0.4503, Train Acc: 86.43%, Val Loss: 2.5164, Val Acc: 46.80%\n",
      "Epoch 8/15\n"
     ]
    },
    {
     "name": "stderr",
     "output_type": "stream",
     "text": [
      "Training Epoch 8: 100%|██████████| 766/766 [00:27<00:00, 27.71it/s, Batch Loss=0.806]\n"
     ]
    },
    {
     "name": "stdout",
     "output_type": "stream",
     "text": [
      "Epoch 8 - Train Loss: 0.3883, Train Acc: 87.97%, Val Loss: 2.7215, Val Acc: 46.00%\n",
      "Epoch 9/15\n"
     ]
    },
    {
     "name": "stderr",
     "output_type": "stream",
     "text": [
      "Training Epoch 9: 100%|██████████| 766/766 [00:28<00:00, 27.29it/s, Batch Loss=0.724]\n"
     ]
    },
    {
     "name": "stdout",
     "output_type": "stream",
     "text": [
      "Epoch 9 - Train Loss: 0.3215, Train Acc: 89.92%, Val Loss: 2.8322, Val Acc: 47.80%\n",
      "Epoch 10/15\n"
     ]
    },
    {
     "name": "stderr",
     "output_type": "stream",
     "text": [
      "Training Epoch 10: 100%|██████████| 766/766 [00:27<00:00, 28.13it/s, Batch Loss=0.211]\n"
     ]
    },
    {
     "name": "stdout",
     "output_type": "stream",
     "text": [
      "Epoch 10 - Train Loss: 0.2689, Train Acc: 91.46%, Val Loss: 3.0481, Val Acc: 46.60%\n",
      "Epoch 11/15\n"
     ]
    },
    {
     "name": "stderr",
     "output_type": "stream",
     "text": [
      "Training Epoch 11: 100%|██████████| 766/766 [00:26<00:00, 28.42it/s, Batch Loss=1.03]\n"
     ]
    },
    {
     "name": "stdout",
     "output_type": "stream",
     "text": [
      "Epoch 11 - Train Loss: 0.2338, Train Acc: 92.49%, Val Loss: 3.2603, Val Acc: 45.90%\n",
      "Epoch 12/15\n"
     ]
    },
    {
     "name": "stderr",
     "output_type": "stream",
     "text": [
      "Training Epoch 12: 100%|██████████| 766/766 [00:28<00:00, 27.34it/s, Batch Loss=0.36]\n"
     ]
    },
    {
     "name": "stdout",
     "output_type": "stream",
     "text": [
      "Epoch 12 - Train Loss: 0.2477, Train Acc: 92.14%, Val Loss: 3.2716, Val Acc: 45.00%\n",
      "Epoch 13/15\n"
     ]
    },
    {
     "name": "stderr",
     "output_type": "stream",
     "text": [
      "Training Epoch 13: 100%|██████████| 766/766 [00:27<00:00, 27.77it/s, Batch Loss=0.281]\n"
     ]
    },
    {
     "name": "stdout",
     "output_type": "stream",
     "text": [
      "Epoch 13 - Train Loss: 0.2272, Train Acc: 92.65%, Val Loss: 3.3740, Val Acc: 45.60%\n",
      "Epoch 14/15\n"
     ]
    },
    {
     "name": "stderr",
     "output_type": "stream",
     "text": [
      "Training Epoch 14: 100%|██████████| 766/766 [00:27<00:00, 27.49it/s, Batch Loss=0.0908]\n"
     ]
    },
    {
     "name": "stdout",
     "output_type": "stream",
     "text": [
      "Epoch 14 - Train Loss: 0.2042, Train Acc: 93.49%, Val Loss: 3.4726, Val Acc: 45.10%\n",
      "Epoch 15/15\n"
     ]
    },
    {
     "name": "stderr",
     "output_type": "stream",
     "text": [
      "Training Epoch 15: 100%|██████████| 766/766 [00:27<00:00, 27.40it/s, Batch Loss=0.236]\n"
     ]
    },
    {
     "name": "stdout",
     "output_type": "stream",
     "text": [
      "Epoch 15 - Train Loss: 0.2030, Train Acc: 93.48%, Val Loss: 3.3738, Val Acc: 45.30%\n",
      "\n",
      "Training model with channels=[64, 128, 128, 256], pools=[False, True, False, True]\n",
      "Epoch 1/15\n"
     ]
    },
    {
     "name": "stderr",
     "output_type": "stream",
     "text": [
      "Training Epoch 1: 100%|██████████| 766/766 [00:25<00:00, 29.74it/s, Batch Loss=2.67]\n"
     ]
    },
    {
     "name": "stdout",
     "output_type": "stream",
     "text": [
      "Epoch 1 - Train Loss: 2.8545, Train Acc: 29.94%, Val Loss: 3.0011, Val Acc: 27.80%\n",
      "Epoch 2/15\n"
     ]
    },
    {
     "name": "stderr",
     "output_type": "stream",
     "text": [
      "Training Epoch 2: 100%|██████████| 766/766 [00:25<00:00, 30.41it/s, Batch Loss=2.58]\n"
     ]
    },
    {
     "name": "stdout",
     "output_type": "stream",
     "text": [
      "Epoch 2 - Train Loss: 2.1622, Train Acc: 44.31%, Val Loss: 2.4833, Val Acc: 38.20%\n",
      "Epoch 3/15\n"
     ]
    },
    {
     "name": "stderr",
     "output_type": "stream",
     "text": [
      "Training Epoch 3: 100%|██████████| 766/766 [00:25<00:00, 29.71it/s, Batch Loss=1.6]\n"
     ]
    },
    {
     "name": "stdout",
     "output_type": "stream",
     "text": [
      "Epoch 3 - Train Loss: 1.6957, Train Acc: 55.84%, Val Loss: 2.2204, Val Acc: 42.50%\n",
      "Epoch 4/15\n"
     ]
    },
    {
     "name": "stderr",
     "output_type": "stream",
     "text": [
      "Training Epoch 4: 100%|██████████| 766/766 [00:25<00:00, 30.20it/s, Batch Loss=1.98]\n"
     ]
    },
    {
     "name": "stdout",
     "output_type": "stream",
     "text": [
      "Epoch 4 - Train Loss: 1.3057, Train Acc: 65.09%, Val Loss: 2.1966, Val Acc: 43.40%\n",
      "Epoch 5/15\n"
     ]
    },
    {
     "name": "stderr",
     "output_type": "stream",
     "text": [
      "Training Epoch 5: 100%|██████████| 766/766 [00:25<00:00, 30.58it/s, Batch Loss=1.53]\n"
     ]
    },
    {
     "name": "stdout",
     "output_type": "stream",
     "text": [
      "Epoch 5 - Train Loss: 0.9687, Train Acc: 73.30%, Val Loss: 2.2617, Val Acc: 44.40%\n",
      "Epoch 6/15\n"
     ]
    },
    {
     "name": "stderr",
     "output_type": "stream",
     "text": [
      "Training Epoch 6: 100%|██████████| 766/766 [00:25<00:00, 30.00it/s, Batch Loss=1.23]\n"
     ]
    },
    {
     "name": "stdout",
     "output_type": "stream",
     "text": [
      "Epoch 6 - Train Loss: 0.7158, Train Acc: 79.75%, Val Loss: 2.4603, Val Acc: 43.70%\n",
      "Epoch 7/15\n"
     ]
    },
    {
     "name": "stderr",
     "output_type": "stream",
     "text": [
      "Training Epoch 7: 100%|██████████| 766/766 [00:25<00:00, 30.16it/s, Batch Loss=1.28]\n"
     ]
    },
    {
     "name": "stdout",
     "output_type": "stream",
     "text": [
      "Epoch 7 - Train Loss: 0.5392, Train Acc: 84.00%, Val Loss: 2.5570, Val Acc: 44.00%\n",
      "Epoch 8/15\n"
     ]
    },
    {
     "name": "stderr",
     "output_type": "stream",
     "text": [
      "Training Epoch 8: 100%|██████████| 766/766 [00:25<00:00, 30.17it/s, Batch Loss=0.602]\n"
     ]
    },
    {
     "name": "stdout",
     "output_type": "stream",
     "text": [
      "Epoch 8 - Train Loss: 0.4216, Train Acc: 87.05%, Val Loss: 2.7863, Val Acc: 45.70%\n",
      "Epoch 9/15\n"
     ]
    },
    {
     "name": "stderr",
     "output_type": "stream",
     "text": [
      "Training Epoch 9: 100%|██████████| 766/766 [00:25<00:00, 29.98it/s, Batch Loss=0.506]\n"
     ]
    },
    {
     "name": "stdout",
     "output_type": "stream",
     "text": [
      "Epoch 9 - Train Loss: 0.3438, Train Acc: 89.26%, Val Loss: 2.9169, Val Acc: 44.20%\n",
      "Epoch 10/15\n"
     ]
    },
    {
     "name": "stderr",
     "output_type": "stream",
     "text": [
      "Training Epoch 10: 100%|██████████| 766/766 [00:25<00:00, 30.22it/s, Batch Loss=0.29]\n"
     ]
    },
    {
     "name": "stdout",
     "output_type": "stream",
     "text": [
      "Epoch 10 - Train Loss: 0.3087, Train Acc: 90.21%, Val Loss: 3.0305, Val Acc: 44.00%\n",
      "Epoch 11/15\n"
     ]
    },
    {
     "name": "stderr",
     "output_type": "stream",
     "text": [
      "Training Epoch 11: 100%|██████████| 766/766 [00:25<00:00, 30.08it/s, Batch Loss=0.502]\n"
     ]
    },
    {
     "name": "stdout",
     "output_type": "stream",
     "text": [
      "Epoch 11 - Train Loss: 0.2833, Train Acc: 90.85%, Val Loss: 3.1800, Val Acc: 44.80%\n",
      "Epoch 12/15\n"
     ]
    },
    {
     "name": "stderr",
     "output_type": "stream",
     "text": [
      "Training Epoch 12: 100%|██████████| 766/766 [00:25<00:00, 29.99it/s, Batch Loss=0.408]\n"
     ]
    },
    {
     "name": "stdout",
     "output_type": "stream",
     "text": [
      "Epoch 12 - Train Loss: 0.2431, Train Acc: 92.13%, Val Loss: 3.4946, Val Acc: 43.90%\n",
      "Epoch 13/15\n"
     ]
    },
    {
     "name": "stderr",
     "output_type": "stream",
     "text": [
      "Training Epoch 13: 100%|██████████| 766/766 [00:25<00:00, 30.24it/s, Batch Loss=0.461]\n"
     ]
    },
    {
     "name": "stdout",
     "output_type": "stream",
     "text": [
      "Epoch 13 - Train Loss: 0.2276, Train Acc: 92.64%, Val Loss: 3.4846, Val Acc: 43.00%\n",
      "Epoch 14/15\n"
     ]
    },
    {
     "name": "stderr",
     "output_type": "stream",
     "text": [
      "Training Epoch 14: 100%|██████████| 766/766 [00:24<00:00, 31.01it/s, Batch Loss=0.233]\n"
     ]
    },
    {
     "name": "stdout",
     "output_type": "stream",
     "text": [
      "Epoch 14 - Train Loss: 0.2119, Train Acc: 93.10%, Val Loss: 3.7395, Val Acc: 45.10%\n",
      "Epoch 15/15\n"
     ]
    },
    {
     "name": "stderr",
     "output_type": "stream",
     "text": [
      "Training Epoch 15: 100%|██████████| 766/766 [00:25<00:00, 30.26it/s, Batch Loss=0.276]\n"
     ]
    },
    {
     "name": "stdout",
     "output_type": "stream",
     "text": [
      "Epoch 15 - Train Loss: 0.2029, Train Acc: 93.29%, Val Loss: 3.6648, Val Acc: 43.80%\n",
      "\n",
      "Training model with channels=[64, 64, 128, 128, 256], pools=[False, True, False, True, False]\n",
      "Epoch 1/15\n"
     ]
    },
    {
     "name": "stderr",
     "output_type": "stream",
     "text": [
      "Training Epoch 1: 100%|██████████| 766/766 [00:22<00:00, 33.93it/s, Batch Loss=2.66]\n"
     ]
    },
    {
     "name": "stdout",
     "output_type": "stream",
     "text": [
      "Epoch 1 - Train Loss: 2.7686, Train Acc: 31.34%, Val Loss: 2.9552, Val Acc: 26.60%\n",
      "Epoch 2/15\n"
     ]
    },
    {
     "name": "stderr",
     "output_type": "stream",
     "text": [
      "Training Epoch 2: 100%|██████████| 766/766 [00:22<00:00, 34.37it/s, Batch Loss=2.79]\n"
     ]
    },
    {
     "name": "stdout",
     "output_type": "stream",
     "text": [
      "Epoch 2 - Train Loss: 2.0205, Train Acc: 46.70%, Val Loss: 2.3760, Val Acc: 40.60%\n",
      "Epoch 3/15\n"
     ]
    },
    {
     "name": "stderr",
     "output_type": "stream",
     "text": [
      "Training Epoch 3: 100%|██████████| 766/766 [00:22<00:00, 33.90it/s, Batch Loss=2.27]\n"
     ]
    },
    {
     "name": "stdout",
     "output_type": "stream",
     "text": [
      "Epoch 3 - Train Loss: 1.5294, Train Acc: 58.68%, Val Loss: 2.1723, Val Acc: 42.60%\n",
      "Epoch 4/15\n"
     ]
    },
    {
     "name": "stderr",
     "output_type": "stream",
     "text": [
      "Training Epoch 4: 100%|██████████| 766/766 [00:21<00:00, 35.87it/s, Batch Loss=1.46]\n"
     ]
    },
    {
     "name": "stdout",
     "output_type": "stream",
     "text": [
      "Epoch 4 - Train Loss: 1.1453, Train Acc: 68.30%, Val Loss: 2.1251, Val Acc: 47.00%\n",
      "Epoch 5/15\n"
     ]
    },
    {
     "name": "stderr",
     "output_type": "stream",
     "text": [
      "Training Epoch 5: 100%|██████████| 766/766 [00:21<00:00, 35.74it/s, Batch Loss=1.46]\n"
     ]
    },
    {
     "name": "stdout",
     "output_type": "stream",
     "text": [
      "Epoch 5 - Train Loss: 0.8397, Train Acc: 76.80%, Val Loss: 2.1999, Val Acc: 46.70%\n",
      "Epoch 6/15\n"
     ]
    },
    {
     "name": "stderr",
     "output_type": "stream",
     "text": [
      "Training Epoch 6: 100%|██████████| 766/766 [00:22<00:00, 34.15it/s, Batch Loss=1.13]\n"
     ]
    },
    {
     "name": "stdout",
     "output_type": "stream",
     "text": [
      "Epoch 6 - Train Loss: 0.6082, Train Acc: 82.02%, Val Loss: 2.3978, Val Acc: 45.70%\n",
      "Epoch 7/15\n"
     ]
    },
    {
     "name": "stderr",
     "output_type": "stream",
     "text": [
      "Training Epoch 7: 100%|██████████| 766/766 [00:22<00:00, 33.69it/s, Batch Loss=1.24]\n"
     ]
    },
    {
     "name": "stdout",
     "output_type": "stream",
     "text": [
      "Epoch 7 - Train Loss: 0.4581, Train Acc: 86.07%, Val Loss: 2.4554, Val Acc: 46.80%\n",
      "Epoch 8/15\n"
     ]
    },
    {
     "name": "stderr",
     "output_type": "stream",
     "text": [
      "Training Epoch 8: 100%|██████████| 766/766 [00:22<00:00, 34.47it/s, Batch Loss=0.977]\n"
     ]
    },
    {
     "name": "stdout",
     "output_type": "stream",
     "text": [
      "Epoch 8 - Train Loss: 0.3991, Train Acc: 87.91%, Val Loss: 2.6369, Val Acc: 45.80%\n",
      "Epoch 9/15\n"
     ]
    },
    {
     "name": "stderr",
     "output_type": "stream",
     "text": [
      "Training Epoch 9: 100%|██████████| 766/766 [00:22<00:00, 34.07it/s, Batch Loss=0.545]\n"
     ]
    },
    {
     "name": "stdout",
     "output_type": "stream",
     "text": [
      "Epoch 9 - Train Loss: 0.3168, Train Acc: 89.92%, Val Loss: 2.9469, Val Acc: 43.20%\n",
      "Epoch 10/15\n"
     ]
    },
    {
     "name": "stderr",
     "output_type": "stream",
     "text": [
      "Training Epoch 10: 100%|██████████| 766/766 [00:21<00:00, 35.78it/s, Batch Loss=0.518]\n"
     ]
    },
    {
     "name": "stdout",
     "output_type": "stream",
     "text": [
      "Epoch 10 - Train Loss: 0.2767, Train Acc: 91.08%, Val Loss: 3.0608, Val Acc: 45.70%\n",
      "Epoch 11/15\n"
     ]
    },
    {
     "name": "stderr",
     "output_type": "stream",
     "text": [
      "Training Epoch 11: 100%|██████████| 766/766 [00:22<00:00, 34.39it/s, Batch Loss=0.47]\n"
     ]
    },
    {
     "name": "stdout",
     "output_type": "stream",
     "text": [
      "Epoch 11 - Train Loss: 0.2628, Train Acc: 91.65%, Val Loss: 3.2413, Val Acc: 44.40%\n",
      "Epoch 12/15\n"
     ]
    },
    {
     "name": "stderr",
     "output_type": "stream",
     "text": [
      "Training Epoch 12: 100%|██████████| 766/766 [00:22<00:00, 34.15it/s, Batch Loss=0.553]\n"
     ]
    },
    {
     "name": "stdout",
     "output_type": "stream",
     "text": [
      "Epoch 12 - Train Loss: 0.2256, Train Acc: 92.75%, Val Loss: 3.2678, Val Acc: 43.60%\n",
      "Epoch 13/15\n"
     ]
    },
    {
     "name": "stderr",
     "output_type": "stream",
     "text": [
      "Training Epoch 13: 100%|██████████| 766/766 [00:22<00:00, 34.46it/s, Batch Loss=0.464]\n"
     ]
    },
    {
     "name": "stdout",
     "output_type": "stream",
     "text": [
      "Epoch 13 - Train Loss: 0.2296, Train Acc: 92.61%, Val Loss: 3.4117, Val Acc: 44.70%\n",
      "Epoch 14/15\n"
     ]
    },
    {
     "name": "stderr",
     "output_type": "stream",
     "text": [
      "Training Epoch 14: 100%|██████████| 766/766 [00:21<00:00, 34.92it/s, Batch Loss=0.259]\n"
     ]
    },
    {
     "name": "stdout",
     "output_type": "stream",
     "text": [
      "Epoch 14 - Train Loss: 0.2117, Train Acc: 93.10%, Val Loss: 3.5336, Val Acc: 42.60%\n",
      "Epoch 15/15\n"
     ]
    },
    {
     "name": "stderr",
     "output_type": "stream",
     "text": [
      "Training Epoch 15: 100%|██████████| 766/766 [00:22<00:00, 34.32it/s, Batch Loss=0.295]\n"
     ]
    },
    {
     "name": "stdout",
     "output_type": "stream",
     "text": [
      "Epoch 15 - Train Loss: 0.1992, Train Acc: 93.48%, Val Loss: 3.4696, Val Acc: 44.80%\n"
     ]
    }
   ],
   "source": [
    "lr = 1e-3\n",
    "epochs = 15\n",
    "\n",
    "configs = [\n",
    "    # deeper network, max allowed pooling\n",
    "    {'channels': [64, 128, 256, 256], 'pools': [False, True, True, True]},\n",
    "    # deeper network, max allowed pooling\n",
    "    {'channels': [64, 128, 256, 256], 'pools': [False, True, False, True]},\n",
    "    # deeper network, max allowed pooling\n",
    "    {'channels': [64, 128, 128, 256], 'pools': [False, True, False, True]},\n",
    "    # deeper network, max allowed pooling\n",
    "    {'channels': [64, 64, 128, 128, 256], 'pools': [False, True, False, True, False]}\n",
    "]\n",
    "\n",
    "results = []\n",
    "\n",
    "for mc in configs:\n",
    "    print(f\"\\nTraining model with channels={mc['channels']}, pools={mc['pools']}\")\n",
    "\n",
    "    model = RegDeepCNN(mc['channels'], mc['pools'])\n",
    "    optimizer = optim.Adam(model.parameters(), lr=lr)\n",
    "    criterion = torch.nn.CrossEntropyLoss()\n",
    "\n",
    "    # Adjust train_model to return best and final weights plus metrics\n",
    "    best_wts, final_wts, train_accs, val_accs, train_losses, val_losses = train_model(\n",
    "        model, loader_train, loader_val, optimizer, criterion, epochs=epochs, device=DEVICE)\n",
    "\n",
    "    results.append({\n",
    "        'channels': mc['channels'],\n",
    "        'pools': mc['pools'],\n",
    "        'train_accs': train_accs,\n",
    "        'val_accs': val_accs,\n",
    "        'train_losses': train_losses,\n",
    "        'val_losses': val_losses,\n",
    "        'best_weights': best_wts,\n",
    "        'final_weights': final_wts,\n",
    "    })"
   ]
  },
  {
   "cell_type": "code",
   "execution_count": 14,
   "id": "a7a7a7b2",
   "metadata": {
    "execution": {
     "iopub.execute_input": "2025-06-16T12:21:15.174416Z",
     "iopub.status.busy": "2025-06-16T12:21:15.173439Z",
     "iopub.status.idle": "2025-06-16T12:21:15.181512Z",
     "shell.execute_reply": "2025-06-16T12:21:15.180900Z"
    },
    "id": "loTxaczVDl4A",
    "papermill": {
     "duration": 2.836986,
     "end_time": "2025-06-16T12:21:15.182746",
     "exception": false,
     "start_time": "2025-06-16T12:21:12.345760",
     "status": "completed"
    },
    "tags": []
   },
   "outputs": [],
   "source": [
    "def plot_results(results):\n",
    "    plt.figure(figsize=(10, 6))\n",
    "\n",
    "    for r in results:\n",
    "        label = f\"C: {r['channels']}, P: {r['pools']}\"\n",
    "        train_losses = [l.item() if torch.is_tensor(l) else l for l in r['train_losses']]\n",
    "        val_losses = [l.item() if torch.is_tensor(l) else l for l in r['val_losses']]\n",
    "        plt.plot(train_losses, label=f\"{label} - Train\")\n",
    "        plt.plot(val_losses, linestyle='--', label=f\"{label} - Val\")\n",
    "    plt.title(\"Losses\")\n",
    "    plt.xlabel(\"Epoch\")\n",
    "    plt.ylabel(\"Loss\")\n",
    "    plt.legend(bbox_to_anchor=(1.05, 1), loc='upper left')\n",
    "    plt.show()\n",
    "\n",
    "    plt.figure(figsize=(10, 6))\n",
    "    for r in results:\n",
    "        label = f\"C: {r['channels']}, P: {r['pools']}\"\n",
    "        train_accs = [a.item() if torch.is_tensor(a) else a for a in r['train_accs']]\n",
    "        val_accs = [a.item() if torch.is_tensor(a) else a for a in r['val_accs']]\n",
    "        plt.plot(train_accs, label=f\"{label} - Train\")\n",
    "        plt.plot(val_accs, linestyle='--', label=f\"{label} - Val\")\n",
    "    plt.title(\"Accuracies\")\n",
    "    plt.xlabel(\"Epoch\")\n",
    "    plt.ylabel(\"Accuracy\")\n",
    "    plt.legend(bbox_to_anchor=(1.05, 1), loc='upper left')\n",
    "    plt.show()\n"
   ]
  },
  {
   "cell_type": "code",
   "execution_count": 15,
   "id": "647d6290",
   "metadata": {
    "execution": {
     "iopub.execute_input": "2025-06-16T12:21:20.804005Z",
     "iopub.status.busy": "2025-06-16T12:21:20.803309Z",
     "iopub.status.idle": "2025-06-16T12:21:20.809173Z",
     "shell.execute_reply": "2025-06-16T12:21:20.808401Z"
    },
    "papermill": {
     "duration": 2.859076,
     "end_time": "2025-06-16T12:21:20.810646",
     "exception": false,
     "start_time": "2025-06-16T12:21:17.951570",
     "status": "completed"
    },
    "tags": []
   },
   "outputs": [],
   "source": [
    "def evaluate_best_models(results, loader_train, loader_val, loader_test, device):\n",
    "    print(\"=== Final Evaluation with Best Weights ===\")\n",
    "    for r in results:\n",
    "        model = RegDeepCNN(r['channels'], r['pools']).to(device)\n",
    "        model.load_state_dict(r['best_weights'])\n",
    "\n",
    "        train_acc, _ = check_accuracy_and_loss(loader_train, model, device)\n",
    "        val_acc, _ = check_accuracy_and_loss(loader_val, model, device)\n",
    "        test_acc, _ = check_accuracy_and_loss(loader_test, model, device)\n",
    "\n",
    "        print(f\"Channels: {r['channels']}, Pools: {r['pools']}\")\n",
    "        print(f\"  Train Acc: {train_acc:.2%}, Val Acc: {val_acc:.2%}, Test Acc: {test_acc:.2%}\\n\")\n"
   ]
  },
  {
   "cell_type": "code",
   "execution_count": 16,
   "id": "f97924fb",
   "metadata": {
    "execution": {
     "iopub.execute_input": "2025-06-16T12:21:26.278024Z",
     "iopub.status.busy": "2025-06-16T12:21:26.277313Z",
     "iopub.status.idle": "2025-06-16T12:22:29.828318Z",
     "shell.execute_reply": "2025-06-16T12:22:29.827348Z"
    },
    "papermill": {
     "duration": 66.251099,
     "end_time": "2025-06-16T12:22:29.829709",
     "exception": false,
     "start_time": "2025-06-16T12:21:23.578610",
     "status": "completed"
    },
    "tags": []
   },
   "outputs": [
    {
     "data": {
      "image/png": "[encoded data removed]",
      "text/plain": [
       "<Figure size 1000x600 with 1 Axes>"
      ]
     },
     "metadata": {},
     "output_type": "display_data"
    },
    {
     "data": {
      "image/png": "[encoded data removed]",
      "text/plain": [
       "<Figure size 1000x600 with 1 Axes>"
      ]
     },
     "metadata": {},
     "output_type": "display_data"
    },
    {
     "name": "stdout",
     "output_type": "stream",
     "text": [
      "=== Final Evaluation with Best Weights ===\n",
      "Channels: [64, 128, 256, 256], Pools: [False, True, True, True]\n",
      "  Train Acc: 88.88%, Val Acc: 45.10%, Test Acc: 48.37%\n",
      "\n",
      "Channels: [64, 128, 256, 256], Pools: [False, True, False, True]\n",
      "  Train Acc: 93.40%, Val Acc: 45.70%, Test Acc: 45.04%\n",
      "\n",
      "Channels: [64, 128, 128, 256], Pools: [False, True, False, True]\n",
      "  Train Acc: 93.32%, Val Acc: 44.90%, Test Acc: 44.35%\n",
      "\n",
      "Channels: [64, 64, 128, 128, 256], Pools: [False, True, False, True, False]\n",
      "  Train Acc: 93.57%, Val Acc: 43.70%, Test Acc: 45.03%\n",
      "\n"
     ]
    }
   ],
   "source": [
    "plot_results(results)\n",
    "evaluate_best_models(results, loader_train, loader_val, loader_test, DEVICE)"
   ]
  },
  {
   "cell_type": "code",
   "execution_count": null,
   "id": "e740bff8",
   "metadata": {
    "papermill": {
     "duration": 2.800133,
     "end_time": "2025-06-16T12:22:35.478646",
     "exception": false,
     "start_time": "2025-06-16T12:22:32.678513",
     "status": "completed"
    },
    "tags": []
   },
   "outputs": [],
   "source": []
  }
 ],
 "metadata": {
  "accelerator": "GPU",
  "colab": {
   "authorship_tag": "ABX9TyP3r2bmBrpOJCjjode63FE8",
   "collapsed_sections": [
    "U0Co_fPO7TOx",
    "eflCsz6MyTHV"
   ],
   "gpuType": "T4",
   "provenance": []
  },
  "kaggle": {
   "accelerator": "nvidiaTeslaT4",
   "dataSources": [],
   "dockerImageVersionId": 31041,
   "isGpuEnabled": true,
   "isInternetEnabled": true,
   "language": "python",
   "sourceType": "notebook"
  },
  "kernelspec": {
   "display_name": "Python 3",
   "language": "python",
   "name": "python3"
  },
  "language_info": {
   "codemirror_mode": {
    "name": "ipython",
    "version": 3
   },
   "file_extension": ".py",
   "mimetype": "text/x-python",
   "name": "python",
   "nbconvert_exporter": "python",
   "pygments_lexer": "ipython3",
   "version": "3.11.11"
  },
  "papermill": {
   "default_parameters": {},
   "duration": 2396.128679,
   "end_time": "2025-06-16T12:22:41.341106",
   "environment_variables": {},
   "exception": null,
   "input_path": "__notebook__.ipynb",
   "output_path": "__notebook__.ipynb",
   "parameters": {},
   "start_time": "2025-06-16T11:42:45.212427",
   "version": "2.6.0"
  }
 },
 "nbformat": 4,
 "nbformat_minor": 5
}
